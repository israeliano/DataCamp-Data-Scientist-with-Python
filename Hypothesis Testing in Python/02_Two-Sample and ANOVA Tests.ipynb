{
 "cells": [
  {
   "cell_type": "markdown",
   "metadata": {},
   "source": [
    "# Two-Sample and ANOVA Tests"
   ]
  },
  {
   "cell_type": "markdown",
   "metadata": {},
   "source": [
    "## Imports"
   ]
  },
  {
   "cell_type": "code",
   "execution_count": 21,
   "metadata": {},
   "outputs": [],
   "source": [
    "import numpy as np\n",
    "import pandas as pd\n",
    "import matplotlib.pyplot as plt\n",
    "import seaborn as sns\n",
    "\n",
    "import pingouin\n",
    "from scipy.stats import t"
   ]
  },
  {
   "cell_type": "code",
   "execution_count": 18,
   "metadata": {},
   "outputs": [],
   "source": [
    "sample_dem_data = pd.read_feather('dem_votes_potus_12_16.feather')\n",
    "late_shipments = pd.read_feather('late_shipments.feather')"
   ]
  },
  {
   "cell_type": "code",
   "execution_count": 4,
   "metadata": {},
   "outputs": [],
   "source": [
    "xbar_yes, xbar_no = 2715.6721311475408, 1897.7912673056444\n",
    "s_yes, s_no = 2544.688210903328, 3154.0395070841687\n",
    "n_yes, n_no = 61, 939"
   ]
  },
  {
   "cell_type": "code",
   "execution_count": 7,
   "metadata": {},
   "outputs": [],
   "source": [
    "t_stat = -2.3936661778766433"
   ]
  },
  {
   "cell_type": "markdown",
   "metadata": {},
   "source": [
    "## Performing t-tests"
   ]
  },
  {
   "cell_type": "markdown",
   "metadata": {},
   "source": [
    "### Two sample mean test statistic"
   ]
  },
  {
   "cell_type": "code",
   "execution_count": 5,
   "metadata": {},
   "outputs": [
    {
     "name": "stdout",
     "output_type": "stream",
     "text": [
      "2.3936661778766433\n"
     ]
    }
   ],
   "source": [
    "# Calculate the numerator of the test statistic\n",
    "numerator = xbar_yes - xbar_no\n",
    "\n",
    "# Calculate the denominator of the test statistic\n",
    "denominator = np.sqrt(s_yes**2 / n_yes + s_no ** 2 / n_no)\n",
    "\n",
    "# Calculate the test statistic\n",
    "t_stat = numerator / denominator\n",
    "\n",
    "# Print the test statistic\n",
    "print(t_stat)"
   ]
  },
  {
   "cell_type": "markdown",
   "metadata": {},
   "source": [
    "## Calculating p-values from t-statistics"
   ]
  },
  {
   "cell_type": "markdown",
   "metadata": {},
   "source": [
    "### From t to p"
   ]
  },
  {
   "cell_type": "code",
   "execution_count": 8,
   "metadata": {},
   "outputs": [
    {
     "name": "stdout",
     "output_type": "stream",
     "text": [
      "0.008432382146249523\n"
     ]
    }
   ],
   "source": [
    "# Calculate the degrees of freedom\n",
    "degrees_of_freedom = n_no + n_yes - 2\n",
    "\n",
    "# Calculate the p-value from the test stat\n",
    "p_value = t.cdf(t_stat, df=degrees_of_freedom)\n",
    "\n",
    "# Print the p_value\n",
    "print(p_value)"
   ]
  },
  {
   "cell_type": "markdown",
   "metadata": {},
   "source": [
    "## Paired t-tests"
   ]
  },
  {
   "cell_type": "markdown",
   "metadata": {},
   "source": [
    "### Visualizing the difference"
   ]
  },
  {
   "cell_type": "code",
   "execution_count": 11,
   "metadata": {},
   "outputs": [
    {
     "name": "stdout",
     "output_type": "stream",
     "text": [
      "       state       county  dem_percent_12  dem_percent_16       diff\n",
      "0    Alabama      Bullock       76.305900       74.946921   1.358979\n",
      "1    Alabama      Chilton       19.453671       15.847352   3.606319\n",
      "2    Alabama         Clay       26.673672       18.674517   7.999155\n",
      "3    Alabama      Cullman       14.661752       10.028252   4.633500\n",
      "4    Alabama     Escambia       36.915731       31.020546   5.895185\n",
      "..       ...          ...             ...             ...        ...\n",
      "495  Wyoming        Uinta       19.065464       14.191263   4.874201\n",
      "496  Wyoming     Washakie       20.131846       13.948610   6.183235\n",
      "497   Alaska   District 3       33.514582       16.301064  17.213518\n",
      "498   Alaska  District 18       61.284271       52.810051   8.474220\n",
      "499   Alaska  District 24       42.913980       39.405286   3.508694\n",
      "\n",
      "[500 rows x 5 columns]\n"
     ]
    }
   ],
   "source": [
    "# Calculate the differences from 2012 to 2016\n",
    "sample_dem_data['diff'] = sample_dem_data['dem_percent_12'] - sample_dem_data['dem_percent_16']\n",
    "\n",
    "# Print sample_dem_data\n",
    "print(sample_dem_data)"
   ]
  },
  {
   "cell_type": "code",
   "execution_count": 12,
   "metadata": {},
   "outputs": [
    {
     "name": "stdout",
     "output_type": "stream",
     "text": [
      "6.829312660106834\n"
     ]
    }
   ],
   "source": [
    "# Calculate the differences from 2012 to 2016\n",
    "sample_dem_data['diff'] = sample_dem_data['dem_percent_12'] - sample_dem_data['dem_percent_16']\n",
    "\n",
    "# Find the mean of the diff column\n",
    "xbar_diff = sample_dem_data['diff'].mean()\n",
    "\n",
    "# Print xbar_diff\n",
    "print(xbar_diff)"
   ]
  },
  {
   "cell_type": "code",
   "execution_count": 13,
   "metadata": {},
   "outputs": [
    {
     "name": "stdout",
     "output_type": "stream",
     "text": [
      "5.040139140132316\n"
     ]
    }
   ],
   "source": [
    "# Calculate the differences from 2012 to 2016\n",
    "sample_dem_data['diff'] = sample_dem_data['dem_percent_12'] - sample_dem_data['dem_percent_16']\n",
    "\n",
    "# Find the mean of the diff column\n",
    "xbar_diff = sample_dem_data['diff'].mean()\n",
    "\n",
    "# Find the standard deviation of the diff column\n",
    "s_diff = sample_dem_data['diff'].std()\n",
    "\n",
    "# Print s_diff\n",
    "print(s_diff)"
   ]
  },
  {
   "cell_type": "code",
   "execution_count": 14,
   "metadata": {},
   "outputs": [
    {
     "data": {
      "image/png": "[encoded data removed]",
      "text/plain": [
       "<Figure size 640x480 with 1 Axes>"
      ]
     },
     "metadata": {},
     "output_type": "display_data"
    }
   ],
   "source": [
    "# Calculate the differences from 2012 to 2016\n",
    "sample_dem_data['diff'] = sample_dem_data['dem_percent_12'] - sample_dem_data['dem_percent_16']\n",
    "\n",
    "# Find the mean of the diff column\n",
    "xbar_diff = sample_dem_data['diff'].mean()\n",
    "\n",
    "# Find the standard deviation of the diff column\n",
    "s_diff = sample_dem_data['diff'].std()\n",
    "\n",
    "# Plot a histogram of diff with 20 bins\n",
    "sample_dem_data['diff'].hist(bins=20)\n",
    "plt.show()"
   ]
  },
  {
   "cell_type": "markdown",
   "metadata": {},
   "source": [
    "### Using ttest()"
   ]
  },
  {
   "cell_type": "code",
   "execution_count": 16,
   "metadata": {},
   "outputs": [
    {
     "name": "stdout",
     "output_type": "stream",
     "text": [
      "                T  dof alternative          p-val         CI95%   cohen-d  \\\n",
      "T-test  30.298384  499   two-sided  3.600634e-115  [6.39, 7.27]  1.354985   \n",
      "\n",
      "              BF10 power  \n",
      "T-test  2.246e+111   NaN  \n"
     ]
    }
   ],
   "source": [
    "# Conduct a t-test on diff\n",
    "test_results = pingouin.ttest(\n",
    "    x=sample_dem_data['diff'],\n",
    "    y=0,\n",
    "    alternative='two-sided'\n",
    ")\n",
    "                              \n",
    "# Print the test results\n",
    "print(test_results)"
   ]
  },
  {
   "cell_type": "code",
   "execution_count": 17,
   "metadata": {},
   "outputs": [
    {
     "name": "stdout",
     "output_type": "stream",
     "text": [
      "               T  dof alternative         p-val        CI95%   cohen-d  \\\n",
      "T-test  7.181565  998   two-sided  1.345737e-12  [4.96, 8.7]  0.454202   \n",
      "\n",
      "             BF10  power  \n",
      "T-test  4.308e+09    1.0  \n"
     ]
    }
   ],
   "source": [
    "# Conduct a t-test on diff\n",
    "test_results = pingouin.ttest(x=sample_dem_data['diff'],\n",
    "                              y=0,\n",
    "                              alternative=\"two-sided\")\n",
    "\n",
    "# Conduct a paired t-test on dem_percent_12 and dem_percent_16\n",
    "paired_test_results = pingouin.ttest(x=sample_dem_data['dem_percent_12'],\n",
    "                                     y=sample_dem_data['dem_percent_16'],\n",
    "                                     alternative=\"two-sided\")\n",
    "\n",
    "\n",
    "# Print the paired test results\n",
    "print(paired_test_results)"
   ]
  },
  {
   "cell_type": "markdown",
   "metadata": {},
   "source": [
    "## ANOVA tests"
   ]
  },
  {
   "cell_type": "markdown",
   "metadata": {},
   "source": [
    "### Visualizing many categories"
   ]
  },
  {
   "cell_type": "code",
   "execution_count": 19,
   "metadata": {},
   "outputs": [
    {
     "name": "stdout",
     "output_type": "stream",
     "text": [
      "shipment_mode\n",
      "Air            39.712395\n",
      "Air Charter     4.226667\n",
      "Ocean           6.432273\n",
      "Name: pack_price, dtype: float64\n"
     ]
    }
   ],
   "source": [
    "# Calculate the mean pack_price for each shipment_mode\n",
    "xbar_pack_by_mode = late_shipments.groupby('shipment_mode')['pack_price'].mean()\n",
    "\n",
    "# Print the grouped means\n",
    "print(xbar_pack_by_mode)"
   ]
  },
  {
   "cell_type": "code",
   "execution_count": 20,
   "metadata": {},
   "outputs": [
    {
     "name": "stdout",
     "output_type": "stream",
     "text": [
      "shipment_mode\n",
      "Air            48.932861\n",
      "Air Charter     0.992969\n",
      "Ocean           5.303047\n",
      "Name: pack_price, dtype: float64\n"
     ]
    }
   ],
   "source": [
    "# Calculate the mean pack_price for each shipment_mode\n",
    "xbar_pack_by_mode = late_shipments.groupby(\"shipment_mode\")['pack_price'].mean()\n",
    "\n",
    "# Calculate the standard deviation of the pack_price for each shipment_mode\n",
    "s_pack_by_mode = late_shipments.groupby(\"shipment_mode\")['pack_price'].std()\n",
    "\n",
    "# Print the grouped standard deviations\n",
    "print(s_pack_by_mode)"
   ]
  },
  {
   "cell_type": "code",
   "execution_count": 22,
   "metadata": {},
   "outputs": [
    {
     "data": {
      "image/png": "[encoded data removed]",
      "text/plain": [
       "<Figure size 640x480 with 1 Axes>"
      ]
     },
     "metadata": {},
     "output_type": "display_data"
    }
   ],
   "source": [
    "# Calculate the mean pack_price for each shipment_mode\n",
    "xbar_pack_by_mode = late_shipments.groupby(\"shipment_mode\")['pack_price'].mean()\n",
    "\n",
    "# Calculate the standard deviation of the pack_price for each shipment_mode\n",
    "s_pack_by_mode = late_shipments.groupby(\"shipment_mode\")['pack_price'].std()\n",
    "\n",
    "# Boxplot of shipment_mode vs. pack_price\n",
    "sns.boxplot(\n",
    "    x='pack_price',\n",
    "    y='shipment_mode',\n",
    "    data=late_shipments\n",
    ")\n",
    "plt.show()"
   ]
  },
  {
   "cell_type": "markdown",
   "metadata": {},
   "source": [
    "### Conducting an ANOVA test"
   ]
  },
  {
   "cell_type": "code",
   "execution_count": 23,
   "metadata": {},
   "outputs": [
    {
     "name": "stdout",
     "output_type": "stream",
     "text": [
      "          Source  ddof1  ddof2        F         p-unc       np2\n",
      "0  shipment_mode      2    997  21.8646  5.089479e-10  0.042018\n"
     ]
    }
   ],
   "source": [
    "# Run an ANOVA for pack_price across shipment_mode\n",
    "anova_results = pingouin.anova(\n",
    "    data=late_shipments,\n",
    "    dv='pack_price',\n",
    "    between='shipment_mode'\n",
    ")\n",
    "\n",
    "# Print anova_results\n",
    "print(anova_results)"
   ]
  },
  {
   "cell_type": "markdown",
   "metadata": {},
   "source": [
    "### Pairwise t-tests"
   ]
  },
  {
   "cell_type": "code",
   "execution_count": 24,
   "metadata": {},
   "outputs": [
    {
     "name": "stdout",
     "output_type": "stream",
     "text": [
      "        Contrast            A            B  Paired  Parametric          T  \\\n",
      "0  shipment_mode          Air  Air Charter   False        True  21.179625   \n",
      "1  shipment_mode          Air        Ocean   False        True  19.335760   \n",
      "2  shipment_mode  Air Charter        Ocean   False        True  -3.170654   \n",
      "\n",
      "          dof alternative         p-unc       BF10    hedges  \n",
      "0  600.685682   two-sided  8.748346e-75  5.809e+76  0.726592  \n",
      "1  986.979785   two-sided  6.934555e-71  1.129e+67  0.711119  \n",
      "2   35.615026   two-sided  3.123012e-03     15.277 -0.423775  \n"
     ]
    }
   ],
   "source": [
    "# Perform a pairwise t-test on pack price, grouped by shipment mode\n",
    "pairwise_results = pingouin.pairwise_tests(\n",
    "    data=late_shipments,\n",
    "    dv='pack_price',\n",
    "    between='shipment_mode',\n",
    "    padjust=\"none\"\n",
    ") \n",
    "\n",
    "# Print pairwise_results\n",
    "print(pairwise_results)"
   ]
  },
  {
   "cell_type": "code",
   "execution_count": 25,
   "metadata": {},
   "outputs": [
    {
     "name": "stdout",
     "output_type": "stream",
     "text": [
      "        Contrast            A            B  Paired  Parametric          T  \\\n",
      "0  shipment_mode          Air  Air Charter   False        True  21.179625   \n",
      "1  shipment_mode          Air        Ocean   False        True  19.335760   \n",
      "2  shipment_mode  Air Charter        Ocean   False        True  -3.170654   \n",
      "\n",
      "          dof alternative         p-unc        p-corr p-adjust       BF10  \\\n",
      "0  600.685682   two-sided  8.748346e-75  2.624504e-74     bonf  5.809e+76   \n",
      "1  986.979785   two-sided  6.934555e-71  2.080367e-70     bonf  1.129e+67   \n",
      "2   35.615026   two-sided  3.123012e-03  9.369037e-03     bonf     15.277   \n",
      "\n",
      "     hedges  \n",
      "0  0.726592  \n",
      "1  0.711119  \n",
      "2 -0.423775  \n"
     ]
    }
   ],
   "source": [
    "# Modify the pairwise t-tests to use Bonferroni p-value adjustment\n",
    "pairwise_results = pingouin.pairwise_tests(data=late_shipments, \n",
    "                                           dv=\"pack_price\",\n",
    "                                           between=\"shipment_mode\",\n",
    "                                           padjust=\"bonf\")\n",
    "\n",
    "# Print pairwise_results\n",
    "print(pairwise_results)"
   ]
  }
 ],
 "metadata": {
  "kernelspec": {
   "display_name": "ds2",
   "language": "python",
   "name": "python3"
  },
  "language_info": {
   "codemirror_mode": {
    "name": "ipython",
    "version": 3
   },
   "file_extension": ".py",
   "mimetype": "text/x-python",
   "name": "python",
   "nbconvert_exporter": "python",
   "pygments_lexer": "ipython3",
   "version": "3.12.8"
  }
 },
 "nbformat": 4,
 "nbformat_minor": 2
}
