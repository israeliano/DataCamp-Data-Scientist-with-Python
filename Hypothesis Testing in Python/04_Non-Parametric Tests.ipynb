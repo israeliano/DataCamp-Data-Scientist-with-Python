{
 "cells": [
  {
   "cell_type": "markdown",
   "metadata": {},
   "source": [
    "# Non-Parametric Tests"
   ]
  },
  {
   "cell_type": "markdown",
   "metadata": {},
   "source": [
    "## Imports"
   ]
  },
  {
   "cell_type": "code",
   "execution_count": 35,
   "metadata": {},
   "outputs": [],
   "source": [
    "import pandas as pd\n",
    "import pingouin"
   ]
  },
  {
   "cell_type": "code",
   "execution_count": 14,
   "metadata": {},
   "outputs": [
    {
     "data": {
      "text/html": [
       "<div>\n",
       "<style scoped>\n",
       "    .dataframe tbody tr th:only-of-type {\n",
       "        vertical-align: middle;\n",
       "    }\n",
       "\n",
       "    .dataframe tbody tr th {\n",
       "        vertical-align: top;\n",
       "    }\n",
       "\n",
       "    .dataframe thead th {\n",
       "        text-align: right;\n",
       "    }\n",
       "</style>\n",
       "<table border=\"1\" class=\"dataframe\">\n",
       "  <thead>\n",
       "    <tr style=\"text-align: right;\">\n",
       "      <th></th>\n",
       "      <th>id</th>\n",
       "      <th>country</th>\n",
       "      <th>managed_by</th>\n",
       "      <th>fulfill_via</th>\n",
       "      <th>vendor_inco_term</th>\n",
       "      <th>shipment_mode</th>\n",
       "      <th>late_delivery</th>\n",
       "      <th>late</th>\n",
       "      <th>product_group</th>\n",
       "      <th>sub_classification</th>\n",
       "      <th>...</th>\n",
       "      <th>line_item_quantity</th>\n",
       "      <th>line_item_value</th>\n",
       "      <th>pack_price</th>\n",
       "      <th>unit_price</th>\n",
       "      <th>manufacturing_site</th>\n",
       "      <th>first_line_designation</th>\n",
       "      <th>weight_kilograms</th>\n",
       "      <th>freight_cost_usd</th>\n",
       "      <th>freight_cost_group</th>\n",
       "      <th>line_item_insurance_usd</th>\n",
       "    </tr>\n",
       "  </thead>\n",
       "  <tbody>\n",
       "    <tr>\n",
       "      <th>503</th>\n",
       "      <td>46844.0</td>\n",
       "      <td>Cote d'Ivoire</td>\n",
       "      <td>PMO - US</td>\n",
       "      <td>Direct Drop</td>\n",
       "      <td>EXW</td>\n",
       "      <td>Air</td>\n",
       "      <td>0.0</td>\n",
       "      <td>No</td>\n",
       "      <td>HRDT</td>\n",
       "      <td>HIV test</td>\n",
       "      <td>...</td>\n",
       "      <td>3049.0</td>\n",
       "      <td>82323.0</td>\n",
       "      <td>27.0</td>\n",
       "      <td>1.35</td>\n",
       "      <td>Chembio Diagnostics Sys. Inc.</td>\n",
       "      <td>Yes</td>\n",
       "      <td>904.0</td>\n",
       "      <td>7208.00</td>\n",
       "      <td>expensive</td>\n",
       "      <td>177.49</td>\n",
       "    </tr>\n",
       "    <tr>\n",
       "      <th>693</th>\n",
       "      <td>9749.0</td>\n",
       "      <td>Vietnam</td>\n",
       "      <td>PMO - US</td>\n",
       "      <td>Direct Drop</td>\n",
       "      <td>FCA</td>\n",
       "      <td>Air</td>\n",
       "      <td>0.0</td>\n",
       "      <td>No</td>\n",
       "      <td>ARV</td>\n",
       "      <td>Adult</td>\n",
       "      <td>...</td>\n",
       "      <td>1480.0</td>\n",
       "      <td>121656.0</td>\n",
       "      <td>82.2</td>\n",
       "      <td>0.68</td>\n",
       "      <td>ABBVIE Ludwigshafen Germany</td>\n",
       "      <td>Yes</td>\n",
       "      <td>370.0</td>\n",
       "      <td>2652.33</td>\n",
       "      <td>reasonable</td>\n",
       "      <td>194.65</td>\n",
       "    </tr>\n",
       "    <tr>\n",
       "      <th>711</th>\n",
       "      <td>30220.0</td>\n",
       "      <td>Haiti</td>\n",
       "      <td>PMO - US</td>\n",
       "      <td>Direct Drop</td>\n",
       "      <td>EXW</td>\n",
       "      <td>Air</td>\n",
       "      <td>0.0</td>\n",
       "      <td>No</td>\n",
       "      <td>ARV</td>\n",
       "      <td>Adult</td>\n",
       "      <td>...</td>\n",
       "      <td>1440.0</td>\n",
       "      <td>2592.0</td>\n",
       "      <td>1.8</td>\n",
       "      <td>0.03</td>\n",
       "      <td>Hetero Unit III Hyderabad IN</td>\n",
       "      <td>Yes</td>\n",
       "      <td>99.0</td>\n",
       "      <td>1497.53</td>\n",
       "      <td>reasonable</td>\n",
       "      <td>2.66</td>\n",
       "    </tr>\n",
       "    <tr>\n",
       "      <th>912</th>\n",
       "      <td>66762.0</td>\n",
       "      <td>Cote d'Ivoire</td>\n",
       "      <td>PMO - US</td>\n",
       "      <td>Direct Drop</td>\n",
       "      <td>EXW</td>\n",
       "      <td>Air</td>\n",
       "      <td>0.0</td>\n",
       "      <td>No</td>\n",
       "      <td>HRDT</td>\n",
       "      <td>HIV test</td>\n",
       "      <td>...</td>\n",
       "      <td>3000.0</td>\n",
       "      <td>240000.0</td>\n",
       "      <td>80.0</td>\n",
       "      <td>0.80</td>\n",
       "      <td>Alere Medical Co., Ltd.</td>\n",
       "      <td>Yes</td>\n",
       "      <td>1428.0</td>\n",
       "      <td>28142.92</td>\n",
       "      <td>expensive</td>\n",
       "      <td>336.48</td>\n",
       "    </tr>\n",
       "    <tr>\n",
       "      <th>774</th>\n",
       "      <td>73335.0</td>\n",
       "      <td>Nigeria</td>\n",
       "      <td>PMO - US</td>\n",
       "      <td>Direct Drop</td>\n",
       "      <td>EXW</td>\n",
       "      <td>Air</td>\n",
       "      <td>0.0</td>\n",
       "      <td>No</td>\n",
       "      <td>HRDT</td>\n",
       "      <td>HIV test</td>\n",
       "      <td>...</td>\n",
       "      <td>6704.0</td>\n",
       "      <td>214528.0</td>\n",
       "      <td>32.0</td>\n",
       "      <td>1.60</td>\n",
       "      <td>Trinity Biotech, Plc</td>\n",
       "      <td>Yes</td>\n",
       "      <td>2134.0</td>\n",
       "      <td>13771.63</td>\n",
       "      <td>expensive</td>\n",
       "      <td>252.50</td>\n",
       "    </tr>\n",
       "  </tbody>\n",
       "</table>\n",
       "<p>5 rows × 27 columns</p>\n",
       "</div>"
      ],
      "text/plain": [
       "          id        country managed_by  fulfill_via vendor_inco_term  \\\n",
       "503  46844.0  Cote d'Ivoire   PMO - US  Direct Drop              EXW   \n",
       "693   9749.0        Vietnam   PMO - US  Direct Drop              FCA   \n",
       "711  30220.0          Haiti   PMO - US  Direct Drop              EXW   \n",
       "912  66762.0  Cote d'Ivoire   PMO - US  Direct Drop              EXW   \n",
       "774  73335.0        Nigeria   PMO - US  Direct Drop              EXW   \n",
       "\n",
       "    shipment_mode  late_delivery late product_group sub_classification  ...  \\\n",
       "503           Air            0.0   No          HRDT           HIV test  ...   \n",
       "693           Air            0.0   No           ARV              Adult  ...   \n",
       "711           Air            0.0   No           ARV              Adult  ...   \n",
       "912           Air            0.0   No          HRDT           HIV test  ...   \n",
       "774           Air            0.0   No          HRDT           HIV test  ...   \n",
       "\n",
       "    line_item_quantity line_item_value pack_price unit_price  \\\n",
       "503             3049.0         82323.0       27.0       1.35   \n",
       "693             1480.0        121656.0       82.2       0.68   \n",
       "711             1440.0          2592.0        1.8       0.03   \n",
       "912             3000.0        240000.0       80.0       0.80   \n",
       "774             6704.0        214528.0       32.0       1.60   \n",
       "\n",
       "                manufacturing_site first_line_designation  weight_kilograms  \\\n",
       "503  Chembio Diagnostics Sys. Inc.                    Yes             904.0   \n",
       "693    ABBVIE Ludwigshafen Germany                    Yes             370.0   \n",
       "711   Hetero Unit III Hyderabad IN                    Yes              99.0   \n",
       "912        Alere Medical Co., Ltd.                    Yes            1428.0   \n",
       "774           Trinity Biotech, Plc                    Yes            2134.0   \n",
       "\n",
       "     freight_cost_usd  freight_cost_group  line_item_insurance_usd  \n",
       "503           7208.00           expensive                   177.49  \n",
       "693           2652.33          reasonable                   194.65  \n",
       "711           1497.53          reasonable                     2.66  \n",
       "912          28142.92           expensive                   336.48  \n",
       "774          13771.63           expensive                   252.50  \n",
       "\n",
       "[5 rows x 27 columns]"
      ]
     },
     "execution_count": 14,
     "metadata": {},
     "output_type": "execute_result"
    }
   ],
   "source": [
    "late_shipments = pd.read_feather('late_shipments.feather').rename(\n",
    "    columns={\n",
    "        'freight_cost_groups': 'freight_cost_group'\n",
    "    })\n",
    "late_shipments.sample(5)"
   ]
  },
  {
   "cell_type": "code",
   "execution_count": 25,
   "metadata": {},
   "outputs": [
    {
     "data": {
      "text/html": [
       "<div>\n",
       "<style scoped>\n",
       "    .dataframe tbody tr th:only-of-type {\n",
       "        vertical-align: middle;\n",
       "    }\n",
       "\n",
       "    .dataframe tbody tr th {\n",
       "        vertical-align: top;\n",
       "    }\n",
       "\n",
       "    .dataframe thead th {\n",
       "        text-align: right;\n",
       "    }\n",
       "</style>\n",
       "<table border=\"1\" class=\"dataframe\">\n",
       "  <thead>\n",
       "    <tr style=\"text-align: right;\">\n",
       "      <th></th>\n",
       "      <th>state</th>\n",
       "      <th>county</th>\n",
       "      <th>dem_percent_12</th>\n",
       "      <th>dem_percent_16</th>\n",
       "    </tr>\n",
       "  </thead>\n",
       "  <tbody>\n",
       "    <tr>\n",
       "      <th>131</th>\n",
       "      <td>Iowa</td>\n",
       "      <td>Howard</td>\n",
       "      <td>59.590958</td>\n",
       "      <td>36.784383</td>\n",
       "    </tr>\n",
       "    <tr>\n",
       "      <th>218</th>\n",
       "      <td>Minnesota</td>\n",
       "      <td>Renville</td>\n",
       "      <td>44.020752</td>\n",
       "      <td>27.833290</td>\n",
       "    </tr>\n",
       "    <tr>\n",
       "      <th>444</th>\n",
       "      <td>Texas</td>\n",
       "      <td>Titus</td>\n",
       "      <td>29.907386</td>\n",
       "      <td>27.571929</td>\n",
       "    </tr>\n",
       "    <tr>\n",
       "      <th>2</th>\n",
       "      <td>Alabama</td>\n",
       "      <td>Clay</td>\n",
       "      <td>26.673672</td>\n",
       "      <td>18.674517</td>\n",
       "    </tr>\n",
       "    <tr>\n",
       "      <th>202</th>\n",
       "      <td>Michigan</td>\n",
       "      <td>Ottawa</td>\n",
       "      <td>32.300169</td>\n",
       "      <td>31.508260</td>\n",
       "    </tr>\n",
       "  </tbody>\n",
       "</table>\n",
       "</div>"
      ],
      "text/plain": [
       "         state    county  dem_percent_12  dem_percent_16\n",
       "131       Iowa    Howard       59.590958       36.784383\n",
       "218  Minnesota  Renville       44.020752       27.833290\n",
       "444      Texas     Titus       29.907386       27.571929\n",
       "2      Alabama      Clay       26.673672       18.674517\n",
       "202   Michigan    Ottawa       32.300169       31.508260"
      ]
     },
     "execution_count": 25,
     "metadata": {},
     "output_type": "execute_result"
    }
   ],
   "source": [
    "sample_dem_data = pd.read_feather('dem_votes_potus_12_16.feather')\n",
    "sample_dem_data.sample(5)"
   ]
  },
  {
   "cell_type": "code",
   "execution_count": 30,
   "metadata": {},
   "outputs": [
    {
     "data": {
      "text/html": [
       "<div>\n",
       "<style scoped>\n",
       "    .dataframe tbody tr th:only-of-type {\n",
       "        vertical-align: middle;\n",
       "    }\n",
       "\n",
       "    .dataframe tbody tr th {\n",
       "        vertical-align: top;\n",
       "    }\n",
       "\n",
       "    .dataframe thead th {\n",
       "        text-align: right;\n",
       "    }\n",
       "</style>\n",
       "<table border=\"1\" class=\"dataframe\">\n",
       "  <thead>\n",
       "    <tr style=\"text-align: right;\">\n",
       "      <th></th>\n",
       "      <th>id</th>\n",
       "      <th>country</th>\n",
       "      <th>managed_by</th>\n",
       "      <th>fulfill_via</th>\n",
       "      <th>vendor_inco_term</th>\n",
       "      <th>shipment_mode</th>\n",
       "      <th>late_delivery</th>\n",
       "      <th>late</th>\n",
       "      <th>product_group</th>\n",
       "      <th>sub_classification</th>\n",
       "      <th>...</th>\n",
       "      <th>line_item_quantity</th>\n",
       "      <th>line_item_value</th>\n",
       "      <th>pack_price</th>\n",
       "      <th>unit_price</th>\n",
       "      <th>manufacturing_site</th>\n",
       "      <th>first_line_designation</th>\n",
       "      <th>weight_kilograms</th>\n",
       "      <th>freight_cost_usd</th>\n",
       "      <th>freight_cost_groups</th>\n",
       "      <th>line_item_insurance_usd</th>\n",
       "    </tr>\n",
       "  </thead>\n",
       "  <tbody>\n",
       "    <tr>\n",
       "      <th>516</th>\n",
       "      <td>19246.0</td>\n",
       "      <td>Tanzania</td>\n",
       "      <td>PMO - US</td>\n",
       "      <td>Direct Drop</td>\n",
       "      <td>EXW</td>\n",
       "      <td>Air</td>\n",
       "      <td>0.0</td>\n",
       "      <td>No</td>\n",
       "      <td>ARV</td>\n",
       "      <td>Adult</td>\n",
       "      <td>...</td>\n",
       "      <td>5175.0</td>\n",
       "      <td>116437.5</td>\n",
       "      <td>22.50</td>\n",
       "      <td>0.75</td>\n",
       "      <td>Mylan (formerly Matrix) Nashik</td>\n",
       "      <td>Yes</td>\n",
       "      <td>775.0</td>\n",
       "      <td>4136.58</td>\n",
       "      <td>reasonable</td>\n",
       "      <td>144.03</td>\n",
       "    </tr>\n",
       "    <tr>\n",
       "      <th>57</th>\n",
       "      <td>6691.0</td>\n",
       "      <td>Vietnam</td>\n",
       "      <td>PMO - US</td>\n",
       "      <td>Direct Drop</td>\n",
       "      <td>EXW</td>\n",
       "      <td>Air</td>\n",
       "      <td>0.0</td>\n",
       "      <td>No</td>\n",
       "      <td>ARV</td>\n",
       "      <td>Adult</td>\n",
       "      <td>...</td>\n",
       "      <td>100.0</td>\n",
       "      <td>894.0</td>\n",
       "      <td>8.94</td>\n",
       "      <td>0.15</td>\n",
       "      <td>Ranbaxy, Paonta Shahib, India</td>\n",
       "      <td>Yes</td>\n",
       "      <td>6.0</td>\n",
       "      <td>2794.34</td>\n",
       "      <td>reasonable</td>\n",
       "      <td>1.43</td>\n",
       "    </tr>\n",
       "    <tr>\n",
       "      <th>718</th>\n",
       "      <td>46209.0</td>\n",
       "      <td>Rwanda</td>\n",
       "      <td>PMO - US</td>\n",
       "      <td>Direct Drop</td>\n",
       "      <td>EXW</td>\n",
       "      <td>Air</td>\n",
       "      <td>0.0</td>\n",
       "      <td>No</td>\n",
       "      <td>HRDT</td>\n",
       "      <td>HIV test</td>\n",
       "      <td>...</td>\n",
       "      <td>5084.0</td>\n",
       "      <td>355880.0</td>\n",
       "      <td>70.00</td>\n",
       "      <td>0.70</td>\n",
       "      <td>Inverness Japan</td>\n",
       "      <td>Yes</td>\n",
       "      <td>1153.0</td>\n",
       "      <td>46638.41</td>\n",
       "      <td>expensive</td>\n",
       "      <td>697.52</td>\n",
       "    </tr>\n",
       "    <tr>\n",
       "      <th>602</th>\n",
       "      <td>9351.0</td>\n",
       "      <td>Tanzania</td>\n",
       "      <td>PMO - US</td>\n",
       "      <td>Direct Drop</td>\n",
       "      <td>EXW</td>\n",
       "      <td>Air</td>\n",
       "      <td>0.0</td>\n",
       "      <td>No</td>\n",
       "      <td>HRDT</td>\n",
       "      <td>HIV test</td>\n",
       "      <td>...</td>\n",
       "      <td>10000.0</td>\n",
       "      <td>200000.0</td>\n",
       "      <td>20.00</td>\n",
       "      <td>0.80</td>\n",
       "      <td>Standard Diagnostics, Korea</td>\n",
       "      <td>Yes</td>\n",
       "      <td>3345.0</td>\n",
       "      <td>29470.00</td>\n",
       "      <td>expensive</td>\n",
       "      <td>320.00</td>\n",
       "    </tr>\n",
       "    <tr>\n",
       "      <th>126</th>\n",
       "      <td>38662.0</td>\n",
       "      <td>Malawi</td>\n",
       "      <td>PMO - US</td>\n",
       "      <td>Direct Drop</td>\n",
       "      <td>EXW</td>\n",
       "      <td>Air</td>\n",
       "      <td>0.0</td>\n",
       "      <td>No</td>\n",
       "      <td>HRDT</td>\n",
       "      <td>HIV test</td>\n",
       "      <td>...</td>\n",
       "      <td>246.0</td>\n",
       "      <td>19680.0</td>\n",
       "      <td>80.00</td>\n",
       "      <td>0.80</td>\n",
       "      <td>Alere Medical Co., Ltd.</td>\n",
       "      <td>Yes</td>\n",
       "      <td>114.0</td>\n",
       "      <td>3278.11</td>\n",
       "      <td>reasonable</td>\n",
       "      <td>27.59</td>\n",
       "    </tr>\n",
       "  </tbody>\n",
       "</table>\n",
       "<p>5 rows × 27 columns</p>\n",
       "</div>"
      ],
      "text/plain": [
       "          id   country managed_by  fulfill_via vendor_inco_term shipment_mode  \\\n",
       "516  19246.0  Tanzania   PMO - US  Direct Drop              EXW           Air   \n",
       "57    6691.0   Vietnam   PMO - US  Direct Drop              EXW           Air   \n",
       "718  46209.0    Rwanda   PMO - US  Direct Drop              EXW           Air   \n",
       "602   9351.0  Tanzania   PMO - US  Direct Drop              EXW           Air   \n",
       "126  38662.0    Malawi   PMO - US  Direct Drop              EXW           Air   \n",
       "\n",
       "     late_delivery late product_group sub_classification  ...  \\\n",
       "516            0.0   No           ARV              Adult  ...   \n",
       "57             0.0   No           ARV              Adult  ...   \n",
       "718            0.0   No          HRDT           HIV test  ...   \n",
       "602            0.0   No          HRDT           HIV test  ...   \n",
       "126            0.0   No          HRDT           HIV test  ...   \n",
       "\n",
       "    line_item_quantity line_item_value pack_price unit_price  \\\n",
       "516             5175.0        116437.5      22.50       0.75   \n",
       "57               100.0           894.0       8.94       0.15   \n",
       "718             5084.0        355880.0      70.00       0.70   \n",
       "602            10000.0        200000.0      20.00       0.80   \n",
       "126              246.0         19680.0      80.00       0.80   \n",
       "\n",
       "                 manufacturing_site first_line_designation  weight_kilograms  \\\n",
       "516  Mylan (formerly Matrix) Nashik                    Yes             775.0   \n",
       "57    Ranbaxy, Paonta Shahib, India                    Yes               6.0   \n",
       "718                 Inverness Japan                    Yes            1153.0   \n",
       "602     Standard Diagnostics, Korea                    Yes            3345.0   \n",
       "126         Alere Medical Co., Ltd.                    Yes             114.0   \n",
       "\n",
       "     freight_cost_usd  freight_cost_groups  line_item_insurance_usd  \n",
       "516           4136.58           reasonable                   144.03  \n",
       "57            2794.34           reasonable                     1.43  \n",
       "718          46638.41            expensive                   697.52  \n",
       "602          29470.00            expensive                   320.00  \n",
       "126           3278.11           reasonable                    27.59  \n",
       "\n",
       "[5 rows x 27 columns]"
      ]
     },
     "execution_count": 30,
     "metadata": {},
     "output_type": "execute_result"
    }
   ],
   "source": [
    "late_shipments = pd.read_feather('late_shipments.feather')\n",
    "late_shipments.sample(5)"
   ]
  },
  {
   "cell_type": "markdown",
   "metadata": {},
   "source": [
    "## Assumptions in hypothesis testing"
   ]
  },
  {
   "cell_type": "markdown",
   "metadata": {},
   "source": [
    "### Testing sample size"
   ]
  },
  {
   "cell_type": "code",
   "execution_count": 15,
   "metadata": {},
   "outputs": [
    {
     "name": "stdout",
     "output_type": "stream",
     "text": [
      "freight_cost_group\n",
      "expensive     531\n",
      "reasonable    455\n",
      "Name: count, dtype: int64\n",
      "True\n"
     ]
    }
   ],
   "source": [
    "# Count the freight_cost_group values\n",
    "counts = late_shipments['freight_cost_group'].value_counts()\n",
    "\n",
    "# Print the result\n",
    "print(counts)\n",
    "\n",
    "# Inspect whether the counts are big enough\n",
    "print((counts >= 30).all())"
   ]
  },
  {
   "cell_type": "code",
   "execution_count": 17,
   "metadata": {},
   "outputs": [
    {
     "name": "stdout",
     "output_type": "stream",
     "text": [
      "late\n",
      "No     939\n",
      "Yes     61\n",
      "Name: count, dtype: int64\n",
      "True\n"
     ]
    }
   ],
   "source": [
    "# Count the late values\n",
    "counts = late_shipments['late'].value_counts()\n",
    "\n",
    "# Print the result\n",
    "print(counts)\n",
    "\n",
    "# Inspect whether the counts are big enough\n",
    "print((counts >= 10).all())"
   ]
  },
  {
   "cell_type": "code",
   "execution_count": 19,
   "metadata": {},
   "outputs": [
    {
     "name": "stdout",
     "output_type": "stream",
     "text": [
      "vendor_inco_term  freight_cost_group\n",
      "CIP               reasonable             34\n",
      "                  expensive              16\n",
      "DDP               expensive              55\n",
      "                  reasonable             45\n",
      "DDU               reasonable              1\n",
      "EXW               expensive             423\n",
      "                  reasonable            302\n",
      "FCA               reasonable             73\n",
      "                  expensive              37\n",
      "Name: count, dtype: int64\n",
      "False\n"
     ]
    }
   ],
   "source": [
    "# Count the values of freight_cost_group grouped by vendor_inco_term\n",
    "counts = late_shipments.groupby('vendor_inco_term')['freight_cost_group'].value_counts()\n",
    "\n",
    "# Print the result\n",
    "print(counts)\n",
    "\n",
    "# Inspect whether the counts are big enough\n",
    "print((counts >= 5).all())"
   ]
  },
  {
   "cell_type": "code",
   "execution_count": 20,
   "metadata": {},
   "outputs": [
    {
     "name": "stdout",
     "output_type": "stream",
     "text": [
      "shipment_mode\n",
      "Air            906\n",
      "Ocean           88\n",
      "Air Charter      6\n",
      "Name: count, dtype: int64\n",
      "False\n"
     ]
    }
   ],
   "source": [
    "# Count the shipment_mode values\n",
    "counts = late_shipments['shipment_mode'].value_counts()\n",
    "\n",
    "# Print the result\n",
    "print(counts)\n",
    "\n",
    "# Inspect whether the counts are big enough\n",
    "print((counts >= 30).all())"
   ]
  },
  {
   "cell_type": "markdown",
   "metadata": {},
   "source": [
    "## Non-parametric tests"
   ]
  },
  {
   "cell_type": "markdown",
   "metadata": {},
   "source": [
    "### Wilcoxon signed-rank test"
   ]
  },
  {
   "cell_type": "code",
   "execution_count": 28,
   "metadata": {},
   "outputs": [
    {
     "name": "stdout",
     "output_type": "stream",
     "text": [
      "                T  dof alternative          p-val         CI95%   cohen-d  \\\n",
      "T-test  30.298384  499   two-sided  3.600634e-115  [6.39, 7.27]  0.454202   \n",
      "\n",
      "              BF10 power  \n",
      "T-test  2.246e+111   NaN  \n"
     ]
    }
   ],
   "source": [
    "# Conduct a paired t-test on dem_percent_12 and dem_percent_16\n",
    "paired_test_results = pingouin.ttest(\n",
    "    x=sample_dem_data['dem_percent_12'],\n",
    "    y=sample_dem_data['dem_percent_16'],\n",
    "    paired=True,\n",
    "    alternative='two-sided'\n",
    "    ) \n",
    "\n",
    "\n",
    "# Print paired t-test results\n",
    "print(paired_test_results)"
   ]
  },
  {
   "cell_type": "code",
   "execution_count": 29,
   "metadata": {},
   "outputs": [
    {
     "name": "stdout",
     "output_type": "stream",
     "text": [
      "           W-val alternative         p-val       RBC      CLES\n",
      "Wilcoxon  2401.0   two-sided  1.780396e-77  0.961661  0.644816\n"
     ]
    }
   ],
   "source": [
    "# Conduct a Wilcoxon test on dem_percent_12 and dem_percent_16\n",
    "wilcoxon_test_results = pingouin.wilcoxon(\n",
    "    x=sample_dem_data['dem_percent_12'],\n",
    "    y=sample_dem_data['dem_percent_16'],\n",
    "    alternative='two-sided'\n",
    "    )\n",
    "\n",
    "# Print Wilcoxon test results\n",
    "print(wilcoxon_test_results)"
   ]
  },
  {
   "cell_type": "markdown",
   "metadata": {},
   "source": [
    "## Non-parametric ANOVA and unpaired t-tests"
   ]
  },
  {
   "cell_type": "markdown",
   "metadata": {},
   "source": [
    "### Wilcoxon-Mann-Whitney"
   ]
  },
  {
   "cell_type": "code",
   "execution_count": 33,
   "metadata": {},
   "outputs": [
    {
     "name": "stdout",
     "output_type": "stream",
     "text": [
      "       U-val alternative     p-val       RBC      CLES\n",
      "MWU  19134.0   two-sided  0.000014 -0.331902  0.334049\n"
     ]
    }
   ],
   "source": [
    "# Select the weight_kilograms and late columns\n",
    "weight_vs_late = late_shipments[['weight_kilograms', 'late']]\n",
    "\n",
    "# Convert weight_vs_late into wide format\n",
    "weight_vs_late_wide = weight_vs_late.pivot(columns='late', \n",
    "                                           values='weight_kilograms')\n",
    "\n",
    "\n",
    "# Run a two-sided Wilcoxon-Mann-Whitney test on weight_kilograms vs. late\n",
    "wmw_test = pingouin.mwu(\n",
    "    x=weight_vs_late_wide['No'],\n",
    "    y=weight_vs_late_wide['Yes'],\n",
    "    alternative='two-sided'\n",
    ")\n",
    "\n",
    "# Print the test results\n",
    "print(wmw_test)"
   ]
  },
  {
   "cell_type": "markdown",
   "metadata": {},
   "source": [
    "### Kruskal-Wallis"
   ]
  },
  {
   "cell_type": "code",
   "execution_count": 34,
   "metadata": {},
   "outputs": [
    {
     "name": "stdout",
     "output_type": "stream",
     "text": [
      "                Source  ddof1           H         p-unc\n",
      "Kruskal  shipment_mode      2  125.096618  6.848799e-28\n"
     ]
    }
   ],
   "source": [
    "# Run a Kruskal-Wallis test on weight_kilograms vs. shipment_mode\n",
    "kw_test = pingouin.kruskal(\n",
    "    data=late_shipments,\n",
    "    dv='weight_kilograms',\n",
    "    between='shipment_mode'\n",
    ")\n",
    "\n",
    "# Print the results\n",
    "print(kw_test)"
   ]
  }
 ],
 "metadata": {
  "kernelspec": {
   "display_name": "ds2",
   "language": "python",
   "name": "python3"
  },
  "language_info": {
   "codemirror_mode": {
    "name": "ipython",
    "version": 3
   },
   "file_extension": ".py",
   "mimetype": "text/x-python",
   "name": "python",
   "nbconvert_exporter": "python",
   "pygments_lexer": "ipython3",
   "version": "3.12.8"
  }
 },
 "nbformat": 4,
 "nbformat_minor": 2
}
