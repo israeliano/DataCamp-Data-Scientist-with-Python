{
 "cells": [
  {
   "cell_type": "markdown",
   "metadata": {},
   "source": [
    "The Nobel Prize has been among the most prestigious international awards since 1901. Each year, awards are bestowed in chemistry, literature, physics, physiology or medicine, economics, and peace. In addition to the honor, prestige, and substantial prize money, the recipient also gets a gold medal with an image of Alfred Nobel (1833 - 1896), who established the prize.\n",
    "\n",
    "![](Nobel_Prize.png)\n",
    "\n",
    "The Nobel Foundation has made a dataset available of all prize winners from the outset of the awards from 1901 to 2023. The dataset used in this project is from the Nobel Prize API and is available in the `nobel.csv` file in the `data` folder.\n",
    "\n",
    "In this project, you'll get a chance to explore and answer several questions related to this prizewinning data. And we encourage you then to explore further questions that you're interested in!"
   ]
  },
  {
   "cell_type": "code",
   "execution_count": 2,
   "metadata": {},
   "outputs": [],
   "source": [
    "# Loading in required libraries\n",
    "import pandas as pd\n",
    "import seaborn as sns\n",
    "import numpy as np\n",
    "\n",
    "# Start coding here!"
   ]
  },
  {
   "cell_type": "markdown",
   "metadata": {},
   "source": [
    "Analyze Nobel Prize winner data and identify patterns by answering the following questions:\n",
    "\n",
    "1. What is the most commonly awarded gender and birth country? Storing the string answers as top_gender and top_country.\n",
    "1. What decade had the highest proportion of US-born winners? Store this as an integer called max_decade_usa.\n",
    "1. What decade and category pair had the highest proportion of female laureates? Store this as a dictionary called max_female_dict where the decade is the key and the category is the value.\n",
    "1. Who was the first woman to receive a Nobel Prize, and in what category? Save your string answers as first_woman_name and first_woman_category.\n",
    "1. Which individuals or organizations have won multiple Nobel Prizes throughout the years? Store the full names in a list named repeat_list."
   ]
  },
  {
   "cell_type": "code",
   "execution_count": 32,
   "metadata": {},
   "outputs": [
    {
     "data": {
      "text/html": [
       "<div>\n",
       "<style scoped>\n",
       "    .dataframe tbody tr th:only-of-type {\n",
       "        vertical-align: middle;\n",
       "    }\n",
       "\n",
       "    .dataframe tbody tr th {\n",
       "        vertical-align: top;\n",
       "    }\n",
       "\n",
       "    .dataframe thead th {\n",
       "        text-align: right;\n",
       "    }\n",
       "</style>\n",
       "<table border=\"1\" class=\"dataframe\">\n",
       "  <thead>\n",
       "    <tr style=\"text-align: right;\">\n",
       "      <th></th>\n",
       "      <th>year</th>\n",
       "      <th>category</th>\n",
       "      <th>prize</th>\n",
       "      <th>motivation</th>\n",
       "      <th>prize_share</th>\n",
       "      <th>laureate_id</th>\n",
       "      <th>laureate_type</th>\n",
       "      <th>full_name</th>\n",
       "      <th>birth_date</th>\n",
       "      <th>birth_city</th>\n",
       "      <th>birth_country</th>\n",
       "      <th>sex</th>\n",
       "      <th>organization_name</th>\n",
       "      <th>organization_city</th>\n",
       "      <th>organization_country</th>\n",
       "      <th>death_date</th>\n",
       "      <th>death_city</th>\n",
       "      <th>death_country</th>\n",
       "    </tr>\n",
       "  </thead>\n",
       "  <tbody>\n",
       "    <tr>\n",
       "      <th>22</th>\n",
       "      <td>1904</td>\n",
       "      <td>Literature</td>\n",
       "      <td>The Nobel Prize in Literature 1904</td>\n",
       "      <td>\"in recognition of the numerous and brilliant ...</td>\n",
       "      <td>1/2</td>\n",
       "      <td>574</td>\n",
       "      <td>Individual</td>\n",
       "      <td>José Echegaray y Eizaguirre</td>\n",
       "      <td>1832-04-19</td>\n",
       "      <td>Madrid</td>\n",
       "      <td>Spain</td>\n",
       "      <td>Male</td>\n",
       "      <td>NaN</td>\n",
       "      <td>NaN</td>\n",
       "      <td>NaN</td>\n",
       "      <td>1916-09-04</td>\n",
       "      <td>Madrid</td>\n",
       "      <td>Spain</td>\n",
       "    </tr>\n",
       "    <tr>\n",
       "      <th>495</th>\n",
       "      <td>1979</td>\n",
       "      <td>Chemistry</td>\n",
       "      <td>The Nobel Prize in Chemistry 1979</td>\n",
       "      <td>\"for their development of the use of boron- an...</td>\n",
       "      <td>1/2</td>\n",
       "      <td>253</td>\n",
       "      <td>Individual</td>\n",
       "      <td>Georg Wittig</td>\n",
       "      <td>1897-06-16</td>\n",
       "      <td>Berlin</td>\n",
       "      <td>Germany</td>\n",
       "      <td>Male</td>\n",
       "      <td>University of Heidelberg</td>\n",
       "      <td>Heidelberg</td>\n",
       "      <td>Federal Republic of Germany</td>\n",
       "      <td>1987-08-26</td>\n",
       "      <td>Heidelberg</td>\n",
       "      <td>West Germany (Germany)</td>\n",
       "    </tr>\n",
       "  </tbody>\n",
       "</table>\n",
       "</div>"
      ],
      "text/plain": [
       "     year    category                               prize  \\\n",
       "22   1904  Literature  The Nobel Prize in Literature 1904   \n",
       "495  1979   Chemistry   The Nobel Prize in Chemistry 1979   \n",
       "\n",
       "                                            motivation prize_share  \\\n",
       "22   \"in recognition of the numerous and brilliant ...         1/2   \n",
       "495  \"for their development of the use of boron- an...         1/2   \n",
       "\n",
       "     laureate_id laureate_type                    full_name  birth_date  \\\n",
       "22           574    Individual  José Echegaray y Eizaguirre  1832-04-19   \n",
       "495          253    Individual                 Georg Wittig  1897-06-16   \n",
       "\n",
       "    birth_city birth_country   sex         organization_name  \\\n",
       "22      Madrid         Spain  Male                       NaN   \n",
       "495     Berlin       Germany  Male  University of Heidelberg   \n",
       "\n",
       "    organization_city         organization_country  death_date  death_city  \\\n",
       "22                NaN                          NaN  1916-09-04      Madrid   \n",
       "495        Heidelberg  Federal Republic of Germany  1987-08-26  Heidelberg   \n",
       "\n",
       "              death_country  \n",
       "22                    Spain  \n",
       "495  West Germany (Germany)  "
      ]
     },
     "execution_count": 32,
     "metadata": {},
     "output_type": "execute_result"
    }
   ],
   "source": [
    "df = pd.read_csv('data/nobel.csv', parse_dates=[])\n",
    "df.sample(2)"
   ]
  },
  {
   "cell_type": "code",
   "execution_count": 20,
   "metadata": {},
   "outputs": [
    {
     "name": "stdout",
     "output_type": "stream",
     "text": [
      "United States of America\n",
      "Male\n"
     ]
    }
   ],
   "source": [
    "# What is the most commonly awarded gender and birth country? Storing the string answers as top_gender and top_country.\n",
    "top_country = df['birth_country'].value_counts().reset_index().iloc[0]['birth_country']\n",
    "print(top_country)\n",
    "top_gender = df['sex'].value_counts().reset_index().iloc[0]['sex']\n",
    "print(top_gender)"
   ]
  },
  {
   "cell_type": "code",
   "execution_count": 98,
   "metadata": {},
   "outputs": [
    {
     "name": "stdout",
     "output_type": "stream",
     "text": [
      "2000.0\n"
     ]
    }
   ],
   "source": [
    "# What decade had the highest proportion of US-born winners? Store this as an integer called max_decade_usa.\n",
    "df['usa'] = (df['birth_country'] == 'United States of America')\n",
    "\n",
    "df['prize_decade'] = np.floor(df['year']/10) * 10\n",
    "max_decade_usa = df.groupby('prize_decade')['usa'].mean().sort_values(ascending=False).index[0]\n",
    "\n",
    "print(max_decade_usa)"
   ]
  },
  {
   "cell_type": "code",
   "execution_count": 115,
   "metadata": {},
   "outputs": [
    {
     "name": "stdout",
     "output_type": "stream",
     "text": [
      "{2020.0: 'Literature'}\n"
     ]
    }
   ],
   "source": [
    "# What decade and category pair had the highest proportion of female laureates? Store this as a dictionary called max_female_dict where the decade is the key and the category is the value.\n",
    "df['prize_decade'] = np.floor(df['year']/10) * 10\n",
    "df['female'] = (df['sex'] == 'Female')\n",
    "df_female = df.groupby(['prize_decade', 'category'], as_index=False)['female'].mean().sort_values(by='female', ascending=False)\n",
    "\n",
    "max_female_dict = {df_female['prize_decade'].iloc[0]: df_female['category'].iloc[0]}\n",
    "print(max_female_dict)"
   ]
  },
  {
   "cell_type": "code",
   "execution_count": 88,
   "metadata": {},
   "outputs": [
    {
     "name": "stdout",
     "output_type": "stream",
     "text": [
      "Marie Curie, née Sklodowska Physics\n"
     ]
    }
   ],
   "source": [
    "# Who was the first woman to receive a Nobel Prize, and in what category? Save your string answers as first_woman_name and first_woman_category.\n",
    "first_woman_name, first_woman_category = df[df['sex'] == 'Female'].sort_values(by='year')[['full_name', 'category']].iloc[0]\n",
    "print(first_woman_name, first_woman_category)"
   ]
  },
  {
   "cell_type": "code",
   "execution_count": 94,
   "metadata": {},
   "outputs": [],
   "source": [
    "# Which individuals or organizations have won multiple Nobel Prizes throughout the years? Store the full names in a list named repeat_list.\n",
    "s = df['full_name'].value_counts()\n",
    "repeat_list = list(s[s>1].index)"
   ]
  }
 ],
 "metadata": {
  "kernelspec": {
   "display_name": "ds1",
   "language": "python",
   "name": "python3"
  },
  "language_info": {
   "codemirror_mode": {
    "name": "ipython",
    "version": 3
   },
   "file_extension": ".py",
   "mimetype": "text/x-python",
   "name": "python",
   "nbconvert_exporter": "python",
   "pygments_lexer": "ipython3",
   "version": "3.11.5"
  }
 },
 "nbformat": 4,
 "nbformat_minor": 2
}
