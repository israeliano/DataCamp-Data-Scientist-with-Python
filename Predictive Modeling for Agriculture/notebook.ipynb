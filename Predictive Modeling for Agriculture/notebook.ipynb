{
 "cells": [
  {
   "cell_type": "markdown",
   "id": "d3d001b0-2e2f-4b58-8442-99520bad831f",
   "metadata": {},
   "source": [
    "# Sowing Success: How Machine Learning Helps Farmers Select the Best Crops\n",
    "\n",
    "![Farmer in a field](farmer_in_a_field.jpg)\n",
    "\n",
    "Measuring essential soil metrics such as nitrogen, phosphorous, potassium levels, and pH value is an important aspect of assessing soil condition. However, it can be an expensive and time-consuming process, which can cause farmers to prioritize which metrics to measure based on their budget constraints.\n",
    "\n",
    "Farmers have various options when it comes to deciding which crop to plant each season. Their primary objective is to maximize the yield of their crops, taking into account different factors. One crucial factor that affects crop growth is the condition of the soil in the field, which can be assessed by measuring basic elements such as nitrogen and potassium levels. Each crop has an ideal soil condition that ensures optimal growth and maximum yield.\n",
    "\n",
    "A farmer reached out to you as a machine learning expert for assistance in selecting the best crop for his field. They've provided you with a dataset called `soil_measures.csv`, which contains:\n",
    "\n",
    "- `\"N\"`: Nitrogen content ratio in the soil\n",
    "- `\"P\"`: Phosphorous content ratio in the soil\n",
    "- `\"K\"`: Potassium content ratio in the soil\n",
    "- `\"pH\"` value of the soil\n",
    "- `\"crop\"`: categorical values that contain various crops (target variable).\n",
    "\n",
    "Each row in this dataset represents various measures of the soil in a particular field. Based on these measurements, the crop specified in the `\"crop\"` column is the optimal choice for that field.  \n",
    "\n",
    "In this project, you will build multi-class classification models to predict the type of `\"crop\"` and identify the single most importance feature for predictive performance."
   ]
  },
  {
   "cell_type": "code",
   "execution_count": 1,
   "id": "d0eb4f16-5a99-460d-a5ba-706b7ef0bbe7",
   "metadata": {
    "executionCancelledAt": null,
    "executionTime": 14,
    "id": "bA5ajAmk7XH6",
    "lastExecutedAt": 1707317470036,
    "lastScheduledRunId": null,
    "lastSuccessfullyExecutedCode": "# All required libraries are imported here for you.\nimport pandas as pd\nfrom sklearn.linear_model import LogisticRegression\nfrom sklearn.ensemble import RandomForestClassifier\nfrom sklearn.model_selection import train_test_split\nfrom sklearn import metrics\n\n# Load the dataset\ncrops = pd.read_csv(\"soil_measures.csv\")\n\n# Write your code here"
   },
   "outputs": [],
   "source": [
    "# All required libraries are imported here for you.\n",
    "import pandas as pd\n",
    "from sklearn.linear_model import LogisticRegression\n",
    "from sklearn.model_selection import train_test_split\n",
    "from sklearn import metrics\n",
    "\n",
    "# Load the dataset\n",
    "crops = pd.read_csv(\"soil_measures.csv\")\n",
    "\n",
    "# Write your code here"
   ]
  },
  {
   "cell_type": "code",
   "execution_count": 4,
   "id": "cc45e51c",
   "metadata": {},
   "outputs": [
    {
     "data": {
      "text/html": [
       "<div>\n",
       "<style scoped>\n",
       "    .dataframe tbody tr th:only-of-type {\n",
       "        vertical-align: middle;\n",
       "    }\n",
       "\n",
       "    .dataframe tbody tr th {\n",
       "        vertical-align: top;\n",
       "    }\n",
       "\n",
       "    .dataframe thead th {\n",
       "        text-align: right;\n",
       "    }\n",
       "</style>\n",
       "<table border=\"1\" class=\"dataframe\">\n",
       "  <thead>\n",
       "    <tr style=\"text-align: right;\">\n",
       "      <th></th>\n",
       "      <th>N</th>\n",
       "      <th>P</th>\n",
       "      <th>K</th>\n",
       "      <th>ph</th>\n",
       "      <th>crop</th>\n",
       "    </tr>\n",
       "  </thead>\n",
       "  <tbody>\n",
       "    <tr>\n",
       "      <th>379</th>\n",
       "      <td>5</td>\n",
       "      <td>65</td>\n",
       "      <td>16</td>\n",
       "      <td>5.866744</td>\n",
       "      <td>kidneybeans</td>\n",
       "    </tr>\n",
       "    <tr>\n",
       "      <th>2021</th>\n",
       "      <td>81</td>\n",
       "      <td>56</td>\n",
       "      <td>36</td>\n",
       "      <td>7.097586</td>\n",
       "      <td>jute</td>\n",
       "    </tr>\n",
       "    <tr>\n",
       "      <th>1325</th>\n",
       "      <td>83</td>\n",
       "      <td>9</td>\n",
       "      <td>45</td>\n",
       "      <td>6.049610</td>\n",
       "      <td>watermelon</td>\n",
       "    </tr>\n",
       "    <tr>\n",
       "      <th>782</th>\n",
       "      <td>41</td>\n",
       "      <td>74</td>\n",
       "      <td>18</td>\n",
       "      <td>6.599147</td>\n",
       "      <td>blackgram</td>\n",
       "    </tr>\n",
       "    <tr>\n",
       "      <th>1363</th>\n",
       "      <td>107</td>\n",
       "      <td>10</td>\n",
       "      <td>49</td>\n",
       "      <td>6.755192</td>\n",
       "      <td>watermelon</td>\n",
       "    </tr>\n",
       "    <tr>\n",
       "      <th>2087</th>\n",
       "      <td>71</td>\n",
       "      <td>54</td>\n",
       "      <td>35</td>\n",
       "      <td>7.311077</td>\n",
       "      <td>jute</td>\n",
       "    </tr>\n",
       "    <tr>\n",
       "      <th>2178</th>\n",
       "      <td>105</td>\n",
       "      <td>18</td>\n",
       "      <td>35</td>\n",
       "      <td>6.743417</td>\n",
       "      <td>coffee</td>\n",
       "    </tr>\n",
       "    <tr>\n",
       "      <th>1771</th>\n",
       "      <td>67</td>\n",
       "      <td>68</td>\n",
       "      <td>49</td>\n",
       "      <td>6.821775</td>\n",
       "      <td>papaya</td>\n",
       "    </tr>\n",
       "    <tr>\n",
       "      <th>2124</th>\n",
       "      <td>108</td>\n",
       "      <td>33</td>\n",
       "      <td>31</td>\n",
       "      <td>7.393826</td>\n",
       "      <td>coffee</td>\n",
       "    </tr>\n",
       "    <tr>\n",
       "      <th>1163</th>\n",
       "      <td>2</td>\n",
       "      <td>24</td>\n",
       "      <td>34</td>\n",
       "      <td>6.472775</td>\n",
       "      <td>mango</td>\n",
       "    </tr>\n",
       "  </tbody>\n",
       "</table>\n",
       "</div>"
      ],
      "text/plain": [
       "        N   P   K        ph         crop\n",
       "379     5  65  16  5.866744  kidneybeans\n",
       "2021   81  56  36  7.097586         jute\n",
       "1325   83   9  45  6.049610   watermelon\n",
       "782    41  74  18  6.599147    blackgram\n",
       "1363  107  10  49  6.755192   watermelon\n",
       "2087   71  54  35  7.311077         jute\n",
       "2178  105  18  35  6.743417       coffee\n",
       "1771   67  68  49  6.821775       papaya\n",
       "2124  108  33  31  7.393826       coffee\n",
       "1163    2  24  34  6.472775        mango"
      ]
     },
     "execution_count": 4,
     "metadata": {},
     "output_type": "execute_result"
    }
   ],
   "source": [
    "# A Sample of te DF\n",
    "crops.sample(10)"
   ]
  },
  {
   "cell_type": "code",
   "execution_count": 5,
   "id": "5e18a1c4",
   "metadata": {},
   "outputs": [
    {
     "data": {
      "text/plain": [
       "crop\n",
       "rice           100\n",
       "maize          100\n",
       "jute           100\n",
       "cotton         100\n",
       "coconut        100\n",
       "papaya         100\n",
       "orange         100\n",
       "apple          100\n",
       "muskmelon      100\n",
       "watermelon     100\n",
       "grapes         100\n",
       "mango          100\n",
       "banana         100\n",
       "pomegranate    100\n",
       "lentil         100\n",
       "blackgram      100\n",
       "mungbean       100\n",
       "mothbeans      100\n",
       "pigeonpeas     100\n",
       "kidneybeans    100\n",
       "chickpea       100\n",
       "coffee         100\n",
       "Name: count, dtype: int64"
      ]
     },
     "execution_count": 5,
     "metadata": {},
     "output_type": "execute_result"
    }
   ],
   "source": [
    "# What kind of crops do we have?\n",
    "crops['crop'].value_counts()"
   ]
  },
  {
   "cell_type": "code",
   "execution_count": 6,
   "id": "66f97378",
   "metadata": {},
   "outputs": [],
   "source": [
    "# The table contains several crops, but all of them with the same amount, is not an unbalanced set"
   ]
  },
  {
   "cell_type": "code",
   "execution_count": 19,
   "id": "b88474e8",
   "metadata": {},
   "outputs": [
    {
     "name": "stderr",
     "output_type": "stream",
     "text": [
      "/home/israel/miniconda3/envs/ds2/lib/python3.12/site-packages/sklearn/linear_model/_logistic.py:1247: FutureWarning: 'multi_class' was deprecated in version 1.5 and will be removed in 1.7. From then on, it will always use 'multinomial'. Leave it to its default value to avoid this warning.\n",
      "  warnings.warn(\n",
      "/home/israel/miniconda3/envs/ds2/lib/python3.12/site-packages/sklearn/linear_model/_logistic.py:465: ConvergenceWarning: lbfgs failed to converge (status=1):\n",
      "STOP: TOTAL NO. OF ITERATIONS REACHED LIMIT.\n",
      "\n",
      "Increase the number of iterations (max_iter) or scale the data as shown in:\n",
      "    https://scikit-learn.org/stable/modules/preprocessing.html\n",
      "Please also refer to the documentation for alternative solver options:\n",
      "    https://scikit-learn.org/stable/modules/linear_model.html#logistic-regression\n",
      "  n_iter_i = _check_optimize_result(\n"
     ]
    },
    {
     "data": {
      "text/plain": [
       "array([[-0.90526634, -0.04468744,  0.94320538, -0.7643036 ],\n",
       "       [ 0.11821723,  0.27329935, -0.02300299, -0.87793645],\n",
       "       [ 0.05682268,  0.5622585 , -0.73500071,  0.00638228],\n",
       "       [-0.31243733, -0.16466095,  0.887132  , -0.2809656 ],\n",
       "       [-0.28139507, -0.37722016,  0.8919898 ,  0.66521053],\n",
       "       [ 0.6217004 , -0.47472575, -0.51496723, -0.07957148],\n",
       "       [ 0.66494236, -0.03315549, -1.34669338, -0.2181636 ],\n",
       "       [-0.90466089, -0.07449735,  0.96062965, -0.70618688],\n",
       "       [ 0.16300801,  0.05590513,  0.0616448 ,  0.02519583],\n",
       "       [-0.03750843,  0.62602273, -0.6440714 , -0.51395997],\n",
       "       [-0.06823941,  0.60534069, -0.74399395,  0.11909257],\n",
       "       [ 0.45492553,  0.19663932, -0.90039496, -0.07770966],\n",
       "       [-0.29601255, -0.1757162 ,  0.74207721,  0.81646825],\n",
       "       [-0.02556578,  0.36801712, -0.18891383,  0.35797191],\n",
       "       [-0.02699967,  0.38669156, -0.24971928,  0.41398915],\n",
       "       [ 0.5556888 , -1.00221021,  0.02752787, -0.28258793],\n",
       "       [ 0.05123864, -0.01084047, -0.25166085,  2.05227994],\n",
       "       [-0.14869935,  0.07901735,  0.53515729, -0.26161929],\n",
       "       [-0.02813408,  0.61341798, -0.59277861, -0.56589428],\n",
       "       [-0.35405277, -0.47387902,  1.03356238,  0.43652797],\n",
       "       [ 0.17127662,  0.07197589,  0.04867214, -0.12218986],\n",
       "       [ 0.53115144, -1.00699258,  0.05959869, -0.14202982]])"
      ]
     },
     "execution_count": 19,
     "metadata": {},
     "output_type": "execute_result"
    }
   ],
   "source": [
    "X = crops.drop(columns='crop').values\n",
    "y = crops['crop'].values\n",
    "\n",
    "X_train, X_test, y_train, y_test = train_test_split(\n",
    "    X,\n",
    "    y,\n",
    "    test_size=0.3,\n",
    "    random_state=3\n",
    ")\n",
    "\n",
    "logreg = LogisticRegression(multi_class='multinomial')\n",
    "logreg.fit(X_train, y_train)\n",
    "\n",
    "y_pred = logreg.predict(X_test)\n",
    "\n",
    "logreg.coef_"
   ]
  },
  {
   "cell_type": "code",
   "execution_count": 20,
   "id": "10387e2f",
   "metadata": {},
   "outputs": [],
   "source": [
    "f1 = metrics.f1_score(y_test, y_pred, average=\"weighted\")"
   ]
  },
  {
   "cell_type": "code",
   "execution_count": 21,
   "id": "3cdba504",
   "metadata": {},
   "outputs": [
    {
     "data": {
      "text/plain": [
       "0.573713548612284"
      ]
     },
     "execution_count": 21,
     "metadata": {},
     "output_type": "execute_result"
    }
   ],
   "source": [
    "f1"
   ]
  },
  {
   "cell_type": "code",
   "execution_count": 9,
   "id": "a9828c5a",
   "metadata": {},
   "outputs": [
    {
     "name": "stdout",
     "output_type": "stream",
     "text": [
      "[[1.45987405 1.75643571 0.69462044]]\n"
     ]
    }
   ],
   "source": [
    "import numpy as np\n",
    "\n",
    "x1 = np.random.randn(100)\n",
    "x2 = 4*np.random.randn(100)\n",
    "x3 = 0.5*np.random.randn(100)\n",
    "y = (3 + x1 + x2 + x3 + 0.2*np.random.randn()) > 0\n",
    "X = np.column_stack([x1, x2, x3])\n",
    "\n",
    "m = LogisticRegression()\n",
    "m.fit(X, y)\n",
    "\n",
    "# The estimated coefficients will all be around 1:\n",
    "print(m.coef_)\n"
   ]
  },
  {
   "cell_type": "code",
   "execution_count": null,
   "id": "eee601a7",
   "metadata": {},
   "outputs": [],
   "source": [
    "# The problem is poorly stated, what they want is to use a LinearRegression model with only one variable at the time and check which one is the most relevant"
   ]
  }
 ],
 "metadata": {
  "colab": {
   "name": "Welcome to DataCamp Workspaces.ipynb",
   "provenance": []
  },
  "kernelspec": {
   "display_name": "ds2",
   "language": "python",
   "name": "python3"
  },
  "language_info": {
   "codemirror_mode": {
    "name": "ipython",
    "version": 3
   },
   "file_extension": ".py",
   "mimetype": "text/x-python",
   "name": "python",
   "nbconvert_exporter": "python",
   "pygments_lexer": "ipython3",
   "version": "3.12.8"
  }
 },
 "nbformat": 4,
 "nbformat_minor": 5
}
