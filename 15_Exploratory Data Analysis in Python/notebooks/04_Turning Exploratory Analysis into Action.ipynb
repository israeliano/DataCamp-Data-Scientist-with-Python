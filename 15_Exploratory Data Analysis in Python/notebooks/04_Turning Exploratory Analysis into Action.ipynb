{
 "cells": [
  {
   "cell_type": "markdown",
   "metadata": {},
   "source": [
    "# Turning Exploratory Analysis into Action"
   ]
  },
  {
   "cell_type": "markdown",
   "metadata": {},
   "source": [
    "## Imports"
   ]
  },
  {
   "cell_type": "code",
   "execution_count": 2,
   "metadata": {},
   "outputs": [],
   "source": [
    "import warnings\n",
    "warnings.simplefilter(action='ignore', category=FutureWarning)"
   ]
  },
  {
   "cell_type": "code",
   "execution_count": 27,
   "metadata": {},
   "outputs": [],
   "source": [
    "import pandas as pd\n",
    "import numpy as np\n",
    "import seaborn as sns\n",
    "import matplotlib.pyplot as plt"
   ]
  },
  {
   "cell_type": "code",
   "execution_count": 8,
   "metadata": {},
   "outputs": [
    {
     "data": {
      "text/html": [
       "<div>\n",
       "<style scoped>\n",
       "    .dataframe tbody tr th:only-of-type {\n",
       "        vertical-align: middle;\n",
       "    }\n",
       "\n",
       "    .dataframe tbody tr th {\n",
       "        vertical-align: top;\n",
       "    }\n",
       "\n",
       "    .dataframe thead th {\n",
       "        text-align: right;\n",
       "    }\n",
       "</style>\n",
       "<table border=\"1\" class=\"dataframe\">\n",
       "  <thead>\n",
       "    <tr style=\"text-align: right;\">\n",
       "      <th></th>\n",
       "      <th>Working_Year</th>\n",
       "      <th>Designation</th>\n",
       "      <th>Experience</th>\n",
       "      <th>Employment_Status</th>\n",
       "      <th>Employee_Location</th>\n",
       "      <th>Company_Size</th>\n",
       "      <th>Remote_Working_Ratio</th>\n",
       "      <th>Salary_USD</th>\n",
       "    </tr>\n",
       "  </thead>\n",
       "  <tbody>\n",
       "    <tr>\n",
       "      <th>0</th>\n",
       "      <td>2020</td>\n",
       "      <td>Data Scientist</td>\n",
       "      <td>Mid</td>\n",
       "      <td>FT</td>\n",
       "      <td>DE</td>\n",
       "      <td>L</td>\n",
       "      <td>0</td>\n",
       "      <td>76227.0</td>\n",
       "    </tr>\n",
       "    <tr>\n",
       "      <th>1</th>\n",
       "      <td>2020</td>\n",
       "      <td>Machine Learning Scientist</td>\n",
       "      <td>Senior</td>\n",
       "      <td>FT</td>\n",
       "      <td>JP</td>\n",
       "      <td>S</td>\n",
       "      <td>0</td>\n",
       "      <td>248257.0</td>\n",
       "    </tr>\n",
       "    <tr>\n",
       "      <th>2</th>\n",
       "      <td>2020</td>\n",
       "      <td>Big Data Engineer</td>\n",
       "      <td>Senior</td>\n",
       "      <td>FT</td>\n",
       "      <td>GB</td>\n",
       "      <td>M</td>\n",
       "      <td>50</td>\n",
       "      <td>104100.0</td>\n",
       "    </tr>\n",
       "    <tr>\n",
       "      <th>3</th>\n",
       "      <td>2020</td>\n",
       "      <td>Product Data Analyst</td>\n",
       "      <td>Mid</td>\n",
       "      <td>FT</td>\n",
       "      <td>HN</td>\n",
       "      <td>S</td>\n",
       "      <td>0</td>\n",
       "      <td>19097.0</td>\n",
       "    </tr>\n",
       "    <tr>\n",
       "      <th>4</th>\n",
       "      <td>2020</td>\n",
       "      <td>Machine Learning Engineer</td>\n",
       "      <td>Senior</td>\n",
       "      <td>FT</td>\n",
       "      <td>US</td>\n",
       "      <td>L</td>\n",
       "      <td>50</td>\n",
       "      <td>143225.0</td>\n",
       "    </tr>\n",
       "  </tbody>\n",
       "</table>\n",
       "</div>"
      ],
      "text/plain": [
       "   Working_Year                 Designation Experience Employment_Status  \\\n",
       "0          2020              Data Scientist        Mid                FT   \n",
       "1          2020  Machine Learning Scientist     Senior                FT   \n",
       "2          2020           Big Data Engineer     Senior                FT   \n",
       "3          2020        Product Data Analyst        Mid                FT   \n",
       "4          2020   Machine Learning Engineer     Senior                FT   \n",
       "\n",
       "  Employee_Location Company_Size  Remote_Working_Ratio  Salary_USD  \n",
       "0                DE            L                     0     76227.0  \n",
       "1                JP            S                     0    248257.0  \n",
       "2                GB            M                    50    104100.0  \n",
       "3                HN            S                     0     19097.0  \n",
       "4                US            L                    50    143225.0  "
      ]
     },
     "execution_count": 8,
     "metadata": {},
     "output_type": "execute_result"
    }
   ],
   "source": [
    "salaries = pd.read_csv('../data/ds_salaries_clean.csv').iloc[:407]\n",
    "salaries.head()"
   ]
  },
  {
   "cell_type": "code",
   "execution_count": 9,
   "metadata": {},
   "outputs": [],
   "source": [
    "salaries['Job_Category'] = [\n",
    "    'Machine Learning', 'Data Engineering', 'Data Analytics', \n",
    "    'Machine Learning', 'Data Analytics', 'Data Science', 'Data Science', \n",
    "    'Data Analytics', 'Data Engineering', 'Data Science', 'Data Science', \n",
    "    'Data Analytics', 'Data Analytics', 'Data Engineering', 'Data Engineering', \n",
    "    'Data Analytics', 'Data Science', 'Data Engineering', 'Data Analytics', \n",
    "    'Machine Learning', 'Data Engineering', 'Data Science', 'Other', \n",
    "    'Data Analytics', 'Data Engineering', 'Machine Learning', \n",
    "    'Machine Learning', 'Data Engineering', 'Data Engineering', 'Data Science', \n",
    "    'Data Science', 'Data Engineering', 'Data Analytics', 'Data Engineering', \n",
    "    'Data Science', 'Data Science', 'Data Science', 'Data Science', \n",
    "    'Data Engineering', 'Data Science', 'Machine Learning', 'Data Science', \n",
    "    'Managerial', 'Data Science', 'Data Science', 'Data Science', \n",
    "    'Data Analytics', 'Managerial', 'Other', 'Data Analytics', \n",
    "    'Data Engineering', 'Data Science', 'Machine Learning', 'Data Engineering', \n",
    "    'Data Analytics', 'Data Analytics', 'Data Analytics', 'Other', \n",
    "    'Data Analytics', 'Data Engineering', 'Machine Learning', 'Data Analytics', \n",
    "    'Other', 'Other', 'Data Engineering', 'Data Analytics', 'Data Analytics', \n",
    "    'Other', 'Data Engineering', 'Data Engineering', 'Data Engineering', \n",
    "    'Data Engineering', 'Machine Learning', 'Machine Learning', 'Data Science', \n",
    "    'Other', 'Data Analytics', 'Data Engineering', 'Data Engineering', \n",
    "    'Data Analytics', 'Data Science', 'Data Analytics', 'Data Science', \n",
    "    'Machine Learning', 'Data Science', 'Data Science', 'Data Science', \n",
    "    'Machine Learning', 'Machine Learning', 'Data Science', 'Data Science', \n",
    "    'Data Engineering', 'Data Science', 'Machine Learning', 'Other', \n",
    "    'Data Engineering', 'Data Engineering', 'Data Science', 'Data Science', \n",
    "    'Other', 'Machine Learning', 'Data Analytics', 'Machine Learning', \n",
    "    'Managerial', 'Other', 'Managerial', 'Data Engineering', 'Managerial', \n",
    "    'Data Engineering', 'Data Analytics', 'Data Science', 'Other', \n",
    "    'Data Science', 'Machine Learning', 'Data Science', 'Data Science', \n",
    "    'Data Analytics', 'Machine Learning', 'Data Engineering', 'Data Analytics', \n",
    "    'Other', 'Machine Learning', 'Data Engineering', 'Managerial', 'Other', \n",
    "    'Data Analytics', 'Machine Learning', 'Other', 'Data Engineering', \n",
    "    'Data Science', 'Other', 'Data Science', 'Data Science', \n",
    "    'Machine Learning', 'Data Engineering', 'Other', 'Data Engineering', \n",
    "    'Data Engineering', 'Machine Learning', 'Data Engineering', 'Data Science', \n",
    "    'Machine Learning', 'Data Analytics', 'Data Science', 'Data Science', \n",
    "    'Data Science', 'Machine Learning', 'Data Science', 'Data Science', \n",
    "    'Data Analytics', 'Data Engineering', 'Data Analytics', 'Other', \n",
    "    'Data Science', 'Data Science', 'Data Engineering', 'Data Analytics', \n",
    "    'Data Science', 'Machine Learning', 'Data Engineering', 'Data Science', \n",
    "    'Data Engineering', 'Data Analytics', 'Data Science', 'Data Science', \n",
    "    'Data Analytics', 'Data Engineering', 'Data Science', 'Machine Learning', \n",
    "    'Managerial', 'Data Analytics', 'Data Science', 'Machine Learning', \n",
    "    'Data Engineering', 'Data Engineering', 'Data Engineering', \n",
    "    'Data Engineering', 'Other', 'Other', 'Data Science', 'Data Science', \n",
    "    'Machine Learning', 'Data Science', 'Data Analytics', 'Other', \n",
    "    'Data Science', 'Other', 'Data Science', 'Data Engineering', \n",
    "    'Data Analytics', 'Data Science', 'Data Science', 'Data Engineering', \n",
    "    'Data Analytics', 'Data Analytics', 'Data Science', 'Data Science', \n",
    "    'Data Science', 'Data Science', 'Data Science', 'Data Analytics', \n",
    "    'Data Analytics', 'Data Engineering', 'Data Science', 'Data Engineering', \n",
    "    'Data Engineering', 'Data Engineering', 'Data Science', 'Data Analytics', \n",
    "    'Data Engineering', 'Data Engineering', 'Data Engineering', \n",
    "    'Data Analytics', 'Data Analytics', 'Data Analytics', 'Data Analytics', \n",
    "    'Data Analytics', 'Data Analytics', 'Data Engineering', 'Data Engineering', \n",
    "    'Data Engineering', 'Data Analytics', 'Data Engineering', 'Managerial', \n",
    "    'Data Analytics', 'Data Engineering', 'Data Science', 'Data Engineering', \n",
    "    'Data Analytics', 'Managerial', 'Data Science', 'Data Engineering', \n",
    "    'Data Engineering', 'Data Science', 'Data Engineering', 'Data Engineering', \n",
    "    'Data Analytics', 'Data Analytics', 'Data Science', 'Data Engineering', \n",
    "    'Data Analytics', 'Data Analytics', 'Data Science', 'Machine Learning', \n",
    "    'Machine Learning', 'Data Engineering', 'Data Engineering', \n",
    "    'Data Engineering', 'Data Engineering', 'Data Analytics', 'Data Analytics', \n",
    "    'Machine Learning', 'Data Engineering', 'Machine Learning', \n",
    "    'Data Analytics', 'Data Engineering', 'Machine Learning', \n",
    "    'Machine Learning', 'Data Analytics', 'Data Analytics', 'Data Analytics', \n",
    "    'Data Analytics', 'Data Engineering', 'Data Science', 'Data Engineering', \n",
    "    'Data Analytics', 'Data Analytics', 'Data Engineering', 'Data Analytics', \n",
    "    'Data Engineering', 'Data Analytics', 'Data Science', 'Data Science', \n",
    "    'Data Engineering', 'Data Engineering', 'Data Engineering', 'Other', \n",
    "    'Machine Learning', 'Managerial', 'Managerial', 'Data Science', \n",
    "    'Data Engineering', 'Data Engineering', 'Data Science', 'Data Analytics', \n",
    "    'Data Analytics', 'Data Engineering', 'Data Engineering', \n",
    "    'Data Engineering', 'Machine Learning', 'Machine Learning', \n",
    "    'Data Engineering', 'Data Science', 'Data Engineering', 'Data Engineering', \n",
    "    'Data Engineering', 'Data Engineering', 'Machine Learning', \n",
    "    'Machine Learning', 'Managerial', 'Machine Learning', 'Other', \n",
    "    'Data Science', 'Machine Learning', 'Data Analytics', 'Data Science', \n",
    "    'Data Analytics', 'Data Science', 'Data Science', 'Other', 'Data Science', \n",
    "    'Data Science', 'Data Analytics', 'Data Science', 'Data Science', \n",
    "    'Data Science', 'Data Science', 'Machine Learning', 'Data Science', \n",
    "    'Data Science', 'Machine Learning', 'Data Engineering', 'Machine Learning', \n",
    "    'Data Science', 'Data Science', 'Machine Learning', 'Data Analytics', \n",
    "    'Data Science', 'Machine Learning', 'Data Engineering', 'Data Science', \n",
    "    'Other', 'Data Science', 'Managerial', 'Data Science', 'Machine Learning', \n",
    "    'Data Science', 'Other', 'Other', 'Data Science', 'Data Analytics', \n",
    "    'Data Engineering', 'Data Analytics', 'Data Science', 'Managerial', \n",
    "    'Data Science', 'Data Science', 'Other', 'Data Analytics', 'Data Science', \n",
    "    'Data Science', 'Data Analytics', 'Data Analytics', 'Data Analytics', \n",
    "    'Machine Learning', 'Data Engineering', 'Data Engineering', \n",
    "    'Data Analytics', 'Data Engineering', 'Data Science', 'Data Science', \n",
    "    'Data Analytics', 'Data Engineering', 'Data Engineering', \n",
    "    'Data Engineering', 'Data Engineering', 'Data Engineering', \n",
    "    'Data Analytics', 'Data Engineering', 'Data Science', 'Data Science', \n",
    "    'Data Engineering', 'Data Engineering', 'Data Engineering', 'Data Science', \n",
    "    'Data Analytics', 'Data Engineering', 'Data Engineering', \n",
    "    'Data Engineering', 'Data Analytics', 'Data Analytics', 'Data Science', \n",
    "    'Data Science', 'Data Analytics', 'Data Science', 'Data Analytics', \n",
    "    'Data Engineering', 'Data Engineering', 'Data Analytics', \n",
    "    'Data Engineering', 'Data Engineering', 'Data Analytics', 'Data Analytics', \n",
    "    'Data Science', 'Data Engineering', 'Data Science', 'Data Science', \n",
    "    'Data Analytics', 'Data Science', 'Data Analytics', 'Data Science', \n",
    "    'Data Analytics', 'Data Engineering', 'Data Engineering', 'Data Analytics', \n",
    "    'Data Analytics', 'Machine Learning',\n",
    "]"
   ]
  },
  {
   "cell_type": "code",
   "execution_count": 18,
   "metadata": {},
   "outputs": [],
   "source": [
    "salaries['date_of_response'] = pd.to_datetime([\n",
    "    '2020-01-07 00:00:00', '2020-09-19 00:00:00', '2020-11-21 00:00:00', \n",
    "    '2020-11-29 00:00:00', '2020-09-07 00:00:00', '2020-08-04 00:00:00', \n",
    "    '2020-05-27 00:00:00', '2020-10-13 00:00:00', '2020-05-23 00:00:00', \n",
    "    '2020-10-15 00:00:00', '2020-11-07 00:00:00', '2020-08-15 00:00:00', \n",
    "    '2020-03-16 00:00:00', '2020-10-08 00:00:00', '2020-05-02 00:00:00', \n",
    "    '2020-05-24 00:00:00', '2020-04-19 00:00:00', '2020-05-11 00:00:00', \n",
    "    '2020-09-25 00:00:00', '2020-04-26 00:00:00', '2020-08-20 00:00:00', \n",
    "    '2020-07-10 00:00:00', '2020-11-15 00:00:00', '2020-10-09 00:00:00', \n",
    "    '2020-08-24 00:00:00', '2020-02-21 00:00:00', '2020-02-04 00:00:00', \n",
    "    '2020-04-10 00:00:00', '2020-11-17 00:00:00', '2020-07-08 00:00:00', \n",
    "    '2020-11-21 00:00:00', '2020-01-09 00:00:00', '2020-06-19 00:00:00', \n",
    "    '2020-04-05 00:00:00', '2020-11-23 00:00:00', '2020-01-05 00:00:00', \n",
    "    '2020-01-25 00:00:00', '2020-10-20 00:00:00', '2020-08-01 00:00:00', \n",
    "    '2020-10-25 00:00:00', '2020-03-26 00:00:00', '2020-10-13 00:00:00', \n",
    "    '2020-03-10 00:00:00', '2020-11-24 00:00:00', '2020-11-07 00:00:00', \n",
    "    '2020-07-03 00:00:00', '2021-04-19 00:00:00', '2021-05-30 00:00:00', \n",
    "    '2021-05-23 00:00:00', '2021-09-04 00:00:00', '2021-07-06 00:00:00', \n",
    "    '2021-09-30 00:00:00', '2021-01-15 00:00:00', '2021-01-24 00:00:00', \n",
    "    '2021-09-05 00:00:00', '2021-01-13 00:00:00', '2021-01-29 00:00:00', \n",
    "    '2021-08-28 00:00:00', '2021-10-20 00:00:00', '2021-07-08 00:00:00', \n",
    "    '2021-10-13 00:00:00', '2021-03-25 00:00:00', '2021-04-28 00:00:00', \n",
    "    '2021-01-25 00:00:00', '2021-10-09 00:00:00', '2021-08-02 00:00:00', \n",
    "    '2021-09-21 00:00:00', '2021-11-24 00:00:00', '2021-07-19 00:00:00', \n",
    "    '2021-01-29 00:00:00', '2021-07-24 00:00:00', '2021-01-08 00:00:00', \n",
    "    '2021-06-08 00:00:00', '2021-09-05 00:00:00', '2021-04-22 00:00:00', \n",
    "    '2021-07-19 00:00:00', '2021-09-24 00:00:00', '2021-02-21 00:00:00', \n",
    "    '2021-10-25 00:00:00', '2021-01-04 00:00:00', '2021-06-18 00:00:00', \n",
    "    '2021-06-07 00:00:00', '2021-08-26 00:00:00', '2021-11-12 00:00:00', \n",
    "    '2021-02-24 00:00:00', '2021-03-14 00:00:00', '2021-04-01 00:00:00', \n",
    "    '2021-07-26 00:00:00', '2021-07-20 00:00:00', '2021-07-09 00:00:00', \n",
    "    '2021-08-26 00:00:00', '2021-11-30 00:00:00', '2021-07-14 00:00:00', \n",
    "    '2021-03-26 00:00:00', '2021-04-25 00:00:00', '2021-06-25 00:00:00', \n",
    "    '2021-01-24 00:00:00', '2021-08-23 00:00:00', '2021-04-11 00:00:00', \n",
    "    '2021-04-11 00:00:00', '2021-04-15 00:00:00', '2021-05-30 00:00:00', \n",
    "    '2021-10-17 00:00:00', '2021-04-08 00:00:00', '2021-03-09 00:00:00', \n",
    "    '2021-09-01 00:00:00', '2021-09-15 00:00:00', '2021-11-20 00:00:00', \n",
    "    '2021-06-01 00:00:00', '2021-03-18 00:00:00', '2021-01-26 00:00:00', \n",
    "    '2021-06-06 00:00:00', '2021-04-30 00:00:00', '2021-08-01 00:00:00', \n",
    "    '2021-07-28 00:00:00', '2021-10-02 00:00:00', '2021-11-05 00:00:00', \n",
    "    '2021-02-04 00:00:00', '2021-10-04 00:00:00', '2021-09-04 00:00:00', \n",
    "    '2021-08-09 00:00:00', '2021-08-13 00:00:00', '2021-03-15 00:00:00', \n",
    "    '2021-10-05 00:00:00', '2021-07-13 00:00:00', '2021-06-08 00:00:00', \n",
    "    '2021-11-17 00:00:00', '2021-05-20 00:00:00', '2021-06-21 00:00:00', \n",
    "    '2021-08-21 00:00:00', '2021-02-09 00:00:00', '2021-04-29 00:00:00', \n",
    "    '2021-04-22 00:00:00', '2021-04-30 00:00:00', '2021-07-23 00:00:00', \n",
    "    '2021-09-02 00:00:00', '2021-11-11 00:00:00', '2021-03-20 00:00:00', \n",
    "    '2021-06-01 00:00:00', '2021-06-27 00:00:00', '2021-08-07 00:00:00', \n",
    "    '2021-05-23 00:00:00', '2021-07-01 00:00:00', '2021-07-13 00:00:00', \n",
    "    '2021-07-18 00:00:00', '2021-01-20 00:00:00', '2021-08-26 00:00:00', \n",
    "    '2021-03-25 00:00:00', '2021-05-09 00:00:00', '2021-02-15 00:00:00', \n",
    "    '2021-09-18 00:00:00', '2021-07-07 00:00:00', '2021-08-11 00:00:00', \n",
    "    '2021-02-25 00:00:00', '2021-03-11 00:00:00', '2021-02-07 00:00:00', \n",
    "    '2021-09-15 00:00:00', '2021-03-05 00:00:00', '2021-06-26 00:00:00', \n",
    "    '2021-10-26 00:00:00', '2021-03-17 00:00:00', '2021-01-19 00:00:00', \n",
    "    '2021-02-18 00:00:00', '2021-05-18 00:00:00', '2021-05-05 00:00:00', \n",
    "    '2021-09-16 00:00:00', '2021-07-25 00:00:00', '2021-10-28 00:00:00', \n",
    "    '2021-07-18 00:00:00', '2021-09-18 00:00:00', '2021-07-07 00:00:00', \n",
    "    '2021-11-29 00:00:00', '2021-09-02 00:00:00', '2021-05-10 00:00:00', \n",
    "    '2021-01-05 00:00:00', '2021-10-23 00:00:00', '2021-08-17 00:00:00', \n",
    "    '2021-04-29 00:00:00', '2021-02-03 00:00:00', '2021-02-07 00:00:00', \n",
    "    '2021-08-29 00:00:00', '2021-09-20 00:00:00', '2021-03-05 00:00:00', \n",
    "    '2021-08-14 00:00:00', '2021-02-07 00:00:00', '2021-04-13 00:00:00', \n",
    "    '2021-04-16 00:00:00', '2021-03-18 00:00:00', '2022-07-19 00:00:00', \n",
    "    '2022-11-05 00:00:00', '2022-06-18 00:00:00', '2022-08-23 00:00:00', \n",
    "    '2022-06-27 00:00:00', '2022-04-12 00:00:00', '2022-04-16 00:00:00', \n",
    "    '2022-06-23 00:00:00', '2022-10-03 00:00:00', '2022-08-29 00:00:00', \n",
    "    '2022-10-07 00:00:00', '2022-04-08 00:00:00', '2022-01-16 00:00:00', \n",
    "    '2022-03-01 00:00:00', '2022-11-17 00:00:00', '2022-03-08 00:00:00', \n",
    "    '2022-02-23 00:00:00', '2022-07-06 00:00:00', '2022-06-05 00:00:00', \n",
    "    '2022-04-22 00:00:00', '2022-10-06 00:00:00', '2022-07-01 00:00:00', \n",
    "    '2022-09-04 00:00:00', '2022-02-17 00:00:00', '2022-09-17 00:00:00', \n",
    "    '2022-01-16 00:00:00', '2022-01-15 00:00:00', '2022-07-07 00:00:00', \n",
    "    '2022-08-08 00:00:00', '2022-08-06 00:00:00', '2022-08-18 00:00:00', \n",
    "    '2022-03-17 00:00:00', '2022-09-28 00:00:00', '2022-02-07 00:00:00', \n",
    "    '2022-06-12 00:00:00', '2022-06-13 00:00:00', '2022-11-15 00:00:00', \n",
    "    '2022-06-30 00:00:00', '2022-02-14 00:00:00', '2022-04-09 00:00:00', \n",
    "    '2022-11-18 00:00:00', '2022-09-29 00:00:00', '2022-06-24 00:00:00', \n",
    "    '2022-02-12 00:00:00', '2022-04-20 00:00:00', '2022-08-20 00:00:00', \n",
    "    '2022-09-18 00:00:00', '2022-04-20 00:00:00', '2022-01-11 00:00:00', \n",
    "    '2022-08-02 00:00:00', '2022-04-14 00:00:00', '2022-02-15 00:00:00', \n",
    "    '2022-06-25 00:00:00', '2022-10-14 00:00:00', '2022-09-02 00:00:00', \n",
    "    '2022-03-02 00:00:00', '2022-02-20 00:00:00', '2022-07-24 00:00:00', \n",
    "    '2022-07-27 00:00:00', '2022-03-30 00:00:00', '2022-07-15 00:00:00', \n",
    "    '2022-07-19 00:00:00', '2022-01-28 00:00:00', '2022-05-12 00:00:00', \n",
    "    '2022-07-23 00:00:00', '2022-07-20 00:00:00', '2022-05-14 00:00:00', \n",
    "    '2022-05-21 00:00:00', '2022-07-08 00:00:00', '2022-09-07 00:00:00', \n",
    "    '2022-03-30 00:00:00', '2022-01-16 00:00:00', '2022-01-19 00:00:00', \n",
    "    '2022-01-24 00:00:00', '2022-11-07 00:00:00', '2022-08-25 00:00:00', \n",
    "    '2022-04-02 00:00:00', '2022-09-24 00:00:00', '2022-01-16 00:00:00', \n",
    "    '2022-04-23 00:00:00', '2022-11-17 00:00:00', '2022-10-27 00:00:00', \n",
    "    '2022-03-21 00:00:00', '2022-05-14 00:00:00', '2022-10-28 00:00:00', \n",
    "    '2022-10-23 00:00:00', '2022-05-08 00:00:00', '2022-03-10 00:00:00', \n",
    "    '2022-09-09 00:00:00', '2022-02-27 00:00:00', '2022-09-07 00:00:00', \n",
    "    '2022-04-02 00:00:00', '2022-11-06 00:00:00', '2022-05-01 00:00:00', \n",
    "    '2022-07-13 00:00:00', '2022-02-28 00:00:00', '2022-08-08 00:00:00', \n",
    "    '2022-08-09 00:00:00', '2022-09-24 00:00:00', '2022-01-15 00:00:00', \n",
    "    '2022-01-13 00:00:00', '2022-02-24 00:00:00', '2022-04-30 00:00:00', \n",
    "    '2022-09-26 00:00:00', '2022-10-08 00:00:00', '2022-02-21 00:00:00', \n",
    "    '2022-06-30 00:00:00', '2022-10-10 00:00:00', '2022-03-20 00:00:00', \n",
    "    '2022-10-18 00:00:00', '2022-08-24 00:00:00', '2022-09-24 00:00:00', \n",
    "    '2022-02-22 00:00:00', '2022-08-21 00:00:00', '2022-08-23 00:00:00', \n",
    "    '2022-05-21 00:00:00', '2022-03-01 00:00:00', '2022-08-02 00:00:00', \n",
    "    '2022-08-01 00:00:00', '2022-08-23 00:00:00', '2022-05-02 00:00:00', \n",
    "    '2022-09-08 00:00:00', '2022-08-02 00:00:00', '2022-07-01 00:00:00', \n",
    "    '2022-06-07 00:00:00', '2022-02-16 00:00:00', '2022-10-18 00:00:00', \n",
    "    '2022-10-01 00:00:00', '2022-01-19 00:00:00', '2022-10-16 00:00:00', \n",
    "    '2022-08-16 00:00:00', '2022-07-28 00:00:00', '2022-11-03 00:00:00', \n",
    "    '2022-08-09 00:00:00', '2022-02-16 00:00:00', '2022-09-01 00:00:00', \n",
    "    '2022-08-04 00:00:00', '2022-11-14 00:00:00', '2022-07-26 00:00:00', \n",
    "    '2022-07-21 00:00:00', '2022-02-14 00:00:00', '2022-05-21 00:00:00', \n",
    "    '2022-03-28 00:00:00', '2022-05-23 00:00:00', '2022-08-23 00:00:00', \n",
    "    '2022-09-27 00:00:00', '2022-07-20 00:00:00', '2022-04-25 00:00:00', \n",
    "    '2022-10-08 00:00:00', '2022-02-09 00:00:00', '2022-01-14 00:00:00', \n",
    "    '2022-05-30 00:00:00', '2022-11-25 00:00:00', '2022-08-19 00:00:00', \n",
    "    '2022-08-03 00:00:00', '2022-09-06 00:00:00', '2022-10-28 00:00:00', \n",
    "    '2022-07-30 00:00:00', '2022-06-27 00:00:00', '2022-01-23 00:00:00', \n",
    "    '2022-01-06 00:00:00', '2022-06-09 00:00:00', '2022-01-15 00:00:00', \n",
    "    '2022-08-02 00:00:00', '2022-01-20 00:00:00', '2022-11-02 00:00:00', \n",
    "    '2022-11-14 00:00:00', '2022-05-15 00:00:00', '2022-07-18 00:00:00', \n",
    "    '2022-10-15 00:00:00', '2022-03-19 00:00:00', '2022-03-08 00:00:00', \n",
    "    '2022-11-13 00:00:00', '2022-02-01 00:00:00', '2022-03-20 00:00:00', \n",
    "    '2022-07-23 00:00:00', '2022-11-12 00:00:00', '2022-11-06 00:00:00', \n",
    "    '2022-03-25 00:00:00', '2022-04-16 00:00:00', '2022-10-11 00:00:00', \n",
    "    '2022-04-03 00:00:00', '2022-06-30 00:00:00', '2022-09-03 00:00:00', \n",
    "    '2022-10-23 00:00:00', '2022-06-17 00:00:00', '2022-09-07 00:00:00', \n",
    "    '2022-08-23 00:00:00', '2022-08-03 00:00:00', '2022-09-21 00:00:00', \n",
    "    '2022-09-12 00:00:00', '2022-05-21 00:00:00', '2022-06-10 00:00:00', \n",
    "    '2022-01-15 00:00:00', '2022-05-10 00:00:00', '2022-01-05 00:00:00', \n",
    "    '2022-03-11 00:00:00', '2022-05-18 00:00:00', '2022-08-03 00:00:00', \n",
    "    '2022-07-16 00:00:00', '2022-05-14 00:00:00', '2022-11-04 00:00:00', \n",
    "    '2022-08-14 00:00:00', '2022-02-11 00:00:00', '2022-08-19 00:00:00', \n",
    "    '2022-08-15 00:00:00', '2022-03-28 00:00:00', '2022-10-16 00:00:00', \n",
    "    '2022-01-02 00:00:00', '2022-02-03 00:00:00', '2022-09-21 00:00:00', \n",
    "    '2022-10-13 00:00:00', '2022-02-26 00:00:00', '2022-05-10 00:00:00', \n",
    "    '2022-10-27 00:00:00', '2022-08-25 00:00:00', '2022-08-11 00:00:00', \n",
    "    '2022-06-15 00:00:00', \n",
    "    '2022-06-10 00:00:00'\n",
    "])"
   ]
  },
  {
   "cell_type": "markdown",
   "metadata": {},
   "source": [
    "## Considerations for categorical data"
   ]
  },
  {
   "cell_type": "markdown",
   "metadata": {},
   "source": [
    "### Checking for class imbalance"
   ]
  },
  {
   "cell_type": "code",
   "execution_count": 13,
   "metadata": {},
   "outputs": [
    {
     "name": "stdout",
     "output_type": "stream",
     "text": [
      "Job_Category\n",
      "Data Science        0.277641\n",
      "Data Engineering    0.272727\n",
      "Data Analytics      0.226044\n",
      "Machine Learning    0.120393\n",
      "Other               0.068796\n",
      "Managerial          0.034398\n",
      "Name: proportion, dtype: float64\n"
     ]
    }
   ],
   "source": [
    "# Print the relative frequency of Job_Category\n",
    "print(salaries['Job_Category'].value_counts(normalize=True))"
   ]
  },
  {
   "cell_type": "markdown",
   "metadata": {},
   "source": [
    "### Cross-tabulation"
   ]
  },
  {
   "cell_type": "code",
   "execution_count": 14,
   "metadata": {},
   "outputs": [
    {
     "name": "stdout",
     "output_type": "stream",
     "text": [
      "Experience    Entry  Executive  Mid  Senior\n",
      "Company_Size                               \n",
      "L                24         10   71      57\n",
      "M                19         10   49      94\n",
      "S                27          3   24      19\n"
     ]
    }
   ],
   "source": [
    "# Cross-tabulate Company_Size and Experience\n",
    "print(pd.crosstab(salaries[\"Company_Size\"], salaries[\"Experience\"]))"
   ]
  },
  {
   "cell_type": "code",
   "execution_count": 16,
   "metadata": {},
   "outputs": [
    {
     "name": "stdout",
     "output_type": "stream",
     "text": [
      "Company_Size       L   M   S\n",
      "Job_Category                \n",
      "Data Analytics    41  40  11\n",
      "Data Engineering  36  45  30\n",
      "Data Science      51  46  16\n",
      "Machine Learning  17  22  10\n",
      "Managerial         8   5   1\n",
      "Other              9  14   5\n"
     ]
    }
   ],
   "source": [
    "# Cross-tabulate Job_Category and Company_Size\n",
    "print(pd.crosstab(salaries[\"Job_Category\"], salaries[\"Company_Size\"]))"
   ]
  },
  {
   "cell_type": "code",
   "execution_count": 17,
   "metadata": {},
   "outputs": [
    {
     "name": "stdout",
     "output_type": "stream",
     "text": [
      "Company_Size                  L              M           S\n",
      "Job_Category                                              \n",
      "Data Analytics    102783.243902  104619.075000   79318.000\n",
      "Data Engineering  119445.361111  113054.133333   82118.400\n",
      "Data Science      113619.882353  100172.152174   71574.875\n",
      "Machine Learning  136336.529412  103595.363636   53469.800\n",
      "Managerial         83200.125000   92933.400000  109806.000\n",
      "Other              94916.444444  106198.071429   58795.000\n"
     ]
    }
   ],
   "source": [
    "# Cross-tabulate Job_Category and Company_Size\n",
    "print(pd.crosstab(salaries[\"Job_Category\"], salaries[\"Company_Size\"],\n",
    "            values=salaries[\"Salary_USD\"], aggfunc=\"mean\"))"
   ]
  },
  {
   "cell_type": "markdown",
   "metadata": {},
   "source": [
    "## Generating new features"
   ]
  },
  {
   "cell_type": "markdown",
   "metadata": {},
   "source": [
    "### Extracting features for correlation"
   ]
  },
  {
   "cell_type": "code",
   "execution_count": 23,
   "metadata": {},
   "outputs": [
    {
     "data": {
      "image/png": "[encoded data removed]",
      "text/plain": [
       "<Figure size 640x480 with 2 Axes>"
      ]
     },
     "metadata": {},
     "output_type": "display_data"
    }
   ],
   "source": [
    "# Get the month of the response\n",
    "salaries[\"month\"] = salaries[\"date_of_response\"].dt.month\n",
    "\n",
    "# Extract the weekday of the response\n",
    "salaries[\"weekday\"] = salaries[\"date_of_response\"].dt.weekday\n",
    "\n",
    "# Create a heatmap\n",
    "sns.heatmap(salaries.corr(numeric_only=True), annot=True)\n",
    "plt.show()"
   ]
  },
  {
   "cell_type": "markdown",
   "metadata": {},
   "source": [
    "### Calculating salary percentiles"
   ]
  },
  {
   "cell_type": "code",
   "execution_count": 24,
   "metadata": {},
   "outputs": [
    {
     "name": "stdout",
     "output_type": "stream",
     "text": [
      "55380.0 93725.0 133677.0\n"
     ]
    }
   ],
   "source": [
    "# Find the 25th percentile\n",
    "twenty_fifth = salaries[\"Salary_USD\"].quantile(0.25)\n",
    "\n",
    "# Save the median\n",
    "salaries_median = salaries[\"Salary_USD\"].median()\n",
    "\n",
    "# Gather the 75th percentile\n",
    "seventy_fifth = salaries[\"Salary_USD\"].quantile(0.75)\n",
    "print(twenty_fifth, salaries_median, seventy_fifth)"
   ]
  },
  {
   "cell_type": "markdown",
   "metadata": {},
   "source": [
    "### Categorizing salaries"
   ]
  },
  {
   "cell_type": "code",
   "execution_count": 25,
   "metadata": {},
   "outputs": [],
   "source": [
    "# Create salary labels\n",
    "salary_labels = [\"entry\", \"mid\", \"senior\", \"exec\"]"
   ]
  },
  {
   "cell_type": "code",
   "execution_count": 26,
   "metadata": {},
   "outputs": [],
   "source": [
    "# Create the salary ranges list\n",
    "salary_ranges = [0, twenty_fifth, salaries_median, seventy_fifth, salaries[\"Salary_USD\"].max()]"
   ]
  },
  {
   "cell_type": "code",
   "execution_count": 30,
   "metadata": {},
   "outputs": [],
   "source": [
    "# Create salary_level\n",
    "salaries[\"salary_level\"] = pd.cut(salaries[\"Salary_USD\"],\n",
    "                                  bins=salary_ranges,\n",
    "                                  labels=salary_labels)"
   ]
  },
  {
   "cell_type": "code",
   "execution_count": 31,
   "metadata": {},
   "outputs": [
    {
     "data": {
      "image/png": "[encoded data removed]",
      "text/plain": [
       "<Figure size 640x480 with 1 Axes>"
      ]
     },
     "metadata": {},
     "output_type": "display_data"
    }
   ],
   "source": [
    "# Plot the count of salary levels at companies of different sizes\n",
    "sns.countplot(data=salaries, x=\"Company_Size\", hue=\"salary_level\")\n",
    "plt.show()"
   ]
  },
  {
   "cell_type": "markdown",
   "metadata": {},
   "source": [
    "## Generating hypotheses"
   ]
  },
  {
   "cell_type": "markdown",
   "metadata": {},
   "source": [
    "### Comparing salaries"
   ]
  },
  {
   "cell_type": "code",
   "execution_count": 35,
   "metadata": {},
   "outputs": [
    {
     "data": {
      "image/png": "[encoded data removed]",
      "text/plain": [
       "<Figure size 640x480 with 1 Axes>"
      ]
     },
     "metadata": {},
     "output_type": "display_data"
    }
   ],
   "source": [
    "# Filter for employees in the US or GB\n",
    "usa_and_gb = salaries[salaries[\"Employee_Location\"].isin([\"US\", \"GB\"])]\n",
    "\n",
    "# Create a barplot of salaries by location\n",
    "sns.barplot(data=usa_and_gb, x=\"Employee_Location\", y=\"Salary_USD\")\n",
    "plt.show()"
   ]
  },
  {
   "cell_type": "markdown",
   "metadata": {},
   "source": [
    "### Choosing a hypothesis"
   ]
  },
  {
   "cell_type": "code",
   "execution_count": 36,
   "metadata": {},
   "outputs": [
    {
     "data": {
      "image/png": "[encoded data removed]",
      "text/plain": [
       "<Figure size 640x480 with 1 Axes>"
      ]
     },
     "metadata": {},
     "output_type": "display_data"
    }
   ],
   "source": [
    "# Create a bar plot of salary versus company size, factoring in employment status\n",
    "sns.barplot(data=salaries, x=\"Company_Size\", y=\"Salary_USD\", hue=\"Employment_Status\")\n",
    "plt.show()"
   ]
  }
 ],
 "metadata": {
  "kernelspec": {
   "display_name": "ds1",
   "language": "python",
   "name": "python3"
  },
  "language_info": {
   "codemirror_mode": {
    "name": "ipython",
    "version": 3
   },
   "file_extension": ".py",
   "mimetype": "text/x-python",
   "name": "python",
   "nbconvert_exporter": "python",
   "pygments_lexer": "ipython3",
   "version": "3.11.5"
  }
 },
 "nbformat": 4,
 "nbformat_minor": 2
}
