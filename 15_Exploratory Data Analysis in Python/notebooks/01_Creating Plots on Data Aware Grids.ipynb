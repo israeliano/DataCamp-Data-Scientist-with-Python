{
 "cells": [
  {
   "cell_type": "markdown",
   "metadata": {},
   "source": [
    "# Getting to Know a Dataset"
   ]
  },
  {
   "cell_type": "markdown",
   "metadata": {},
   "source": [
    "## Imports"
   ]
  },
  {
   "cell_type": "code",
   "execution_count": 14,
   "metadata": {},
   "outputs": [],
   "source": [
    "import warnings\n",
    "warnings.simplefilter(action='ignore', category=FutureWarning)"
   ]
  },
  {
   "cell_type": "code",
   "execution_count": 3,
   "metadata": {},
   "outputs": [],
   "source": [
    "import pandas as pd"
   ]
  },
  {
   "cell_type": "code",
   "execution_count": 4,
   "metadata": {},
   "outputs": [
    {
     "data": {
      "text/html": [
       "<div>\n",
       "<style scoped>\n",
       "    .dataframe tbody tr th:only-of-type {\n",
       "        vertical-align: middle;\n",
       "    }\n",
       "\n",
       "    .dataframe tbody tr th {\n",
       "        vertical-align: top;\n",
       "    }\n",
       "\n",
       "    .dataframe thead th {\n",
       "        text-align: right;\n",
       "    }\n",
       "</style>\n",
       "<table border=\"1\" class=\"dataframe\">\n",
       "  <thead>\n",
       "    <tr style=\"text-align: right;\">\n",
       "      <th></th>\n",
       "      <th>country_code</th>\n",
       "      <th>country_name</th>\n",
       "      <th>continent</th>\n",
       "      <th>2010</th>\n",
       "      <th>2011</th>\n",
       "      <th>2012</th>\n",
       "      <th>2013</th>\n",
       "      <th>2014</th>\n",
       "      <th>2015</th>\n",
       "      <th>2016</th>\n",
       "      <th>2017</th>\n",
       "      <th>2018</th>\n",
       "      <th>2019</th>\n",
       "      <th>2020</th>\n",
       "      <th>2021</th>\n",
       "    </tr>\n",
       "  </thead>\n",
       "  <tbody>\n",
       "    <tr>\n",
       "      <th>64</th>\n",
       "      <td>GTM</td>\n",
       "      <td>Guatemala</td>\n",
       "      <td>North America</td>\n",
       "      <td>3.50</td>\n",
       "      <td>3.09</td>\n",
       "      <td>2.76</td>\n",
       "      <td>3.02</td>\n",
       "      <td>2.72</td>\n",
       "      <td>2.51</td>\n",
       "      <td>2.58</td>\n",
       "      <td>2.46</td>\n",
       "      <td>2.28</td>\n",
       "      <td>2.19</td>\n",
       "      <td>3.55</td>\n",
       "      <td>3.57</td>\n",
       "    </tr>\n",
       "    <tr>\n",
       "      <th>147</th>\n",
       "      <td>SOM</td>\n",
       "      <td>Somalia</td>\n",
       "      <td>Africa</td>\n",
       "      <td>18.96</td>\n",
       "      <td>18.98</td>\n",
       "      <td>18.97</td>\n",
       "      <td>18.95</td>\n",
       "      <td>18.93</td>\n",
       "      <td>18.90</td>\n",
       "      <td>18.89</td>\n",
       "      <td>18.88</td>\n",
       "      <td>18.85</td>\n",
       "      <td>18.83</td>\n",
       "      <td>19.72</td>\n",
       "      <td>19.86</td>\n",
       "    </tr>\n",
       "  </tbody>\n",
       "</table>\n",
       "</div>"
      ],
      "text/plain": [
       "    country_code country_name      continent   2010   2011   2012   2013  \\\n",
       "64           GTM    Guatemala  North America   3.50   3.09   2.76   3.02   \n",
       "147          SOM      Somalia         Africa  18.96  18.98  18.97  18.95   \n",
       "\n",
       "      2014   2015   2016   2017   2018   2019   2020   2021  \n",
       "64    2.72   2.51   2.58   2.46   2.28   2.19   3.55   3.57  \n",
       "147  18.93  18.90  18.89  18.88  18.85  18.83  19.72  19.86  "
      ]
     },
     "execution_count": 4,
     "metadata": {},
     "output_type": "execute_result"
    }
   ],
   "source": [
    "unemployment = pd.read_csv('../data/clean_unemployment.csv')\n",
    "unemployment.sample(2)"
   ]
  },
  {
   "cell_type": "markdown",
   "metadata": {},
   "source": [
    "## Initial exploration"
   ]
  },
  {
   "cell_type": "markdown",
   "metadata": {},
   "source": [
    "### Functions for initial exploration"
   ]
  },
  {
   "cell_type": "code",
   "execution_count": 5,
   "metadata": {},
   "outputs": [
    {
     "name": "stdout",
     "output_type": "stream",
     "text": [
      "  country_code          country_name      continent   2010   2011   2012  \\\n",
      "0          AFG           Afghanistan           Asia  11.35  11.05  11.34   \n",
      "1          AGO                Angola         Africa   9.43   7.36   7.35   \n",
      "2          ALB               Albania         Europe  14.09  13.48  13.38   \n",
      "3          ARE  United Arab Emirates           Asia   2.48   2.30   2.18   \n",
      "4          ARG             Argentina  South America   7.71   7.18   7.22   \n",
      "\n",
      "    2013   2014   2015   2016   2017   2018   2019   2020   2021  \n",
      "0  11.19  11.14  11.13  11.16  11.18  11.15  11.22  11.71  13.28  \n",
      "1   7.37   7.37   7.39   7.41   7.41   7.42   7.42   8.33   8.53  \n",
      "2  15.87  18.05  17.19  15.42  13.62  12.30  11.47  13.33  11.82  \n",
      "3   2.04   1.91   1.77   1.64   2.46   2.35   2.23   3.19   3.36  \n",
      "4   7.10   7.27   7.52   8.11   8.35   9.22   9.84  11.46  10.90  \n"
     ]
    }
   ],
   "source": [
    "# Print the first five rows of unemployment\n",
    "print(unemployment.head(5))"
   ]
  },
  {
   "cell_type": "code",
   "execution_count": 7,
   "metadata": {},
   "outputs": [
    {
     "name": "stdout",
     "output_type": "stream",
     "text": [
      "<class 'pandas.core.frame.DataFrame'>\n",
      "RangeIndex: 182 entries, 0 to 181\n",
      "Data columns (total 15 columns):\n",
      " #   Column        Non-Null Count  Dtype  \n",
      "---  ------        --------------  -----  \n",
      " 0   country_code  182 non-null    object \n",
      " 1   country_name  182 non-null    object \n",
      " 2   continent     177 non-null    object \n",
      " 3   2010          182 non-null    float64\n",
      " 4   2011          182 non-null    float64\n",
      " 5   2012          182 non-null    float64\n",
      " 6   2013          182 non-null    float64\n",
      " 7   2014          182 non-null    float64\n",
      " 8   2015          182 non-null    float64\n",
      " 9   2016          182 non-null    float64\n",
      " 10  2017          182 non-null    float64\n",
      " 11  2018          182 non-null    float64\n",
      " 12  2019          182 non-null    float64\n",
      " 13  2020          182 non-null    float64\n",
      " 14  2021          182 non-null    float64\n",
      "dtypes: float64(12), object(3)\n",
      "memory usage: 21.5+ KB\n",
      "None\n"
     ]
    }
   ],
   "source": [
    "# Print a summary of non-missing values and data types in the unemployment DataFrame\n",
    "print(unemployment.info())"
   ]
  },
  {
   "cell_type": "code",
   "execution_count": 8,
   "metadata": {},
   "outputs": [
    {
     "name": "stdout",
     "output_type": "stream",
     "text": [
      "             2010        2011        2012        2013        2014        2015  \\\n",
      "count  182.000000  182.000000  182.000000  182.000000  182.000000  182.000000   \n",
      "mean     8.409286    8.315440    8.317967    8.344780    8.179670    8.058901   \n",
      "std      6.248887    6.266795    6.367270    6.416041    6.284241    6.161170   \n",
      "min      0.450000    0.320000    0.480000    0.250000    0.200000    0.170000   \n",
      "25%      4.015000    3.775000    3.742500    3.692500    3.625000    3.662500   \n",
      "50%      6.965000    6.805000    6.690000    6.395000    6.450000    6.170000   \n",
      "75%     10.957500   11.045000   11.285000   11.310000   10.695000   10.215000   \n",
      "max     32.020000   31.380000   31.020000   29.000000   28.030000   27.690000   \n",
      "\n",
      "             2016        2017        2018        2019        2020        2021  \n",
      "count  182.000000  182.000000  182.000000  182.000000  182.000000  182.000000  \n",
      "mean     7.925879    7.668626    7.426429    7.243736    8.420934    8.390879  \n",
      "std      6.045439    5.902152    5.818915    5.696573    6.040915    6.067192  \n",
      "min      0.150000    0.140000    0.110000    0.100000    0.210000    0.260000  \n",
      "25%      3.800000    3.690000    3.625000    3.487500    4.285000    4.335000  \n",
      "50%      5.925000    5.650000    5.375000    5.240000    6.695000    6.425000  \n",
      "75%     10.245000   10.315000    9.257500    9.445000   11.155000   10.840000  \n",
      "max     26.540000   27.040000   26.910000   28.470000   29.220000   33.560000  \n"
     ]
    }
   ],
   "source": [
    "# Print summary statistics for numerical columns in unemployment\n",
    "print(unemployment.describe())"
   ]
  },
  {
   "cell_type": "markdown",
   "metadata": {},
   "source": [
    "### Counting categorical values"
   ]
  },
  {
   "cell_type": "code",
   "execution_count": 12,
   "metadata": {},
   "outputs": [
    {
     "name": "stdout",
     "output_type": "stream",
     "text": [
      "continent\n",
      "Africa           53\n",
      "Asia             47\n",
      "Europe           39\n",
      "North America    18\n",
      "South America    12\n",
      "Oceania           8\n",
      "Name: count, dtype: int64\n"
     ]
    }
   ],
   "source": [
    "# Count the values associated with each continent in unemployment\n",
    "print(unemployment['continent'].value_counts())"
   ]
  },
  {
   "cell_type": "markdown",
   "metadata": {},
   "source": [
    "### Global unemployment in 2021"
   ]
  },
  {
   "cell_type": "code",
   "execution_count": 18,
   "metadata": {},
   "outputs": [
    {
     "data": {
      "image/png": "[encoded data removed]",
      "text/plain": [
       "<Figure size 640x480 with 1 Axes>"
      ]
     },
     "metadata": {},
     "output_type": "display_data"
    }
   ],
   "source": [
    "# Import the required visualization libraries\n",
    "import seaborn as sns\n",
    "import matplotlib.pyplot as plt\n",
    "\n",
    "# Create a histogram of 2021 unemployment; show a full percent in each bin\n",
    "sns.histplot(data=unemployment, x='2021', binwidth=1)\n",
    "plt.show()"
   ]
  },
  {
   "cell_type": "markdown",
   "metadata": {},
   "source": [
    "## Data validation"
   ]
  },
  {
   "cell_type": "markdown",
   "metadata": {},
   "source": [
    "### Detecting data types"
   ]
  },
  {
   "cell_type": "code",
   "execution_count": 20,
   "metadata": {},
   "outputs": [
    {
     "data": {
      "text/plain": [
       "country_code     object\n",
       "country_name     object\n",
       "continent        object\n",
       "2010            float64\n",
       "2011            float64\n",
       "2012            float64\n",
       "2013            float64\n",
       "2014            float64\n",
       "2015            float64\n",
       "2016            float64\n",
       "2017            float64\n",
       "2018            float64\n",
       "2019            float64\n",
       "2020            float64\n",
       "2021            float64\n",
       "dtype: object"
      ]
     },
     "execution_count": 20,
     "metadata": {},
     "output_type": "execute_result"
    }
   ],
   "source": [
    "unemployment.dtypes"
   ]
  },
  {
   "cell_type": "code",
   "execution_count": 21,
   "metadata": {},
   "outputs": [
    {
     "name": "stdout",
     "output_type": "stream",
     "text": [
      "country_code     object\n",
      "country_name     object\n",
      "continent        object\n",
      "2010            float64\n",
      "2011            float64\n",
      "2012            float64\n",
      "2013            float64\n",
      "2014            float64\n",
      "2015            float64\n",
      "2016            float64\n",
      "2017            float64\n",
      "2018            float64\n",
      "2019            float64\n",
      "2020            float64\n",
      "2021            float64\n",
      "dtype: object\n"
     ]
    }
   ],
   "source": [
    "# Update the data type of the 2019 column to a float\n",
    "unemployment[\"2019\"] = unemployment[\"2019\"].astype('float')\n",
    "# Print the dtypes to check your work\n",
    "print(unemployment.dtypes)"
   ]
  },
  {
   "cell_type": "markdown",
   "metadata": {},
   "source": [
    "### Validating continents"
   ]
  },
  {
   "cell_type": "code",
   "execution_count": 24,
   "metadata": {},
   "outputs": [],
   "source": [
    "# Define a Series describing whether each continent is outside of Oceania\n",
    "not_oceania = (unemployment['continent'] != 'Oceania')"
   ]
  },
  {
   "cell_type": "code",
   "execution_count": 27,
   "metadata": {},
   "outputs": [
    {
     "name": "stdout",
     "output_type": "stream",
     "text": [
      "    country_code          country_name      continent   2010   2011   2012  \\\n",
      "0            AFG           Afghanistan           Asia  11.35  11.05  11.34   \n",
      "1            AGO                Angola         Africa   9.43   7.36   7.35   \n",
      "2            ALB               Albania         Europe  14.09  13.48  13.38   \n",
      "3            ARE  United Arab Emirates           Asia   2.48   2.30   2.18   \n",
      "4            ARG             Argentina  South America   7.71   7.18   7.22   \n",
      "..           ...                   ...            ...    ...    ...    ...   \n",
      "175          VNM               Vietnam           Asia   1.11   1.00   1.03   \n",
      "178          YEM           Yemen, Rep.           Asia  12.83  13.23  13.17   \n",
      "179          ZAF          South Africa         Africa  24.68  24.64  24.73   \n",
      "180          ZMB                Zambia         Africa  13.19  10.55   7.85   \n",
      "181          ZWE              Zimbabwe         Africa   5.21   5.37   5.15   \n",
      "\n",
      "      2013   2014   2015   2016   2017   2018   2019   2020   2021  \n",
      "0    11.19  11.14  11.13  11.16  11.18  11.15  11.22  11.71  13.28  \n",
      "1     7.37   7.37   7.39   7.41   7.41   7.42   7.42   8.33   8.53  \n",
      "2    15.87  18.05  17.19  15.42  13.62  12.30  11.47  13.33  11.82  \n",
      "3     2.04   1.91   1.77   1.64   2.46   2.35   2.23   3.19   3.36  \n",
      "4     7.10   7.27   7.52   8.11   8.35   9.22   9.84  11.46  10.90  \n",
      "..     ...    ...    ...    ...    ...    ...    ...    ...    ...  \n",
      "175   1.32   1.26   1.85   1.85   1.87   1.16   2.04   2.39   2.17  \n",
      "178  13.27  13.47  13.77  13.43  13.30  13.15  13.06  13.39  13.57  \n",
      "179  24.56  24.89  25.15  26.54  27.04  26.91  28.47  29.22  33.56  \n",
      "180   8.61   9.36  10.13  10.87  11.63  12.01  12.52  12.85  13.03  \n",
      "181   4.98   4.77   4.78   4.79   4.78   4.80   4.83   5.35   5.17  \n",
      "\n",
      "[174 rows x 15 columns]\n"
     ]
    }
   ],
   "source": [
    "# Define a Series describing whether each continent is outside of Oceania\n",
    "not_oceania = ~unemployment[\"continent\"].isin([\"Oceania\"])\n",
    "\n",
    "# Print unemployment without records related to countries in Oceania\n",
    "print(unemployment[not_oceania])"
   ]
  },
  {
   "cell_type": "markdown",
   "metadata": {},
   "source": [
    "### Validating range"
   ]
  },
  {
   "cell_type": "code",
   "execution_count": 30,
   "metadata": {},
   "outputs": [
    {
     "name": "stdout",
     "output_type": "stream",
     "text": [
      "0.26 33.56\n"
     ]
    },
    {
     "data": {
      "image/png": "[encoded data removed]",
      "text/plain": [
       "<Figure size 640x480 with 1 Axes>"
      ]
     },
     "metadata": {},
     "output_type": "display_data"
    }
   ],
   "source": [
    "# Print the minimum and maximum unemployment rates during 2021\n",
    "print(unemployment['2021'].min(), unemployment['2021'].max())\n",
    "\n",
    "# Create a boxplot of 2021 unemployment rates, broken down by continent\n",
    "sns.boxplot(data=unemployment, x='2021', y='continent')\n",
    "plt.show()"
   ]
  },
  {
   "cell_type": "markdown",
   "metadata": {},
   "source": [
    "## Data summarization"
   ]
  },
  {
   "cell_type": "markdown",
   "metadata": {},
   "source": [
    "### Summaries with .groupby() and .agg()"
   ]
  },
  {
   "cell_type": "code",
   "execution_count": 41,
   "metadata": {},
   "outputs": [
    {
     "name": "stdout",
     "output_type": "stream",
     "text": [
      "          2010      2011      2012      2013      2014      2015      2016  \\\n",
      "mean  8.409286  8.315440  8.317967  8.344780  8.179670  8.058901  7.925879   \n",
      "std   6.248887  6.266795  6.367270  6.416041  6.284241  6.161170  6.045439   \n",
      "\n",
      "          2017      2018      2019      2020      2021  \n",
      "mean  7.668626  7.426429  7.243736  8.420934  8.390879  \n",
      "std   5.902152  5.818915  5.696573  6.040915  6.067192  \n"
     ]
    }
   ],
   "source": [
    "# Print the mean and standard deviation of rates by year\n",
    "print(unemployment[['2010', '2011', '2012',\n",
    "       '2013', '2014', '2015', '2016', '2017', '2018', '2019', '2020', '2021']].agg(['mean', 'std']))"
   ]
  },
  {
   "cell_type": "code",
   "execution_count": 43,
   "metadata": {},
   "outputs": [
    {
     "name": "stdout",
     "output_type": "stream",
     "text": [
      "                    2010                 2011                 2012            \\\n",
      "                    mean       std       mean       std       mean       std   \n",
      "continent                                                                      \n",
      "Africa          9.343585  7.411259   9.369245  7.401556   9.240755  7.264542   \n",
      "Asia            6.240638  5.146175   5.942128  4.779575   5.835319  4.756904   \n",
      "Europe         11.008205  6.392063  10.947949  6.539538  11.325641  7.003527   \n",
      "North America   8.663333  5.115805   8.563333  5.377041   8.448889  5.495819   \n",
      "Oceania         3.622500  2.054721   3.647500  2.008466   4.103750  2.723118   \n",
      "South America   6.870833  2.807058   6.518333  2.801577   6.410833  2.936508   \n",
      "\n",
      "                    2013                 2014            ...      2017  \\\n",
      "                    mean       std       mean       std  ...      mean   \n",
      "continent                                                ...             \n",
      "Africa          9.132453  7.309285   9.121321  7.291359  ...  9.284528   \n",
      "Asia            5.852128  4.668405   5.853191  4.681301  ...  6.171277   \n",
      "Europe         11.466667  6.969209  10.971282  6.759765  ...  8.359744   \n",
      "North America   8.840556  6.081829   8.512222  5.801927  ...  7.391111   \n",
      "Oceania         3.980000  2.640119   3.976250  2.659205  ...  3.872500   \n",
      "South America   6.335000  2.808780   6.347500  2.834332  ...  7.281667   \n",
      "\n",
      "                             2018                2019                 2020  \\\n",
      "                    std      mean       std      mean       std       mean   \n",
      "continent                                                                    \n",
      "Africa         7.407620  9.237925  7.358425  9.264340  7.455293  10.307736   \n",
      "Asia           5.277201  6.090213  5.409128  5.949149  5.254008   7.012340   \n",
      "Europe         5.177845  7.427436  4.738206  6.764359  4.124734   7.470513   \n",
      "North America  5.326446  7.281111  5.253180  7.095000  4.770490   9.297778   \n",
      "Oceania        2.492834  3.851250  2.455893  3.773750  2.369068   4.273750   \n",
      "South America  3.398994  7.496667  3.408856  7.719167  3.379845  10.275000   \n",
      "\n",
      "                              2021            \n",
      "                    std       mean       std  \n",
      "continent                                     \n",
      "Africa         7.928166  10.473585  8.131636  \n",
      "Asia           5.699609   6.906170  5.414745  \n",
      "Europe         4.071218   7.414872  3.947825  \n",
      "North America  4.963045   9.155000  5.076482  \n",
      "Oceania        2.617490   4.280000  2.671522  \n",
      "South America  3.411263   9.924167  3.611624  \n",
      "\n",
      "[6 rows x 24 columns]\n",
      "None\n"
     ]
    }
   ],
   "source": [
    "# Print yearly mean and standard deviation grouped by continent\n",
    "print(print(unemployment.groupby('continent')[['2010', '2011', '2012',\n",
    "       '2013', '2014', '2015', '2016', '2017', '2018', '2019', '2020', '2021']].agg(['mean', 'std'])))"
   ]
  },
  {
   "cell_type": "markdown",
   "metadata": {},
   "source": [
    "### Named aggregations"
   ]
  },
  {
   "cell_type": "code",
   "execution_count": 44,
   "metadata": {},
   "outputs": [
    {
     "name": "stdout",
     "output_type": "stream",
     "text": [
      "               mean_rate_2021  std_rate_2021\n",
      "continent                                   \n",
      "Africa              10.473585       8.131636\n",
      "Asia                 6.906170       5.414745\n",
      "Europe               7.414872       3.947825\n",
      "North America        9.155000       5.076482\n",
      "Oceania              4.280000       2.671522\n",
      "South America        9.924167       3.611624\n"
     ]
    }
   ],
   "source": [
    "continent_summary = unemployment.groupby(\"continent\").agg(\n",
    "    # Create the mean_rate_2021 column\n",
    "    mean_rate_2021 = ('2021', 'mean'),\n",
    "    # Create the std_rate_2021 column\n",
    "    std_rate_2021 = ('2021', 'std'),\n",
    ")\n",
    "print(continent_summary)"
   ]
  },
  {
   "cell_type": "markdown",
   "metadata": {},
   "source": [
    "### Visualizing categorical summaries"
   ]
  },
  {
   "cell_type": "code",
   "execution_count": 46,
   "metadata": {},
   "outputs": [
    {
     "data": {
      "image/png": "[encoded data removed]",
      "text/plain": [
       "<Figure size 640x480 with 1 Axes>"
      ]
     },
     "metadata": {},
     "output_type": "display_data"
    }
   ],
   "source": [
    "# Create a bar plot of continents and their average unemployment\n",
    "sns.barplot(data=unemployment, x='continent', y='2021')\n",
    "plt.show()"
   ]
  }
 ],
 "metadata": {
  "kernelspec": {
   "display_name": "ds1",
   "language": "python",
   "name": "python3"
  },
  "language_info": {
   "codemirror_mode": {
    "name": "ipython",
    "version": 3
   },
   "file_extension": ".py",
   "mimetype": "text/x-python",
   "name": "python",
   "nbconvert_exporter": "python",
   "pygments_lexer": "ipython3",
   "version": "3.11.5"
  }
 },
 "nbformat": 4,
 "nbformat_minor": 2
}
