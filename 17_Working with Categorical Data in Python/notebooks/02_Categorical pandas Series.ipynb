{
 "cells": [
  {
   "cell_type": "markdown",
   "metadata": {},
   "source": [
    "# Categorical pandas Series"
   ]
  },
  {
   "cell_type": "markdown",
   "metadata": {},
   "source": [
    "## Imports"
   ]
  },
  {
   "cell_type": "code",
   "execution_count": 1,
   "metadata": {},
   "outputs": [],
   "source": [
    "import warnings\n",
    "warnings.simplefilter(action='ignore', category=FutureWarning)"
   ]
  },
  {
   "cell_type": "code",
   "execution_count": 2,
   "metadata": {},
   "outputs": [],
   "source": [
    "import pandas as pd\n",
    "import numpy as np"
   ]
  },
  {
   "cell_type": "code",
   "execution_count": 25,
   "metadata": {},
   "outputs": [
    {
     "data": {
      "text/html": [
       "<div>\n",
       "<style scoped>\n",
       "    .dataframe tbody tr th:only-of-type {\n",
       "        vertical-align: middle;\n",
       "    }\n",
       "\n",
       "    .dataframe tbody tr th {\n",
       "        vertical-align: top;\n",
       "    }\n",
       "\n",
       "    .dataframe thead th {\n",
       "        text-align: right;\n",
       "    }\n",
       "</style>\n",
       "<table border=\"1\" class=\"dataframe\">\n",
       "  <thead>\n",
       "    <tr style=\"text-align: right;\">\n",
       "      <th></th>\n",
       "      <th>ID</th>\n",
       "      <th>name</th>\n",
       "      <th>age</th>\n",
       "      <th>sex</th>\n",
       "      <th>breed</th>\n",
       "      <th>date_found</th>\n",
       "      <th>adoptable_from</th>\n",
       "      <th>posted</th>\n",
       "      <th>color</th>\n",
       "      <th>coat</th>\n",
       "      <th>size</th>\n",
       "      <th>neutered</th>\n",
       "      <th>housebroken</th>\n",
       "      <th>likes_people</th>\n",
       "      <th>likes_children</th>\n",
       "      <th>get_along_males</th>\n",
       "      <th>get_along_females</th>\n",
       "      <th>get_along_cats</th>\n",
       "      <th>keep_in</th>\n",
       "    </tr>\n",
       "  </thead>\n",
       "  <tbody>\n",
       "    <tr>\n",
       "      <th>0</th>\n",
       "      <td>23807</td>\n",
       "      <td>Gida</td>\n",
       "      <td>0.25</td>\n",
       "      <td>female</td>\n",
       "      <td>Unknown Mix</td>\n",
       "      <td>12/10/19</td>\n",
       "      <td>12/11/19</td>\n",
       "      <td>12/11/19</td>\n",
       "      <td>red</td>\n",
       "      <td>short</td>\n",
       "      <td>small</td>\n",
       "      <td>no</td>\n",
       "      <td>NaN</td>\n",
       "      <td>NaN</td>\n",
       "      <td>NaN</td>\n",
       "      <td>NaN</td>\n",
       "      <td>NaN</td>\n",
       "      <td>NaN</td>\n",
       "      <td>NaN</td>\n",
       "    </tr>\n",
       "    <tr>\n",
       "      <th>1</th>\n",
       "      <td>533</td>\n",
       "      <td>Frida És Ricsi</td>\n",
       "      <td>0.17</td>\n",
       "      <td>female</td>\n",
       "      <td>Unknown Mix</td>\n",
       "      <td>12/1/19</td>\n",
       "      <td>12/1/19</td>\n",
       "      <td>12/9/19</td>\n",
       "      <td>black and white</td>\n",
       "      <td>short</td>\n",
       "      <td>small</td>\n",
       "      <td>no</td>\n",
       "      <td>NaN</td>\n",
       "      <td>yes</td>\n",
       "      <td>yes</td>\n",
       "      <td>yes</td>\n",
       "      <td>yes</td>\n",
       "      <td>yes</td>\n",
       "      <td>NaN</td>\n",
       "    </tr>\n",
       "    <tr>\n",
       "      <th>2</th>\n",
       "      <td>23793</td>\n",
       "      <td>NaN</td>\n",
       "      <td>4.00</td>\n",
       "      <td>male</td>\n",
       "      <td>Unknown Mix</td>\n",
       "      <td>12/8/19</td>\n",
       "      <td>12/23/19</td>\n",
       "      <td>12/8/19</td>\n",
       "      <td>saddle back</td>\n",
       "      <td>short</td>\n",
       "      <td>medium</td>\n",
       "      <td>no</td>\n",
       "      <td>NaN</td>\n",
       "      <td>NaN</td>\n",
       "      <td>NaN</td>\n",
       "      <td>NaN</td>\n",
       "      <td>NaN</td>\n",
       "      <td>NaN</td>\n",
       "      <td>NaN</td>\n",
       "    </tr>\n",
       "    <tr>\n",
       "      <th>3</th>\n",
       "      <td>23795</td>\n",
       "      <td>NaN</td>\n",
       "      <td>1.00</td>\n",
       "      <td>male</td>\n",
       "      <td>Unknown Mix</td>\n",
       "      <td>12/8/19</td>\n",
       "      <td>12/23/19</td>\n",
       "      <td>12/8/19</td>\n",
       "      <td>yellow-brown</td>\n",
       "      <td>medium</td>\n",
       "      <td>medium</td>\n",
       "      <td>no</td>\n",
       "      <td>NaN</td>\n",
       "      <td>NaN</td>\n",
       "      <td>NaN</td>\n",
       "      <td>NaN</td>\n",
       "      <td>NaN</td>\n",
       "      <td>NaN</td>\n",
       "      <td>NaN</td>\n",
       "    </tr>\n",
       "    <tr>\n",
       "      <th>4</th>\n",
       "      <td>23806</td>\n",
       "      <td>Amy</td>\n",
       "      <td>2.00</td>\n",
       "      <td>female</td>\n",
       "      <td>French Bulldog Mix</td>\n",
       "      <td>12/10/19</td>\n",
       "      <td>12/11/19</td>\n",
       "      <td>12/11/19</td>\n",
       "      <td>black</td>\n",
       "      <td>short</td>\n",
       "      <td>small</td>\n",
       "      <td>no</td>\n",
       "      <td>NaN</td>\n",
       "      <td>NaN</td>\n",
       "      <td>NaN</td>\n",
       "      <td>NaN</td>\n",
       "      <td>NaN</td>\n",
       "      <td>NaN</td>\n",
       "      <td>NaN</td>\n",
       "    </tr>\n",
       "  </tbody>\n",
       "</table>\n",
       "</div>"
      ],
      "text/plain": [
       "      ID            name   age     sex               breed date_found  \\\n",
       "0  23807            Gida  0.25  female         Unknown Mix   12/10/19   \n",
       "1    533  Frida És Ricsi  0.17  female         Unknown Mix    12/1/19   \n",
       "2  23793             NaN  4.00    male         Unknown Mix    12/8/19   \n",
       "3  23795             NaN  1.00    male         Unknown Mix    12/8/19   \n",
       "4  23806             Amy  2.00  female  French Bulldog Mix   12/10/19   \n",
       "\n",
       "  adoptable_from    posted            color    coat    size neutered  \\\n",
       "0       12/11/19  12/11/19              red   short   small       no   \n",
       "1        12/1/19   12/9/19  black and white   short   small       no   \n",
       "2       12/23/19   12/8/19      saddle back   short  medium       no   \n",
       "3       12/23/19   12/8/19     yellow-brown  medium  medium       no   \n",
       "4       12/11/19  12/11/19            black   short   small       no   \n",
       "\n",
       "  housebroken likes_people likes_children get_along_males get_along_females  \\\n",
       "0         NaN          NaN            NaN             NaN               NaN   \n",
       "1         NaN          yes            yes             yes               yes   \n",
       "2         NaN          NaN            NaN             NaN               NaN   \n",
       "3         NaN          NaN            NaN             NaN               NaN   \n",
       "4         NaN          NaN            NaN             NaN               NaN   \n",
       "\n",
       "  get_along_cats keep_in  \n",
       "0            NaN     NaN  \n",
       "1            yes     NaN  \n",
       "2            NaN     NaN  \n",
       "3            NaN     NaN  \n",
       "4            NaN     NaN  "
      ]
     },
     "execution_count": 25,
     "metadata": {},
     "output_type": "execute_result"
    }
   ],
   "source": [
    "dogs = pd.read_csv('../data/ShelterDogs.csv')\n",
    "dogs.head()"
   ]
  },
  {
   "cell_type": "markdown",
   "metadata": {},
   "source": [
    "## Setting category variables"
   ]
  },
  {
   "cell_type": "markdown",
   "metadata": {},
   "source": [
    "### Adding categories"
   ]
  },
  {
   "cell_type": "code",
   "execution_count": 12,
   "metadata": {},
   "outputs": [
    {
     "name": "stdout",
     "output_type": "stream",
     "text": [
      "keep_in\n",
      "both flat and garden    1224\n",
      "NaN                     1021\n",
      "garden                   510\n",
      "flat                     182\n",
      "Name: count, dtype: int64\n"
     ]
    }
   ],
   "source": [
    "# Check frequency counts while also printing the NaN count\n",
    "print(dogs['keep_in'].value_counts(dropna=False))"
   ]
  },
  {
   "cell_type": "code",
   "execution_count": 13,
   "metadata": {},
   "outputs": [],
   "source": [
    "# Switch to a categorical variable\n",
    "dogs[\"keep_in\"] = dogs['keep_in'].astype('category')"
   ]
  },
  {
   "cell_type": "code",
   "execution_count": 14,
   "metadata": {},
   "outputs": [],
   "source": [
    "# Add new categories\n",
    "new_categories = [\"Unknown History\", \"Open Yard (Countryside)\"]\n",
    "dogs[\"keep_in\"] = dogs['keep_in'].cat.add_categories(\n",
    "    new_categories=new_categories\n",
    ")"
   ]
  },
  {
   "cell_type": "code",
   "execution_count": 15,
   "metadata": {},
   "outputs": [
    {
     "name": "stdout",
     "output_type": "stream",
     "text": [
      "keep_in\n",
      "both flat and garden       1224\n",
      "NaN                        1021\n",
      "garden                      510\n",
      "flat                        182\n",
      "Unknown History               0\n",
      "Open Yard (Countryside)       0\n",
      "Name: count, dtype: int64\n"
     ]
    }
   ],
   "source": [
    "# Check frequency counts one more time\n",
    "print(dogs['keep_in'].value_counts(dropna=False))"
   ]
  },
  {
   "cell_type": "markdown",
   "metadata": {},
   "source": [
    "### Removing categories"
   ]
  },
  {
   "cell_type": "code",
   "execution_count": 26,
   "metadata": {},
   "outputs": [],
   "source": [
    "dogs[\"likes_children\"] = dogs[\"likes_children\"].fillna('maybe').astype('category')"
   ]
  },
  {
   "cell_type": "code",
   "execution_count": 27,
   "metadata": {},
   "outputs": [
    {
     "name": "stdout",
     "output_type": "stream",
     "text": [
      "Index(['maybe', 'no', 'yes'], dtype='object')\n"
     ]
    }
   ],
   "source": [
    "# Set \"maybe\" to be \"no\"\n",
    "dogs.loc[dogs[\"likes_children\"] == \"maybe\", \"likes_children\"] = \"no\"\n",
    "\n",
    "# Print out categories\n",
    "print(dogs[\"likes_children\"].cat.categories)"
   ]
  },
  {
   "cell_type": "code",
   "execution_count": 28,
   "metadata": {},
   "outputs": [
    {
     "name": "stdout",
     "output_type": "stream",
     "text": [
      "likes_children\n",
      "no       1765\n",
      "yes      1172\n",
      "maybe       0\n",
      "Name: count, dtype: int64\n"
     ]
    }
   ],
   "source": [
    "# Print the frequency table\n",
    "print(dogs['likes_children'].value_counts(dropna=False))"
   ]
  },
  {
   "cell_type": "code",
   "execution_count": 29,
   "metadata": {},
   "outputs": [
    {
     "name": "stdout",
     "output_type": "stream",
     "text": [
      "likes_children\n",
      "no     1765\n",
      "yes    1172\n",
      "Name: count, dtype: int64\n"
     ]
    }
   ],
   "source": [
    "# Remove the \"maybe\" category\n",
    "dogs[\"likes_children\"] = dogs[\"likes_children\"].cat.remove_categories(removals=['maybe'])\n",
    "print(dogs[\"likes_children\"].value_counts())"
   ]
  },
  {
   "cell_type": "code",
   "execution_count": 30,
   "metadata": {},
   "outputs": [
    {
     "name": "stdout",
     "output_type": "stream",
     "text": [
      "Index(['no', 'yes'], dtype='object')\n"
     ]
    }
   ],
   "source": [
    "# Print the categories one more time\n",
    "print(dogs[\"likes_children\"].cat.categories)"
   ]
  },
  {
   "cell_type": "markdown",
   "metadata": {},
   "source": [
    "## Updating categories"
   ]
  },
  {
   "cell_type": "markdown",
   "metadata": {},
   "source": [
    "### Renaming categories"
   ]
  },
  {
   "cell_type": "code",
   "execution_count": 34,
   "metadata": {},
   "outputs": [],
   "source": [
    "dogs = pd.read_csv('../data/dogs.csv')\n",
    "dogs['likes_children'] = dogs['likes_children'].astype('category')"
   ]
  },
  {
   "cell_type": "code",
   "execution_count": 36,
   "metadata": {},
   "outputs": [
    {
     "name": "stdout",
     "output_type": "stream",
     "text": [
      "Index(['MAYBE', 'NO', 'YES'], dtype='object')\n"
     ]
    }
   ],
   "source": [
    "# Create the my_changes dictionary\n",
    "my_changes = {\n",
    "    'Maybe?': 'Maybe'\n",
    "}\n",
    "\n",
    "# Rename the categories listed in the my_changes dictionary\n",
    "dogs[\"likes_children\"] = dogs[\"likes_children\"].cat.rename_categories(my_changes)\n",
    "\n",
    "# Use a lambda function to convert all categories to uppercase using upper()\n",
    "dogs[\"likes_children\"] =  dogs[\"likes_children\"].cat.rename_categories(lambda c: c.upper())\n",
    "\n",
    "# Print the list of categories\n",
    "print(dogs[\"likes_children\"].cat.categories)"
   ]
  },
  {
   "cell_type": "markdown",
   "metadata": {},
   "source": [
    "### Collapsing categories"
   ]
  },
  {
   "cell_type": "code",
   "execution_count": 40,
   "metadata": {},
   "outputs": [
    {
     "name": "stdout",
     "output_type": "stream",
     "text": [
      "coat_collapsed\n",
      "short     1972\n",
      "medium     785\n",
      "long       180\n",
      "Name: count, dtype: int64\n"
     ]
    }
   ],
   "source": [
    "# Create the update_coats dictionary\n",
    "update_coats = {\n",
    "    'wirehaired': 'medium',\n",
    "    'medium-long': 'medium',\n",
    "}\n",
    "\n",
    "# Create a new column, coat_collapsed\n",
    "dogs[\"coat_collapsed\"] = dogs['coat'].replace(update_coats)\n",
    "\n",
    "# Convert the column to categorical\n",
    "dogs[\"coat_collapsed\"] = dogs[\"coat_collapsed\"].astype('category')\n",
    "\n",
    "# Print the frequency table\n",
    "print(dogs[\"coat_collapsed\"].value_counts())"
   ]
  },
  {
   "cell_type": "markdown",
   "metadata": {},
   "source": [
    "## Reordering categories"
   ]
  },
  {
   "cell_type": "markdown",
   "metadata": {},
   "source": [
    "### Reordering categories in a Series"
   ]
  },
  {
   "cell_type": "code",
   "execution_count": 41,
   "metadata": {},
   "outputs": [],
   "source": [
    "dogs = pd.read_csv('../data/dogs.csv', dtype={'size': 'category'})"
   ]
  },
  {
   "cell_type": "code",
   "execution_count": 43,
   "metadata": {},
   "outputs": [
    {
     "name": "stdout",
     "output_type": "stream",
     "text": [
      "Index(['large', 'medium', 'small'], dtype='object')\n"
     ]
    }
   ],
   "source": [
    "# Print out the current categories of the size variable\n",
    "print(dogs['size'].cat.categories)"
   ]
  },
  {
   "cell_type": "code",
   "execution_count": 46,
   "metadata": {},
   "outputs": [],
   "source": [
    "# Reorder the categories using the list provided\n",
    "dogs[\"size\"] = dogs['size'].cat.reorder_categories(\n",
    "    new_categories=['small', 'medium', 'large'],\n",
    "    ordered=False\n",
    ")"
   ]
  },
  {
   "cell_type": "code",
   "execution_count": 47,
   "metadata": {},
   "outputs": [],
   "source": [
    "# Reorder the categories, specifying the Series is ordinal\n",
    "dogs[\"size\"] = dogs[\"size\"].cat.reorder_categories(\n",
    "  new_categories=[\"small\", \"medium\", \"large\"],\n",
    "  ordered=True\n",
    ")"
   ]
  },
  {
   "cell_type": "code",
   "execution_count": 51,
   "metadata": {},
   "outputs": [],
   "source": [
    "# Reorder the categories, specifying the Series is ordinal, and overwriting the original series\n",
    "dogs[\"size\"] = dogs[\"size\"].cat.reorder_categories(\n",
    "  new_categories=[\"small\", \"medium\", \"large\"],\n",
    "  ordered=True,\n",
    "#   inplace=True\n",
    ")\n",
    "\n",
    "# reorder_categories no longer support 'inplace'"
   ]
  },
  {
   "cell_type": "markdown",
   "metadata": {},
   "source": [
    "### Using .groupby() after reordering"
   ]
  },
  {
   "cell_type": "code",
   "execution_count": 53,
   "metadata": {},
   "outputs": [
    {
     "name": "stdout",
     "output_type": "stream",
     "text": [
      "size    sex   \n",
      "small   male       260\n",
      "        female     214\n",
      "medium  male      1090\n",
      "        female     854\n",
      "large   male       331\n",
      "        female     188\n",
      "Name: count, dtype: int64\n",
      "size    keep_in             \n",
      "small   both flat and garden    238\n",
      "        flat                     80\n",
      "        garden                   21\n",
      "medium  both flat and garden    795\n",
      "        garden                  317\n",
      "        flat                     97\n",
      "large   both flat and garden    191\n",
      "        garden                  172\n",
      "        flat                      5\n",
      "Name: count, dtype: int64\n"
     ]
    }
   ],
   "source": [
    "# Previous code\n",
    "dogs[\"size\"] = dogs[\"size\"].cat.reorder_categories(\n",
    "  new_categories=[\"small\", \"medium\", \"large\"],\n",
    "  ordered=True,\n",
    "#   inplace=True\n",
    ")\n",
    "\n",
    "# How many Male/Female dogs are available of each size?\n",
    "print(dogs.groupby('size')['sex'].value_counts())\n",
    "\n",
    "# Do larger dogs need more room to roam?\n",
    "print(dogs.groupby('size')['keep_in'].value_counts())"
   ]
  },
  {
   "cell_type": "markdown",
   "metadata": {},
   "source": [
    "## Cleaning and accessing data"
   ]
  },
  {
   "cell_type": "markdown",
   "metadata": {},
   "source": [
    "### Cleaning variables"
   ]
  },
  {
   "cell_type": "code",
   "execution_count": 57,
   "metadata": {},
   "outputs": [
    {
     "name": "stdout",
     "output_type": "stream",
     "text": [
      "sex\n",
      "male      1681\n",
      "female    1256\n",
      "Name: count, dtype: int64\n"
     ]
    }
   ],
   "source": [
    "# Fix the misspelled word\n",
    "replace_map = {\"Malez\": \"male\"}\n",
    "\n",
    "# Update the sex column using the created map\n",
    "dogs[\"sex\"] = dogs[\"sex\"].replace(replace_map)\n",
    "\n",
    "# Strip away leading whitespace\n",
    "dogs[\"sex\"] = dogs[\"sex\"].str.strip()\n",
    "\n",
    "# Make all responses lowercase\n",
    "dogs[\"sex\"] = dogs[\"sex\"].str.lower()\n",
    "\n",
    "# Convert to a categorical Series\n",
    "dogs[\"sex\"] = dogs['sex'].astype('category')\n",
    "\n",
    "print(dogs[\"sex\"].value_counts())"
   ]
  },
  {
   "cell_type": "markdown",
   "metadata": {},
   "source": [
    "### Accessing and filtering data"
   ]
  },
  {
   "cell_type": "code",
   "execution_count": 64,
   "metadata": {},
   "outputs": [],
   "source": [
    "dogs = pd.read_csv('../data/dogs.csv', index_col='ID')\n",
    "\n",
    "dogs['coat'] = dogs['coat'].astype('category')"
   ]
  },
  {
   "cell_type": "code",
   "execution_count": 65,
   "metadata": {},
   "outputs": [
    {
     "name": "stdout",
     "output_type": "stream",
     "text": [
      "short\n"
     ]
    }
   ],
   "source": [
    "# Print the category of the coat for ID 23807\n",
    "print(dogs.loc[23807, 'coat'])"
   ]
  },
  {
   "cell_type": "code",
   "execution_count": 61,
   "metadata": {},
   "outputs": [
    {
     "name": "stdout",
     "output_type": "stream",
     "text": [
      "sex\n",
      "male      124\n",
      "female     56\n",
      "Name: count, dtype: int64\n"
     ]
    }
   ],
   "source": [
    "# Find the count of male and female dogs who have a \"long\" coat\n",
    "print(dogs.loc[dogs['coat'] == 'long', 'sex'].value_counts())"
   ]
  },
  {
   "cell_type": "code",
   "execution_count": 62,
   "metadata": {},
   "outputs": [
    {
     "name": "stdout",
     "output_type": "stream",
     "text": [
      "8.186153846153847\n"
     ]
    }
   ],
   "source": [
    "# Print the mean age of dogs with a breed of \"English Cocker Spaniel\"\n",
    "print(dogs.loc[dogs['breed'] == \"English Cocker Spaniel\", 'age'].mean())"
   ]
  },
  {
   "cell_type": "code",
   "execution_count": 63,
   "metadata": {},
   "outputs": [
    {
     "name": "stdout",
     "output_type": "stream",
     "text": [
      "35\n"
     ]
    }
   ],
   "source": [
    "# Count the number of dogs that have \"English\" in their breed name\n",
    "print(dogs[dogs[\"breed\"].str.contains('English', regex=False)].shape[0])"
   ]
  }
 ],
 "metadata": {
  "kernelspec": {
   "display_name": "ds1",
   "language": "python",
   "name": "python3"
  },
  "language_info": {
   "codemirror_mode": {
    "name": "ipython",
    "version": 3
   },
   "file_extension": ".py",
   "mimetype": "text/x-python",
   "name": "python",
   "nbconvert_exporter": "python",
   "pygments_lexer": "ipython3",
   "version": "3.11.5"
  }
 },
 "nbformat": 4,
 "nbformat_minor": 2
}
