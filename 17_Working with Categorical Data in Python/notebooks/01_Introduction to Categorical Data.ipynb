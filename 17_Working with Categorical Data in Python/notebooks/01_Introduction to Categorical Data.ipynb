{
 "cells": [
  {
   "cell_type": "markdown",
   "metadata": {},
   "source": [
    "# Introduction to Categorical Data"
   ]
  },
  {
   "cell_type": "markdown",
   "metadata": {},
   "source": [
    "## Imports"
   ]
  },
  {
   "cell_type": "code",
   "execution_count": 2,
   "metadata": {},
   "outputs": [],
   "source": [
    "import warnings\n",
    "warnings.simplefilter(action='ignore', category=FutureWarning)"
   ]
  },
  {
   "cell_type": "code",
   "execution_count": 3,
   "metadata": {},
   "outputs": [],
   "source": [
    "import pandas as pd\n",
    "import numpy as np"
   ]
  },
  {
   "cell_type": "code",
   "execution_count": 4,
   "metadata": {},
   "outputs": [
    {
     "data": {
      "text/html": [
       "<div>\n",
       "<style scoped>\n",
       "    .dataframe tbody tr th:only-of-type {\n",
       "        vertical-align: middle;\n",
       "    }\n",
       "\n",
       "    .dataframe tbody tr th {\n",
       "        vertical-align: top;\n",
       "    }\n",
       "\n",
       "    .dataframe thead th {\n",
       "        text-align: right;\n",
       "    }\n",
       "</style>\n",
       "<table border=\"1\" class=\"dataframe\">\n",
       "  <thead>\n",
       "    <tr style=\"text-align: right;\">\n",
       "      <th></th>\n",
       "      <th>Age</th>\n",
       "      <th>Workclass</th>\n",
       "      <th>fnlgwt</th>\n",
       "      <th>Education</th>\n",
       "      <th>Education Num</th>\n",
       "      <th>Marital Status</th>\n",
       "      <th>Occupation</th>\n",
       "      <th>Relationship</th>\n",
       "      <th>Race</th>\n",
       "      <th>Sex</th>\n",
       "      <th>Capital Gain</th>\n",
       "      <th>Capital Loss</th>\n",
       "      <th>Hours/Week</th>\n",
       "      <th>Country</th>\n",
       "      <th>Above/Below 50k</th>\n",
       "    </tr>\n",
       "  </thead>\n",
       "  <tbody>\n",
       "    <tr>\n",
       "      <th>19564</th>\n",
       "      <td>43</td>\n",
       "      <td>Local-gov</td>\n",
       "      <td>196308</td>\n",
       "      <td>HS-grad</td>\n",
       "      <td>9</td>\n",
       "      <td>Divorced</td>\n",
       "      <td>Exec-managerial</td>\n",
       "      <td>Unmarried</td>\n",
       "      <td>Amer-Indian-Eskimo</td>\n",
       "      <td>Female</td>\n",
       "      <td>0</td>\n",
       "      <td>0</td>\n",
       "      <td>40</td>\n",
       "      <td>United-States</td>\n",
       "      <td>&lt;=50K</td>\n",
       "    </tr>\n",
       "    <tr>\n",
       "      <th>4363</th>\n",
       "      <td>43</td>\n",
       "      <td>Federal-gov</td>\n",
       "      <td>77370</td>\n",
       "      <td>HS-grad</td>\n",
       "      <td>9</td>\n",
       "      <td>Married-civ-spouse</td>\n",
       "      <td>Transport-moving</td>\n",
       "      <td>Husband</td>\n",
       "      <td>White</td>\n",
       "      <td>Male</td>\n",
       "      <td>0</td>\n",
       "      <td>0</td>\n",
       "      <td>40</td>\n",
       "      <td>United-States</td>\n",
       "      <td>&lt;=50K</td>\n",
       "    </tr>\n",
       "  </tbody>\n",
       "</table>\n",
       "</div>"
      ],
      "text/plain": [
       "       Age     Workclass  fnlgwt Education  Education Num  \\\n",
       "19564   43     Local-gov  196308   HS-grad              9   \n",
       "4363    43   Federal-gov   77370   HS-grad              9   \n",
       "\n",
       "            Marital Status         Occupation Relationship  \\\n",
       "19564             Divorced    Exec-managerial    Unmarried   \n",
       "4363    Married-civ-spouse   Transport-moving      Husband   \n",
       "\n",
       "                      Race      Sex  Capital Gain  Capital Loss  Hours/Week  \\\n",
       "19564   Amer-Indian-Eskimo   Female             0             0          40   \n",
       "4363                 White     Male             0             0          40   \n",
       "\n",
       "              Country Above/Below 50k  \n",
       "19564   United-States           <=50K  \n",
       "4363    United-States           <=50K  "
      ]
     },
     "execution_count": 4,
     "metadata": {},
     "output_type": "execute_result"
    }
   ],
   "source": [
    "adult = pd.read_csv('../data/adult.csv')\n",
    "adult.sample(2)"
   ]
  },
  {
   "cell_type": "markdown",
   "metadata": {},
   "source": [
    "## Course introduction"
   ]
  },
  {
   "cell_type": "markdown",
   "metadata": {},
   "source": [
    "### Exploring a target variable"
   ]
  },
  {
   "cell_type": "code",
   "execution_count": 5,
   "metadata": {},
   "outputs": [
    {
     "name": "stdout",
     "output_type": "stream",
     "text": [
      "count      32561\n",
      "unique         2\n",
      "top        <=50K\n",
      "freq       24720\n",
      "Name: Above/Below 50k, dtype: object\n"
     ]
    }
   ],
   "source": [
    "# Explore the Above/Below 50k variable\n",
    "print(adult['Above/Below 50k'].describe())"
   ]
  },
  {
   "cell_type": "code",
   "execution_count": 6,
   "metadata": {},
   "outputs": [
    {
     "name": "stdout",
     "output_type": "stream",
     "text": [
      "Above/Below 50k\n",
      " <=50K    24720\n",
      " >50K      7841\n",
      "Name: count, dtype: int64\n"
     ]
    }
   ],
   "source": [
    "# Print a frequency table of \"Above/Below 50k\"\n",
    "print(adult['Above/Below 50k'].value_counts())"
   ]
  },
  {
   "cell_type": "code",
   "execution_count": 7,
   "metadata": {},
   "outputs": [
    {
     "name": "stdout",
     "output_type": "stream",
     "text": [
      "Above/Below 50k\n",
      " <=50K    0.75919\n",
      " >50K     0.24081\n",
      "Name: proportion, dtype: float64\n"
     ]
    }
   ],
   "source": [
    "# Print relative frequency values\n",
    "print(adult['Above/Below 50k'].value_counts(normalize=True))"
   ]
  },
  {
   "cell_type": "markdown",
   "metadata": {},
   "source": [
    "## Categorical data in pandas"
   ]
  },
  {
   "cell_type": "markdown",
   "metadata": {},
   "source": [
    "### Setting dtypes and saving memory"
   ]
  },
  {
   "cell_type": "code",
   "execution_count": 8,
   "metadata": {},
   "outputs": [],
   "source": [
    "list_of_occupations = ['Data Scientist', 'Data Analyst', 'Data Scientist', 'Statistician', 'Data Scientist', 'Data Scientist', 'Statistician', 'Data Scientist', 'Data Analyst', 'Data Analyst', 'Data Scientist', 'Data Scientist', 'Data Scientist', 'Data Scientist', 'Data Scientist', 'Data Analyst', 'Data Scientist', 'Data Scientist', 'Data Analyst', 'Data Scientist', 'Data Scientist', 'Data Scientist', 'Data Scientist', 'Data Scientist', 'Data Scientist', 'Data Analyst', 'Data Scientist', 'Data Scientist', 'Data Scientist', 'Data Scientist', 'Data Analyst', 'Data Scientist', 'Data Scientist', 'Data Scientist', 'Data Scientist', 'Data Scientist', 'Statistician', 'Data Analyst', 'Data Scientist', 'Data Scientist', 'Data Scientist', 'Data Analyst', 'Data Scientist', 'Data Scientist', 'Data Analyst', 'Data Scientist', 'Data Scientist', 'Data Analyst', 'Data Analyst', 'Data Scientist', 'Data Analyst', 'Data Scientist', 'Statistician', 'Data Scientist', 'Data Scientist', 'Statistician', 'Data Scientist', 'Data Scientist', 'Statistician', 'Data Scientist', 'Data Scientist', 'Data Scientist', 'Statistician', 'Statistician', 'Data Analyst', 'Data Analyst', 'Data Scientist', 'Data Scientist', 'Data Scientist', 'Data Scientist', 'Data Scientist', 'Data Scientist', 'Data Scientist', 'Statistician', 'Statistician', 'Data Scientist', 'Data Scientist', 'Data Scientist', 'Data Scientist', 'Data Scientist', 'Data Scientist', 'Data Scientist', 'Data Analyst', 'Data Scientist', 'Data Scientist', 'Data Scientist', 'Data Analyst', 'Statistician', 'Data Analyst', 'Data Scientist', 'Data Analyst', 'Data Scientist', 'Data Scientist', 'Data Scientist', 'Data Scientist', 'Statistician', 'Data Scientist', 'Data Scientist', 'Data Analyst', 'Data Analyst', 'Data Analyst', 'Data Scientist', 'Data Scientist', 'Data Scientist', 'Data Analyst', 'Data Analyst', 'Data Analyst', 'Data Scientist', 'Data Analyst', 'Data Analyst', 'Data Scientist', 'Data Scientist', 'Data Scientist', 'Data Scientist', 'Data Scientist', 'Data Scientist', 'Data Scientist', 'Statistician', 'Data Analyst', 'Data Scientist', 'Data Scientist', 'Statistician', 'Statistician', 'Data Scientist', 'Data Scientist', 'Statistician', 'Data Analyst', 'Data Scientist', 'Data Scientist', 'Data Scientist', 'Data Scientist', 'Statistician', 'Statistician', 'Data Analyst', 'Data Scientist', 'Data Analyst', 'Data Scientist', 'Data Scientist', 'Data Scientist', 'Data Scientist', 'Data Scientist', 'Data Scientist', 'Data Scientist', 'Data Scientist', 'Data Analyst', 'Data Scientist', 'Data Scientist', 'Statistician', 'Data Analyst', 'Data Scientist', 'Data Scientist', 'Data Scientist', 'Statistician', 'Data Scientist', 'Data Scientist', 'Data Scientist', 'Data Analyst', 'Data Scientist', 'Data Analyst', 'Data Scientist', 'Statistician', 'Data Scientist', 'Data Scientist', 'Data Analyst', 'Data Scientist', 'Statistician', 'Data Scientist', 'Data Scientist', 'Data Scientist', 'Statistician', 'Statistician', 'Statistician', 'Data Scientist', 'Data Analyst', 'Statistician', 'Data Analyst', 'Data Scientist', 'Data Scientist', 'Data Analyst', 'Data Scientist', 'Data Analyst', 'Data Scientist', 'Data Scientist', 'Data Scientist', 'Data Scientist', 'Data Scientist', 'Data Scientist', 'Data Scientist', 'Statistician', 'Data Scientist', 'Data Scientist', 'Data Scientist', 'Data Scientist', 'Data Scientist', 'Data Analyst', 'Data Scientist', 'Data Scientist', 'Data Analyst', 'Data Analyst', 'Data Analyst', 'Data Analyst', 'Data Scientist', 'Data Analyst', 'Data Scientist', 'Data Analyst', 'Data Scientist', 'Data Scientist', 'Data Scientist', 'Data Scientist', 'Data Scientist', 'Data Scientist', 'Data Scientist', 'Statistician', 'Data Scientist', 'Statistician', 'Data Scientist', 'Statistician', 'Data Analyst', 'Data Analyst', 'Data Scientist', 'Data Analyst', 'Data Analyst', 'Data Scientist', 'Statistician', 'Data Analyst', 'Data Analyst', 'Data Scientist', 'Data Analyst', 'Data Scientist', 'Data Scientist', 'Data Scientist', 'Data Analyst', 'Data Analyst', 'Data Scientist', 'Data Analyst', 'Data Scientist', 'Data Scientist', 'Data Scientist', 'Data Scientist', 'Data Scientist', 'Data Analyst', 'Data Scientist', 'Data Scientist', 'Data Scientist', 'Data Scientist', 'Data Scientist', 'Data Scientist', 'Data Scientist', 'Statistician', 'Data Scientist', 'Data Analyst', 'Data Scientist', 'Statistician', 'Statistician', 'Data Scientist', 'Statistician', 'Data Scientist', 'Data Scientist', 'Data Scientist', 'Data Scientist', 'Data Scientist', 'Statistician', 'Data Analyst', 'Data Scientist', 'Data Scientist', 'Data Scientist', 'Data Scientist', 'Data Scientist', 'Data Scientist', 'Data Analyst', 'Data Scientist', 'Data Scientist', 'Data Scientist', 'Data Scientist', 'Data Scientist', 'Statistician', 'Data Scientist', 'Data Scientist', 'Data Scientist', 'Data Scientist', 'Data Analyst', 'Data Scientist', 'Data Scientist', 'Data Analyst', 'Statistician', 'Data Scientist', 'Statistician', 'Data Scientist', 'Data Scientist', 'Statistician', 'Data Scientist', 'Data Scientist', 'Data Scientist', 'Data Scientist', 'Data Scientist', 'Data Analyst', 'Data Scientist', 'Data Analyst', 'Data Scientist', 'Data Scientist', 'Statistician', 'Data Scientist', 'Data Scientist', 'Data Analyst', 'Data Scientist', 'Data Scientist', 'Data Scientist', 'Data Analyst', 'Data Scientist', 'Data Scientist', 'Data Scientist', 'Data Analyst', 'Data Scientist', 'Data Scientist', 'Data Scientist', 'Data Scientist', 'Data Scientist', 'Data Scientist', 'Data Analyst', 'Data Scientist', 'Data Scientist', 'Data Analyst', 'Data Scientist', 'Data Scientist', 'Data Analyst', 'Data Analyst', 'Data Analyst', 'Data Scientist', 'Data Scientist', 'Data Scientist', 'Data Scientist', 'Data Scientist', 'Data Analyst', 'Statistician', 'Data Scientist', 'Data Scientist', 'Data Scientist', 'Data Scientist', 'Data Scientist', 'Statistician', 'Data Scientist', 'Data Analyst', 'Data Scientist', 'Data Scientist', 'Statistician', 'Data Analyst', 'Data Scientist', 'Data Analyst', 'Data Analyst', 'Data Analyst', 'Data Scientist', 'Data Scientist', 'Statistician', 'Statistician', 'Data Scientist', 'Data Scientist', 'Data Scientist', 'Data Scientist', 'Data Scientist', 'Data Analyst', 'Data Analyst', 'Data Scientist', 'Data Scientist', 'Data Scientist', 'Data Analyst', 'Data Analyst', 'Data Scientist', 'Data Scientist', 'Data Analyst', 'Data Scientist', 'Data Scientist', 'Data Scientist', 'Data Analyst', 'Data Analyst', 'Data Scientist', 'Data Scientist', 'Data Analyst', 'Data Scientist', 'Data Analyst', 'Data Scientist', 'Data Scientist', 'Data Scientist', 'Data Scientist', 'Data Analyst', 'Data Scientist', 'Data Scientist', 'Data Scientist', 'Statistician', 'Data Scientist', 'Data Scientist', 'Statistician', 'Data Analyst', 'Data Scientist', 'Data Analyst', 'Data Scientist', 'Data Analyst', 'Statistician', 'Data Scientist', 'Statistician', 'Data Analyst', 'Data Scientist', 'Data Scientist', 'Data Scientist', 'Data Scientist', 'Data Scientist', 'Data Scientist', 'Data Scientist', 'Data Analyst', 'Data Analyst', 'Statistician', 'Data Scientist', 'Data Analyst', 'Data Scientist', 'Statistician', 'Data Analyst', 'Data Scientist', 'Data Scientist', 'Data Scientist', 'Data Scientist', 'Data Scientist', 'Statistician', 'Data Scientist', 'Data Scientist', 'Data Scientist', 'Data Scientist', 'Data Scientist', 'Statistician', 'Data Analyst', 'Statistician', 'Data Scientist', 'Statistician', 'Data Scientist', 'Data Analyst', 'Data Scientist', 'Data Analyst', 'Data Analyst', 'Data Scientist', 'Statistician', 'Data Scientist', 'Data Scientist', 'Data Scientist', 'Data Scientist', 'Data Scientist', 'Data Analyst', 'Statistician', 'Data Scientist', 'Statistician', 'Data Scientist', 'Data Analyst', 'Statistician', 'Data Scientist', 'Data Scientist', 'Data Scientist', 'Data Scientist', 'Data Scientist', 'Data Scientist', 'Data Scientist', 'Statistician', 'Statistician', 'Data Scientist', 'Data Scientist', 'Data Scientist', 'Statistician', 'Data Scientist', 'Data Analyst', 'Data Scientist', 'Data Scientist', 'Data Analyst', 'Data Analyst', 'Data Scientist', 'Data Scientist', 'Data Scientist', 'Data Analyst', 'Data Scientist', 'Statistician', 'Data Analyst', 'Data Scientist', 'Data Scientist', 'Statistician', 'Data Scientist', 'Data Scientist', 'Data Scientist', 'Data Scientist', 'Data Scientist', 'Data Scientist', 'Data Scientist', 'Data Analyst', 'Data Analyst', 'Data Scientist', 'Data Scientist', 'Data Scientist', 'Data Scientist', 'Data Scientist', 'Data Scientist', 'Data Scientist', 'Data Scientist', 'Statistician', 'Data Scientist', 'Data Analyst', 'Data Scientist', 'Data Analyst', 'Statistician', 'Statistician', 'Data Scientist', 'Data Scientist', 'Data Scientist', 'Statistician', 'Data Scientist', 'Data Analyst', 'Data Scientist', 'Data Scientist', 'Data Scientist', 'Data Scientist', 'Data Scientist', 'Data Analyst', 'Data Analyst', 'Data Scientist', 'Data Scientist', 'Data Scientist', 'Data Analyst', 'Statistician', 'Data Scientist', 'Data Scientist', 'Data Scientist', 'Statistician', 'Data Scientist', 'Statistician', 'Data Scientist', 'Data Scientist', 'Data Scientist', 'Data Analyst', 'Data Analyst', 'Data Analyst', 'Data Scientist', 'Statistician', 'Data Scientist', 'Statistician', 'Data Scientist', 'Data Scientist', 'Statistician', 'Data Scientist', 'Data Analyst', 'Data Scientist', 'Data Scientist', 'Data Scientist', 'Data Scientist', 'Statistician', 'Data Scientist', 'Data Scientist', 'Data Scientist', 'Data Scientist', 'Data Scientist', 'Data Scientist', 'Data Analyst', 'Data Analyst', 'Data Scientist', 'Data Scientist', 'Data Scientist', 'Data Scientist', 'Data Scientist', 'Statistician', 'Data Scientist', 'Data Analyst', 'Data Scientist', 'Data Scientist', 'Data Analyst', 'Data Analyst', 'Statistician', 'Data Scientist', 'Data Scientist', 'Statistician', 'Data Scientist', 'Data Analyst', 'Data Scientist', 'Data Scientist', 'Data Scientist', 'Data Analyst', 'Statistician', 'Data Scientist', 'Data Scientist', 'Statistician', 'Data Analyst', 'Data Analyst', 'Data Analyst', 'Data Scientist', 'Data Scientist', 'Data Analyst', 'Data Scientist', 'Data Scientist', 'Statistician', 'Data Analyst', 'Data Scientist', 'Statistician', 'Data Scientist', 'Data Scientist', 'Data Scientist', 'Data Scientist', 'Data Scientist', 'Data Analyst', 'Data Analyst', 'Data Scientist', 'Data Scientist', 'Data Scientist', 'Data Scientist', 'Statistician', 'Data Scientist', 'Data Analyst', 'Data Scientist', 'Data Scientist', 'Data Scientist', 'Data Scientist', 'Data Scientist', 'Data Scientist', 'Data Scientist', 'Data Scientist', 'Statistician', 'Data Scientist', 'Data Scientist', 'Data Scientist', 'Data Analyst', 'Data Scientist', 'Statistician', 'Statistician', 'Data Scientist', 'Data Scientist', 'Data Scientist', 'Data Analyst', 'Statistician', 'Data Scientist', 'Statistician', 'Data Analyst', 'Data Analyst', 'Data Scientist', 'Data Analyst', 'Data Scientist', 'Statistician', 'Statistician', 'Data Scientist', 'Data Scientist', 'Statistician', 'Data Scientist', 'Data Analyst', 'Data Scientist', 'Data Analyst', 'Statistician', 'Data Analyst', 'Data Scientist', 'Data Scientist', 'Data Scientist', 'Data Scientist', 'Data Scientist', 'Data Scientist', 'Data Scientist', 'Data Scientist', 'Data Scientist', 'Data Analyst', 'Data Scientist', 'Data Analyst', 'Data Scientist', 'Data Scientist', 'Data Scientist', 'Data Scientist', 'Data Analyst', 'Data Scientist', 'Statistician', 'Data Scientist', 'Data Scientist', 'Data Scientist', 'Data Scientist', 'Data Analyst', 'Data Scientist', 'Data Scientist', 'Data Analyst', 'Data Scientist', 'Data Analyst', 'Data Scientist', 'Data Scientist', 'Data Scientist', 'Data Scientist', 'Data Analyst', 'Data Analyst', 'Data Analyst', 'Data Analyst', 'Data Scientist', 'Data Scientist', 'Data Analyst', 'Data Scientist', 'Data Scientist', 'Data Scientist', 'Data Scientist', 'Data Scientist', 'Data Scientist', 'Data Scientist', 'Data Analyst', 'Statistician', 'Data Scientist', 'Data Scientist', 'Data Scientist', 'Data Analyst', 'Data Scientist', 'Data Scientist', 'Data Scientist', 'Data Scientist', 'Data Scientist', 'Data Analyst', 'Statistician', 'Data Scientist', 'Data Scientist', 'Data Scientist', 'Statistician', 'Data Scientist', 'Data Scientist', 'Statistician', 'Data Scientist', 'Data Analyst', 'Data Analyst', 'Data Scientist', 'Data Scientist', 'Data Analyst', 'Data Scientist', 'Data Analyst', 'Data Scientist', 'Statistician', 'Data Scientist', 'Data Scientist', 'Data Scientist', 'Data Scientist', 'Data Scientist', 'Data Analyst', 'Data Scientist', 'Data Scientist', 'Data Scientist', 'Data Scientist', 'Statistician', 'Statistician', 'Statistician', 'Data Scientist', 'Data Scientist', 'Data Analyst', 'Statistician', 'Data Scientist', 'Data Scientist', 'Statistician', 'Data Analyst', 'Data Scientist', 'Data Analyst', 'Data Scientist', 'Data Scientist', 'Data Scientist', 'Data Analyst', 'Data Scientist', 'Statistician', 'Data Scientist', 'Data Analyst', 'Data Scientist', 'Data Scientist', 'Data Scientist', 'Data Scientist', 'Data Scientist', 'Data Analyst', 'Data Scientist', 'Data Scientist', 'Data Scientist', 'Statistician', 'Data Scientist', 'Data Analyst', 'Data Analyst', 'Data Scientist', 'Data Scientist', 'Data Scientist', 'Statistician', 'Data Scientist', 'Data Scientist', 'Data Analyst', 'Data Scientist', 'Data Scientist', 'Data Analyst', 'Statistician', 'Data Scientist', 'Statistician', 'Data Scientist', 'Data Analyst', 'Data Analyst', 'Data Scientist', 'Data Analyst', 'Statistician', 'Statistician', 'Data Analyst', 'Data Scientist', 'Data Analyst', 'Data Analyst', 'Data Scientist', 'Data Scientist', 'Data Scientist', 'Data Scientist', 'Statistician', 'Data Scientist', 'Data Scientist', 'Data Scientist', 'Data Scientist', 'Data Analyst', 'Data Analyst', 'Data Scientist', 'Data Scientist', 'Data Scientist', 'Data Scientist', 'Data Scientist', 'Data Scientist', 'Data Analyst', 'Data Analyst', 'Statistician', 'Data Scientist', 'Data Analyst', 'Data Scientist', 'Data Scientist', 'Data Scientist', 'Data Scientist', 'Statistician', 'Data Scientist', 'Data Scientist', 'Statistician', 'Data Scientist', 'Statistician', 'Data Scientist', 'Data Scientist', 'Data Analyst', 'Data Scientist', 'Data Analyst', 'Statistician', 'Data Scientist', 'Data Scientist', 'Data Scientist', 'Data Scientist', 'Data Scientist', 'Data Scientist', 'Data Scientist', 'Data Scientist', 'Data Scientist', 'Data Scientist', 'Data Scientist', 'Data Analyst', 'Statistician', 'Data Scientist', 'Data Analyst', 'Data Analyst', 'Data Scientist', 'Data Scientist', 'Data Analyst', 'Data Scientist', 'Data Analyst', 'Data Scientist', 'Data Analyst', 'Data Scientist', 'Data Analyst', 'Data Scientist', 'Data Analyst', 'Data Scientist', 'Data Analyst', 'Data Scientist', 'Data Analyst', 'Statistician', 'Statistician', 'Statistician', 'Data Scientist', 'Data Scientist', 'Data Scientist', 'Data Scientist', 'Statistician', 'Data Scientist', 'Data Scientist', 'Data Scientist', 'Data Scientist', 'Data Scientist', 'Data Scientist', 'Data Scientist', 'Statistician', 'Statistician', 'Data Scientist', 'Data Scientist', 'Data Scientist', 'Statistician', 'Data Scientist', 'Data Scientist', 'Data Scientist', 'Data Scientist', 'Data Analyst', 'Data Scientist', 'Data Scientist', 'Data Scientist', 'Data Scientist', 'Data Scientist', 'Data Scientist', 'Data Scientist', 'Data Scientist', 'Statistician', 'Data Analyst', 'Statistician', 'Data Scientist', 'Data Scientist', 'Statistician', 'Statistician', 'Data Analyst', 'Data Scientist', 'Data Scientist', 'Data Analyst', 'Data Analyst', 'Data Analyst', 'Data Scientist', 'Data Analyst', 'Data Scientist', 'Data Scientist', 'Data Scientist', 'Data Scientist', 'Statistician', 'Data Scientist', 'Statistician', 'Data Scientist', 'Data Analyst', 'Data Scientist', 'Data Scientist', 'Data Scientist', 'Data Scientist', 'Statistician', 'Data Analyst', 'Data Scientist', 'Data Analyst', 'Data Scientist', 'Data Scientist', 'Data Analyst', 'Statistician', 'Statistician', 'Data Scientist', 'Data Scientist', 'Data Scientist', 'Data Scientist', 'Data Scientist', 'Data Analyst', 'Data Scientist', 'Statistician', 'Data Scientist', 'Data Scientist', 'Data Analyst', 'Data Analyst', 'Data Analyst', 'Data Analyst', 'Data Scientist', 'Data Scientist', 'Data Analyst', 'Data Analyst', 'Data Scientist', 'Data Scientist', 'Data Analyst', 'Data Analyst', 'Statistician', 'Data Scientist', 'Data Scientist', 'Data Scientist', 'Data Scientist', 'Data Scientist', 'Data Scientist', 'Statistician', 'Data Scientist', 'Data Scientist', 'Data Scientist', 'Statistician', 'Data Analyst', 'Data Scientist', 'Data Scientist', 'Data Scientist', 'Data Scientist', 'Data Analyst', 'Data Analyst', 'Statistician', 'Data Scientist', 'Data Scientist', 'Data Scientist', 'Data Scientist', 'Data Analyst', 'Data Scientist', 'Data Analyst', 'Data Scientist', 'Data Scientist', 'Data Scientist', 'Statistician', 'Statistician', 'Data Scientist', 'Data Scientist', 'Data Analyst', 'Data Scientist', 'Data Scientist', 'Data Scientist', 'Data Analyst', 'Data Scientist', 'Data Scientist', 'Data Scientist', 'Data Scientist', 'Data Scientist', 'Data Scientist', 'Data Scientist', 'Data Scientist', 'Data Analyst', 'Data Scientist', 'Statistician', 'Data Analyst', 'Data Scientist', 'Data Scientist', 'Data Scientist', 'Data Scientist', 'Data Scientist', 'Data Analyst', 'Data Scientist', 'Data Scientist', 'Data Scientist', 'Data Scientist', 'Data Scientist', 'Data Scientist', 'Data Scientist', 'Data Analyst', 'Data Analyst', 'Data Analyst', 'Data Scientist', 'Data Analyst', 'Data Scientist', 'Data Scientist', 'Data Analyst', 'Data Scientist', 'Statistician', 'Statistician', 'Data Scientist', 'Data Scientist', 'Data Scientist', 'Data Scientist', 'Data Scientist', 'Data Scientist', 'Data Analyst', 'Statistician', 'Data Scientist', 'Data Scientist', 'Data Scientist', 'Data Analyst', 'Data Scientist', 'Data Scientist', 'Statistician', 'Data Scientist', 'Statistician', 'Data Analyst', 'Data Scientist', 'Data Scientist', 'Data Scientist', 'Data Scientist', 'Data Scientist', 'Data Analyst', 'Data Scientist', 'Data Analyst', 'Data Scientist', 'Data Scientist', 'Data Scientist', 'Data Scientist', 'Data Scientist', 'Data Analyst', 'Data Scientist', 'Data Analyst', 'Statistician', 'Data Scientist', 'Data Scientist', 'Data Analyst', 'Data Scientist', 'Data Analyst', 'Statistician', 'Data Analyst', 'Statistician', 'Statistician', 'Data Analyst', 'Statistician', 'Data Scientist', 'Statistician', 'Data Analyst', 'Data Scientist', 'Data Scientist', 'Data Scientist', 'Data Analyst', 'Data Scientist', 'Data Analyst', 'Data Scientist', 'Statistician', 'Data Analyst', 'Data Scientist', 'Data Scientist', 'Data Analyst', 'Data Scientist', 'Data Scientist', 'Data Scientist', 'Data Scientist', 'Data Analyst', 'Data Analyst', 'Data Scientist', 'Data Scientist', 'Data Scientist', 'Data Scientist', 'Data Analyst', 'Data Scientist', 'Data Analyst', 'Data Scientist', 'Data Scientist', 'Data Scientist', 'Data Analyst', 'Data Scientist', 'Data Scientist', 'Statistician', 'Data Scientist', 'Data Scientist', 'Data Analyst', 'Data Scientist', 'Data Scientist', 'Data Scientist', 'Data Scientist', 'Statistician', 'Data Scientist', 'Statistician', 'Data Scientist', 'Data Analyst', 'Data Scientist', 'Data Scientist', 'Data Scientist', 'Data Scientist', 'Data Analyst', 'Data Scientist', 'Statistician', 'Data Scientist', 'Data Scientist', 'Data Analyst', 'Data Analyst', 'Statistician', 'Data Scientist', 'Data Scientist', 'Data Analyst', 'Statistician', 'Data Scientist', 'Data Scientist', 'Data Scientist', 'Data Scientist', 'Data Scientist', 'Data Scientist', 'Data Scientist', 'Data Analyst', 'Data Scientist', 'Data Analyst', 'Statistician', 'Data Scientist', 'Data Scientist', 'Data Scientist', 'Data Scientist', 'Data Scientist', 'Statistician', 'Data Scientist', 'Data Analyst', 'Data Scientist', 'Data Analyst', 'Data Analyst', 'Data Scientist', 'Data Analyst', 'Statistician', 'Data Analyst', 'Data Scientist', 'Data Scientist', 'Data Scientist', 'Data Analyst', 'Data Analyst', 'Statistician', 'Statistician', 'Statistician', 'Data Scientist', 'Data Scientist', 'Data Scientist', 'Data Scientist', 'Data Scientist', 'Data Scientist', 'Data Scientist', 'Data Scientist', 'Data Scientist', 'Data Scientist', 'Data Scientist', 'Data Analyst', 'Data Scientist', 'Data Scientist', 'Statistician', 'Data Scientist', 'Data Scientist', 'Data Scientist', 'Data Analyst', 'Statistician', 'Data Scientist', 'Data Scientist', 'Data Analyst', 'Data Scientist', 'Data Scientist', 'Data Scientist', 'Data Analyst', 'Data Scientist', 'Data Analyst', 'Data Scientist', 'Statistician', 'Data Scientist', 'Data Scientist', 'Statistician', 'Data Scientist', 'Data Analyst', 'Data Scientist', 'Data Analyst', 'Data Scientist', 'Data Scientist', 'Data Scientist', 'Data Scientist', 'Data Scientist', 'Data Analyst', 'Data Scientist', 'Data Scientist', 'Data Scientist', 'Data Scientist', 'Data Scientist', 'Data Scientist', 'Data Scientist', 'Data Scientist', 'Data Scientist', 'Data Scientist', 'Data Scientist', 'Data Scientist', 'Data Scientist', 'Data Scientist', 'Statistician', 'Data Scientist', 'Data Scientist', 'Data Scientist', 'Data Scientist', 'Data Analyst', 'Data Scientist', 'Data Scientist', 'Data Analyst', 'Statistician', 'Data Scientist', 'Statistician', 'Data Scientist', 'Data Scientist', 'Data Analyst', 'Data Scientist', 'Data Scientist', 'Statistician', 'Data Analyst', 'Statistician', 'Statistician', 'Data Scientist', 'Data Scientist', 'Data Scientist', 'Data Scientist', 'Statistician', 'Data Scientist', 'Data Scientist', 'Data Scientist', 'Data Scientist', 'Data Scientist', 'Data Scientist', 'Data Scientist', 'Statistician', 'Data Scientist', 'Statistician', 'Data Scientist', 'Data Scientist', 'Statistician', 'Data Analyst', 'Data Scientist', 'Statistician', 'Statistician', 'Data Scientist', 'Data Scientist', 'Data Analyst', 'Data Analyst', 'Data Scientist', 'Data Scientist', 'Data Scientist', 'Statistician', 'Data Scientist', 'Data Analyst', 'Data Scientist', 'Data Scientist', 'Data Scientist', 'Data Analyst', 'Data Scientist', 'Data Scientist', 'Data Analyst', 'Data Scientist', 'Statistician', 'Data Scientist', 'Data Scientist', 'Data Analyst', 'Data Scientist', 'Data Analyst', 'Data Analyst', 'Data Analyst', 'Data Scientist', 'Data Analyst', 'Data Scientist', 'Data Scientist', 'Statistician', 'Data Scientist', 'Statistician', 'Data Analyst', 'Data Scientist', 'Data Scientist', 'Statistician', 'Data Scientist', 'Data Scientist', 'Data Scientist', 'Data Scientist', 'Data Scientist', 'Data Scientist', 'Data Scientist', 'Data Scientist', 'Statistician', 'Data Scientist', 'Data Scientist', 'Data Scientist', 'Data Analyst', 'Data Scientist', 'Data Scientist', 'Data Scientist', 'Data Analyst', 'Data Scientist', 'Data Scientist', 'Data Scientist', 'Data Scientist', 'Data Scientist', 'Data Scientist', 'Data Analyst', 'Statistician', 'Data Scientist', 'Statistician', 'Data Analyst', 'Data Scientist', 'Data Analyst', 'Data Scientist', 'Data Scientist', 'Statistician', 'Data Scientist', 'Data Scientist', 'Data Scientist', 'Data Analyst', 'Data Scientist', 'Data Analyst', 'Statistician', 'Statistician', 'Data Analyst', 'Data Scientist', 'Data Analyst', 'Data Scientist', 'Data Analyst', 'Data Scientist', 'Data Scientist', 'Data Scientist', 'Statistician', 'Data Scientist', 'Data Scientist', 'Data Scientist', 'Data Scientist', 'Data Scientist', 'Data Scientist', 'Data Analyst', 'Data Scientist', 'Data Scientist', 'Data Analyst', 'Data Scientist', 'Data Scientist', 'Data Analyst', 'Data Analyst', 'Data Scientist', 'Data Scientist', 'Data Scientist', 'Data Scientist', 'Data Analyst', 'Data Scientist', 'Statistician', 'Data Scientist', 'Data Scientist', 'Data Scientist', 'Data Scientist', 'Data Analyst', 'Data Analyst', 'Data Analyst', 'Data Scientist', 'Data Scientist', 'Data Analyst', 'Statistician', 'Data Scientist', 'Data Analyst', 'Data Scientist', 'Data Scientist', 'Statistician', 'Data Scientist', 'Data Scientist', 'Statistician', 'Data Scientist', 'Statistician', 'Data Analyst', 'Data Analyst', 'Data Analyst', 'Data Analyst', 'Data Scientist', 'Data Analyst', 'Data Scientist', 'Data Scientist', 'Data Scientist', 'Data Analyst', 'Data Scientist', 'Data Scientist', 'Data Scientist', 'Data Scientist', 'Data Scientist', 'Data Scientist', 'Data Scientist', 'Data Analyst', 'Data Scientist', 'Data Analyst', 'Data Scientist', 'Data Scientist', 'Statistician', 'Data Scientist', 'Data Scientist', 'Data Scientist', 'Data Scientist', 'Data Scientist', 'Data Scientist', 'Data Analyst', 'Data Scientist', 'Data Analyst', 'Data Scientist', 'Data Scientist', 'Data Analyst', 'Statistician', 'Data Scientist', 'Data Analyst', 'Data Scientist', 'Data Analyst', 'Data Scientist', 'Data Scientist', 'Data Scientist', 'Data Scientist', 'Data Scientist', 'Statistician', 'Data Scientist', 'Statistician', 'Data Scientist', 'Data Scientist', 'Data Analyst', 'Data Scientist', 'Data Scientist', 'Data Scientist', 'Data Scientist', 'Data Analyst', 'Statistician', 'Data Scientist', 'Data Scientist', 'Data Scientist', 'Data Analyst', 'Data Scientist', 'Statistician', 'Statistician', 'Data Scientist', 'Statistician', 'Data Scientist', 'Data Scientist', 'Data Scientist', 'Data Scientist', 'Statistician', 'Data Scientist', 'Data Scientist', 'Data Analyst', 'Data Analyst', 'Data Scientist', 'Data Analyst', 'Data Analyst', 'Data Analyst', 'Data Scientist', 'Data Scientist', 'Data Scientist', 'Data Scientist', 'Data Scientist', 'Data Scientist', 'Data Analyst', 'Data Scientist', 'Data Scientist', 'Data Scientist', 'Statistician', 'Data Analyst', 'Data Scientist', 'Data Scientist', 'Data Analyst', 'Statistician', 'Statistician', 'Data Scientist', 'Data Scientist', 'Data Analyst', 'Data Scientist', 'Data Scientist', 'Data Scientist', 'Data Scientist', 'Data Scientist', 'Data Scientist', 'Data Scientist', 'Data Analyst', 'Data Scientist', 'Data Analyst', 'Data Scientist', 'Statistician', 'Data Analyst', 'Data Scientist', 'Statistician', 'Data Scientist', 'Data Scientist', 'Statistician', 'Data Scientist', 'Data Scientist', 'Data Analyst', 'Data Scientist', 'Data Scientist', 'Statistician', 'Data Scientist', 'Data Analyst', 'Data Scientist', 'Statistician', 'Data Scientist', 'Data Scientist', 'Data Scientist', 'Data Analyst', 'Data Scientist', 'Data Scientist', 'Data Scientist', 'Data Scientist', 'Statistician', 'Data Scientist', 'Data Scientist', 'Statistician', 'Data Scientist', 'Data Scientist', 'Data Scientist', 'Data Scientist', 'Data Scientist', 'Statistician', 'Data Scientist', 'Data Scientist', 'Data Scientist', 'Data Scientist', 'Data Scientist', 'Data Analyst', 'Data Scientist', 'Data Scientist', 'Data Analyst', 'Statistician', 'Statistician', 'Data Scientist', 'Data Scientist', 'Data Scientist', 'Data Scientist', 'Data Scientist', 'Data Analyst', 'Data Scientist', 'Data Analyst', 'Data Scientist', 'Data Scientist', 'Data Scientist', 'Data Analyst', 'Data Analyst', 'Data Scientist', 'Data Scientist', 'Data Scientist', 'Data Analyst', 'Data Scientist', 'Data Scientist', 'Data Scientist', 'Data Analyst', 'Data Scientist', 'Data Scientist', 'Data Analyst', 'Data Scientist', 'Data Scientist', 'Data Scientist', 'Data Scientist', 'Data Scientist', 'Data Analyst', 'Data Scientist', 'Data Scientist', 'Data Scientist', 'Data Scientist', 'Data Analyst', 'Data Analyst', 'Data Scientist', 'Data Analyst', 'Statistician', 'Data Scientist', 'Statistician', 'Data Scientist', 'Data Scientist', 'Data Analyst', 'Data Analyst', 'Data Scientist', 'Data Scientist', 'Data Scientist', 'Data Analyst', 'Statistician', 'Data Scientist', 'Data Scientist', 'Data Scientist', 'Data Scientist', 'Data Scientist', 'Data Scientist', 'Data Scientist', 'Data Scientist', 'Statistician', 'Data Scientist', 'Statistician', 'Data Scientist', 'Data Analyst', 'Data Analyst', 'Data Analyst', 'Statistician', 'Data Analyst', 'Data Analyst', 'Statistician', 'Data Scientist', 'Data Scientist', 'Data Analyst', 'Data Analyst', 'Data Scientist', 'Data Scientist', 'Data Scientist', 'Statistician', 'Data Scientist', 'Data Analyst', 'Data Scientist', 'Data Scientist', 'Data Scientist', 'Data Analyst', 'Data Scientist', 'Data Analyst', 'Data Scientist', 'Data Scientist', 'Statistician', 'Data Analyst', 'Data Scientist', 'Statistician', 'Data Scientist', 'Data Analyst', 'Data Scientist', 'Data Analyst', 'Data Analyst', 'Data Scientist', 'Data Scientist', 'Data Analyst', 'Statistician', 'Data Analyst', 'Data Scientist', 'Data Scientist', 'Data Scientist', 'Data Scientist', 'Data Analyst', 'Data Analyst', 'Data Analyst', 'Data Scientist', 'Data Analyst', 'Data Scientist', 'Data Scientist', 'Data Scientist', 'Data Analyst', 'Data Scientist', 'Statistician', 'Data Scientist', 'Data Scientist', 'Data Analyst', 'Data Scientist', 'Data Scientist', 'Data Scientist', 'Data Scientist', 'Data Scientist', 'Data Scientist', 'Data Scientist', 'Data Analyst', 'Data Scientist', 'Data Scientist', 'Data Scientist', 'Data Analyst', 'Data Analyst', 'Data Scientist', 'Data Scientist', 'Data Scientist', 'Data Analyst', 'Data Scientist', 'Data Scientist', 'Statistician', 'Data Scientist', 'Data Scientist', 'Data Scientist', 'Statistician', 'Data Scientist', 'Data Scientist', 'Data Scientist', 'Data Scientist', 'Data Scientist', 'Data Scientist', 'Data Analyst', 'Data Scientist', 'Data Scientist', 'Data Scientist', 'Data Scientist', 'Data Scientist', 'Data Scientist', 'Data Scientist', 'Data Analyst', 'Data Scientist', 'Data Scientist', 'Data Scientist', 'Data Analyst', 'Data Scientist', 'Data Scientist', 'Statistician', 'Data Scientist', 'Data Scientist', 'Data Scientist', 'Data Analyst', 'Data Scientist', 'Data Analyst', 'Data Scientist', 'Statistician', 'Data Scientist', 'Data Scientist', 'Statistician', 'Data Scientist', 'Data Scientist', 'Data Scientist', 'Data Scientist', 'Data Scientist', 'Data Scientist', 'Data Scientist', 'Data Scientist', 'Data Scientist', 'Data Scientist', 'Data Analyst', 'Data Scientist', 'Data Scientist', 'Data Scientist', 'Data Scientist', 'Data Scientist', 'Data Scientist', 'Data Scientist', 'Statistician', 'Data Scientist', 'Data Analyst', 'Statistician', 'Data Analyst', 'Data Scientist', 'Data Scientist', 'Data Analyst', 'Data Scientist', 'Data Analyst', 'Statistician', 'Data Scientist', 'Data Scientist', 'Data Analyst', 'Statistician', 'Data Scientist', 'Statistician', 'Data Analyst', 'Data Scientist', 'Data Scientist', 'Data Analyst', 'Data Analyst', 'Statistician', 'Data Analyst', 'Data Analyst', 'Data Scientist', 'Data Scientist', 'Data Scientist', 'Data Analyst', 'Data Scientist', 'Data Scientist', 'Data Scientist', 'Data Scientist', 'Data Scientist', 'Data Analyst', 'Data Scientist', 'Statistician', 'Data Scientist', 'Data Scientist', 'Data Scientist', 'Data Scientist', 'Data Scientist', 'Data Analyst', 'Statistician', 'Data Scientist', 'Data Analyst', 'Data Scientist', 'Data Analyst', 'Data Scientist', 'Data Scientist', 'Data Analyst', 'Data Analyst', 'Data Analyst', 'Data Scientist', 'Data Scientist', 'Data Scientist', 'Data Scientist', 'Data Scientist', 'Data Analyst', 'Data Analyst', 'Statistician', 'Data Scientist', 'Data Scientist', 'Data Analyst', 'Data Scientist', 'Data Scientist', 'Data Scientist', 'Data Scientist', 'Data Scientist', 'Data Analyst', 'Data Scientist', 'Data Scientist', 'Data Scientist', 'Data Scientist', 'Data Scientist', 'Data Analyst', 'Data Scientist', 'Data Scientist', 'Data Scientist', 'Statistician', 'Data Scientist', 'Data Scientist', 'Data Scientist', 'Data Scientist', 'Data Analyst', 'Data Scientist', 'Data Scientist', 'Data Scientist', 'Statistician', 'Data Scientist', 'Data Scientist', 'Data Scientist', 'Data Scientist', 'Data Scientist', 'Statistician', 'Data Scientist', 'Data Scientist', 'Data Scientist', 'Data Analyst', 'Data Scientist', 'Data Scientist', 'Data Scientist', 'Data Analyst', 'Data Analyst', 'Data Scientist', 'Data Analyst', 'Statistician', 'Data Scientist', 'Data Scientist', 'Data Scientist', 'Data Analyst', 'Data Scientist', 'Data Scientist', 'Data Scientist', 'Data Scientist', 'Data Analyst', 'Data Analyst', 'Data Scientist', 'Data Scientist', 'Data Scientist']"
   ]
  },
  {
   "cell_type": "code",
   "execution_count": 9,
   "metadata": {},
   "outputs": [],
   "source": [
    "# Create a Series, default dtype\n",
    "series1 = pd.Series(list_of_occupations)"
   ]
  },
  {
   "cell_type": "code",
   "execution_count": 10,
   "metadata": {},
   "outputs": [
    {
     "name": "stdout",
     "output_type": "stream",
     "text": [
      "series1 data type: object\n",
      "series1 number of bytes: 14968\n"
     ]
    }
   ],
   "source": [
    "# Print out the data type and number of bytes for series1\n",
    "print(\"series1 data type:\", series1.dtype)\n",
    "print(\"series1 number of bytes:\", series1.nbytes)"
   ]
  },
  {
   "cell_type": "code",
   "execution_count": 11,
   "metadata": {},
   "outputs": [],
   "source": [
    "# Create a Series, \"category\" dtype\n",
    "series2 = pd.Series(list_of_occupations, dtype='category')"
   ]
  },
  {
   "cell_type": "code",
   "execution_count": 12,
   "metadata": {},
   "outputs": [
    {
     "name": "stdout",
     "output_type": "stream",
     "text": [
      "series2 data type: category\n",
      "series2 number of bytes: 1895\n"
     ]
    }
   ],
   "source": [
    "# Print out the data type and number of bytes for series2\n",
    "print(\"series2 data type:\", series2.dtype)\n",
    "print(\"series2 number of bytes:\", series2.nbytes)"
   ]
  },
  {
   "cell_type": "markdown",
   "metadata": {},
   "source": [
    "### Creating a categorical pandas Series"
   ]
  },
  {
   "cell_type": "code",
   "execution_count": 13,
   "metadata": {},
   "outputs": [],
   "source": [
    "medals_won = ['Silver', 'Silver', 'Bronze', 'Silver', 'Gold', 'Silver', 'Silver', 'Gold', 'Gold', 'Bronze', 'Bronze', 'Gold', 'Silver', 'Silver', 'Silver', 'Gold', 'Gold', 'Bronze', 'Silver', 'Gold', 'Bronze', 'Gold', 'Silver', 'Silver', 'Silver', 'Bronze', 'Gold', 'Gold', 'Silver', 'Gold', 'Silver', 'Silver', 'Silver', 'Gold', 'Gold', 'Silver', 'Silver', 'Silver', 'Silver', 'Silver', 'Gold', 'Gold', 'Gold', 'Silver', 'Silver', 'Gold', 'Gold', 'Gold', 'Silver', 'Bronze', 'Silver', 'Silver', 'Gold', 'Silver', 'Bronze', 'Silver', 'Bronze', 'Bronze', 'Gold', 'Silver', 'Gold', 'Bronze', 'Gold', 'Bronze', 'Bronze', 'Gold', 'Gold', 'Gold', 'Gold', 'Silver', 'Silver', 'Bronze', 'Gold', 'Silver', 'Gold', 'Bronze', 'Silver', 'Silver', 'Gold', 'Silver', 'Silver', 'Silver', 'Bronze', 'Gold', 'Gold', 'Gold', 'Silver', 'Silver', 'Bronze', 'Bronze', 'Gold', 'Bronze', 'Silver', 'Silver', 'Silver', 'Silver', 'Gold', 'Bronze', 'Bronze', 'Gold', 'Gold', 'Gold', 'Silver', 'Silver', 'Bronze', 'Bronze', 'Gold', 'Silver', 'Gold', 'Bronze', 'Bronze', 'Silver', 'Gold', 'Silver', 'Silver', 'Gold', 'Silver', 'Gold', 'Bronze', 'Silver', 'Gold', 'Silver', 'Gold', 'Silver', 'Bronze', 'Silver', 'Bronze', 'Gold', 'Gold', 'Gold', 'Silver', 'Bronze', 'Silver', 'Bronze', 'Gold', 'Silver', 'Gold', 'Bronze', 'Gold', 'Silver', 'Gold', 'Silver', 'Bronze', 'Silver', 'Gold', 'Gold', 'Silver', 'Gold', 'Gold', 'Silver', 'Bronze', 'Gold', 'Silver', 'Silver', 'Gold', 'Gold', 'Bronze', 'Silver', 'Silver', 'Bronze', 'Bronze', 'Gold', 'Gold', 'Silver', 'Bronze', 'Gold', 'Gold', 'Bronze', 'Silver', 'Gold', 'Silver', 'Gold', 'Gold', 'Silver', 'Silver', 'Bronze', 'Gold', 'Gold', 'Gold', 'Silver', 'Gold', 'Silver', 'Silver', 'Gold', 'Gold', 'Gold', 'Bronze', 'Bronze', 'Silver', 'Bronze', 'Gold', 'Gold', 'Bronze', 'Silver', 'Silver', 'Gold', 'Silver', 'Bronze', 'Bronze', 'Bronze', 'Bronze', 'Gold', 'Gold', 'Gold', 'Silver', 'Silver', 'Bronze', 'Gold', 'Bronze', 'Gold', 'Gold', 'Silver', 'Gold', 'Bronze', 'Bronze', 'Silver', 'Gold', 'Gold', 'Gold', 'Silver', 'Gold', 'Bronze', 'Gold', 'Gold', 'Silver', 'Bronze', 'Gold', 'Bronze', 'Gold', 'Gold', 'Bronze', 'Bronze', 'Silver', 'Bronze', 'Gold', 'Silver', 'Gold', 'Gold', 'Gold', 'Bronze', 'Gold', 'Silver', 'Gold', 'Silver', 'Silver', 'Bronze', 'Gold', 'Bronze', 'Silver', 'Silver', 'Silver', 'Bronze', 'Gold', 'Bronze', 'Gold', 'Gold', 'Silver', 'Bronze', 'Bronze', 'Bronze', 'Bronze', 'Bronze', 'Silver', 'Bronze', 'Gold', 'Silver', 'Gold', 'Gold', 'Gold', 'Bronze', 'Gold', 'Bronze', 'Silver', 'Gold', 'Gold', 'Gold', 'Silver', 'Silver', 'Bronze', 'Bronze', 'Bronze', 'Bronze', 'Silver', 'Gold', 'Bronze', 'Gold', 'Gold', 'Silver', 'Gold', 'Bronze', 'Gold', 'Gold', 'Bronze', 'Gold', 'Gold', 'Silver', 'Bronze', 'Gold', 'Gold', 'Gold', 'Bronze', 'Silver', 'Bronze', 'Gold', 'Gold', 'Bronze', 'Bronze', 'Silver', 'Silver', 'Gold', 'Silver', 'Silver', 'Gold', 'Gold', 'Gold', 'Gold', 'Bronze', 'Bronze', 'Bronze', 'Gold', 'Bronze', 'Bronze', 'Bronze', 'Gold', 'Silver', 'Bronze', 'Silver', 'Bronze', 'Gold', 'Bronze', 'Gold', 'Silver', 'Silver', 'Silver', 'Silver', 'Bronze', 'Bronze', 'Gold', 'Silver', 'Silver', 'Silver', 'Silver', 'Gold', 'Bronze', 'Gold', 'Gold', 'Silver', 'Bronze', 'Silver', 'Bronze', 'Gold', 'Silver', 'Gold', 'Gold', 'Silver', 'Silver', 'Bronze', 'Silver', 'Bronze', 'Gold', 'Silver', 'Silver', 'Silver', 'Gold', 'Silver', 'Gold', 'Silver', 'Bronze', 'Bronze', 'Gold', 'Silver', 'Bronze', 'Bronze', 'Silver', 'Bronze', 'Gold', 'Bronze', 'Bronze', 'Gold', 'Silver', 'Silver', 'Gold', 'Gold', 'Gold', 'Gold', 'Silver', 'Gold', 'Gold', 'Gold', 'Gold', 'Gold', 'Bronze', 'Gold', 'Bronze', 'Bronze', 'Silver', 'Silver', 'Silver', 'Gold', 'Bronze', 'Gold', 'Gold', 'Silver', 'Bronze', 'Silver', 'Gold', 'Silver', 'Silver', 'Bronze', 'Gold', 'Silver', 'Gold', 'Gold', 'Bronze', 'Bronze', 'Gold', 'Gold', 'Gold', 'Silver', 'Silver', 'Silver', 'Silver', 'Gold', 'Gold', 'Gold', 'Bronze', 'Gold', 'Gold', 'Gold', 'Gold', 'Gold', 'Bronze', 'Bronze', 'Gold', 'Gold', 'Gold', 'Gold', 'Bronze', 'Bronze', 'Bronze', 'Bronze', 'Bronze', 'Silver', 'Gold', 'Silver', 'Gold', 'Gold', 'Bronze', 'Silver', 'Silver', 'Bronze', 'Silver', 'Silver', 'Bronze', 'Gold', 'Gold', 'Gold', 'Gold', 'Bronze', 'Bronze', 'Bronze', 'Gold', 'Silver', 'Silver', 'Gold', 'Gold', 'Silver', 'Silver', 'Gold', 'Bronze', 'Gold', 'Gold', 'Silver', 'Bronze', 'Silver', 'Bronze', 'Gold', 'Silver', 'Gold', 'Gold', 'Silver', 'Bronze', 'Gold', 'Bronze', 'Silver', 'Gold', 'Silver', 'Gold', 'Bronze', 'Gold', 'Silver', 'Gold', 'Gold', 'Gold', 'Gold', 'Silver', 'Silver', 'Gold', 'Bronze', 'Silver', 'Silver', 'Bronze', 'Gold', 'Gold', 'Silver', 'Bronze', 'Bronze', 'Gold', 'Bronze', 'Bronze', 'Gold', 'Gold', 'Silver', 'Gold', 'Gold', 'Gold', 'Silver', 'Gold', 'Gold', 'Silver', 'Silver', 'Gold', 'Bronze', 'Bronze', 'Gold', 'Silver', 'Bronze', 'Bronze', 'Silver', 'Gold', 'Silver', 'Gold', 'Silver', 'Silver', 'Bronze', 'Bronze', 'Gold', 'Gold', 'Bronze', 'Silver', 'Silver', 'Gold', 'Silver', 'Bronze', 'Bronze', 'Bronze', 'Silver', 'Silver', 'Silver', 'Gold', 'Silver', 'Bronze', 'Bronze', 'Gold', 'Bronze', 'Bronze', 'Silver', 'Gold', 'Bronze', 'Bronze', 'Bronze', 'Bronze', 'Bronze', 'Silver', 'Gold', 'Gold', 'Gold', 'Bronze', 'Gold', 'Gold', 'Gold', 'Gold', 'Bronze', 'Silver', 'Silver', 'Silver', 'Bronze', 'Silver', 'Silver', 'Silver', 'Gold', 'Gold', 'Bronze', 'Gold', 'Gold', 'Gold', 'Gold', 'Bronze', 'Bronze', 'Bronze', 'Gold', 'Bronze', 'Gold', 'Silver', 'Gold', 'Silver', 'Silver', 'Silver', 'Gold', 'Gold', 'Silver', 'Silver', 'Gold', 'Gold', 'Silver', 'Bronze', 'Gold', 'Silver', 'Gold', 'Gold', 'Gold', 'Silver', 'Silver', 'Silver', 'Bronze', 'Bronze', 'Gold', 'Silver', 'Bronze', 'Silver', 'Gold', 'Silver', 'Gold', 'Silver', 'Silver', 'Gold', 'Silver', 'Silver', 'Bronze', 'Bronze', 'Bronze', 'Bronze', 'Silver', 'Silver', 'Silver', 'Gold', 'Silver', 'Gold', 'Gold', 'Bronze', 'Gold', 'Silver', 'Silver', 'Bronze', 'Silver', 'Gold', 'Bronze', 'Gold', 'Silver', 'Silver', 'Bronze', 'Bronze', 'Bronze', 'Silver', 'Silver', 'Gold', 'Gold', 'Gold', 'Silver', 'Bronze', 'Silver', 'Gold', 'Bronze', 'Silver', 'Gold', 'Bronze', 'Gold', 'Gold', 'Silver', 'Gold', 'Gold', 'Silver', 'Gold', 'Gold', 'Gold', 'Silver', 'Silver', 'Bronze', 'Gold', 'Gold', 'Bronze', 'Gold', 'Gold', 'Silver', 'Bronze', 'Bronze', 'Gold', 'Silver', 'Silver', 'Bronze', 'Bronze', 'Bronze', 'Silver', 'Gold', 'Silver', 'Silver', 'Bronze', 'Silver', 'Bronze', 'Bronze', 'Silver', 'Bronze', 'Gold', 'Silver', 'Silver', 'Gold', 'Bronze', 'Silver', 'Silver', 'Bronze', 'Silver', 'Silver', 'Silver', 'Gold', 'Gold', 'Gold', 'Silver', 'Gold', 'Gold', 'Gold', 'Gold', 'Silver', 'Silver', 'Gold', 'Silver', 'Gold', 'Bronze', 'Gold', 'Bronze', 'Gold', 'Silver', 'Bronze', 'Silver', 'Bronze', 'Bronze', 'Bronze', 'Bronze', 'Silver', 'Bronze', 'Silver', 'Gold', 'Silver', 'Silver', 'Silver', 'Gold', 'Bronze', 'Silver', 'Gold', 'Bronze', 'Bronze', 'Gold', 'Gold', 'Silver', 'Bronze', 'Gold', 'Bronze', 'Gold', 'Bronze', 'Gold', 'Silver', 'Gold', 'Silver', 'Gold', 'Bronze', 'Silver', 'Silver', 'Gold', 'Bronze', 'Gold', 'Gold', 'Gold', 'Bronze', 'Gold', 'Silver', 'Gold', 'Bronze', 'Gold', 'Gold', 'Silver', 'Silver', 'Bronze', 'Silver', 'Silver', 'Silver', 'Gold', 'Bronze', 'Gold', 'Gold', 'Gold', 'Bronze', 'Bronze', 'Gold', 'Silver', 'Bronze', 'Silver', 'Gold', 'Bronze', 'Silver', 'Silver', 'Gold', 'Gold', 'Silver', 'Gold', 'Gold', 'Silver', 'Gold', 'Silver', 'Silver', 'Bronze', 'Gold', 'Silver', 'Silver', 'Silver', 'Silver', 'Bronze', 'Gold', 'Gold', 'Bronze', 'Silver', 'Gold', 'Gold', 'Silver', 'Gold', 'Gold', 'Bronze', 'Gold', 'Bronze', 'Gold', 'Gold', 'Bronze', 'Silver', 'Gold', 'Silver', 'Silver', 'Gold', 'Gold', 'Bronze', 'Bronze', 'Bronze', 'Gold', 'Silver', 'Bronze', 'Gold', 'Silver', 'Silver', 'Gold', 'Bronze', 'Gold', 'Silver', 'Silver', 'Silver', 'Bronze', 'Bronze', 'Bronze', 'Gold', 'Bronze', 'Bronze', 'Bronze', 'Bronze', 'Silver', 'Bronze', 'Bronze', 'Gold', 'Bronze', 'Gold', 'Gold', 'Bronze', 'Bronze', 'Silver', 'Bronze', 'Gold', 'Silver', 'Bronze', 'Silver', 'Gold', 'Silver', 'Gold', 'Gold', 'Bronze', 'Silver', 'Bronze', 'Bronze', 'Silver', 'Silver', 'Silver', 'Gold', 'Bronze', 'Bronze', 'Bronze', 'Gold', 'Silver', 'Gold', 'Gold', 'Bronze', 'Bronze', 'Silver', 'Bronze', 'Gold', 'Silver', 'Silver', 'Silver', 'Gold', 'Gold', 'Silver', 'Silver', 'Gold', 'Bronze', 'Silver', 'Gold', 'Bronze', 'Bronze', 'Silver', 'Silver', 'Gold', 'Bronze', 'Gold', 'Silver', 'Gold', 'Silver', 'Gold', 'Gold', 'Gold', 'Silver', 'Silver', 'Gold', 'Gold', 'Bronze', 'Silver', 'Bronze', 'Bronze', 'Silver', 'Bronze', 'Bronze', 'Gold', 'Silver', 'Bronze', 'Gold', 'Gold', 'Gold', 'Silver', 'Silver', 'Bronze', 'Gold', 'Bronze', 'Bronze', 'Silver', 'Silver', 'Bronze', 'Bronze', 'Gold', 'Bronze', 'Gold', 'Gold', 'Gold', 'Gold', 'Bronze', 'Bronze', 'Bronze', 'Gold', 'Silver', 'Bronze', 'Gold', 'Bronze', 'Bronze', 'Gold', 'Gold', 'Gold', 'Bronze', 'Gold', 'Gold', 'Silver', 'Bronze', 'Bronze', 'Bronze', 'Silver', 'Bronze', 'Bronze', 'Bronze', 'Gold', 'Bronze', 'Bronze', 'Silver', 'Gold', 'Bronze', 'Gold', 'Silver', 'Gold', 'Silver', 'Silver', 'Gold', 'Gold', 'Gold', 'Bronze', 'Gold', 'Gold', 'Silver', 'Bronze', 'Gold', 'Gold', 'Gold', 'Bronze', 'Gold', 'Gold', 'Silver', 'Bronze', 'Bronze', 'Gold', 'Gold', 'Bronze', 'Silver', 'Gold', 'Silver', 'Silver', 'Bronze', 'Gold', 'Gold', 'Bronze', 'Bronze', 'Gold', 'Gold', 'Bronze', 'Gold', 'Gold', 'Bronze', 'Bronze', 'Bronze', 'Bronze', 'Gold', 'Silver', 'Silver', 'Gold', 'Silver', 'Gold', 'Gold', 'Bronze', 'Silver', 'Silver', 'Silver', 'Bronze', 'Bronze', 'Silver', 'Bronze', 'Gold', 'Silver', 'Bronze', 'Gold', 'Silver', 'Bronze', 'Gold', 'Bronze', 'Silver', 'Gold', 'Silver', 'Silver', 'Gold', 'Gold', 'Bronze', 'Bronze', 'Silver', 'Silver', 'Bronze', 'Bronze', 'Silver', 'Bronze', 'Gold', 'Gold', 'Bronze', 'Gold', 'Gold', 'Silver', 'Gold', 'Bronze', 'Bronze', 'Silver', 'Bronze', 'Silver', 'Gold', 'Silver', 'Gold', 'Gold', 'Gold', 'Bronze', 'Silver', 'Gold', 'Silver', 'Bronze', 'Gold', 'Bronze', 'Gold', 'Gold', 'Gold', 'Gold', 'Gold', 'Silver', 'Gold', 'Silver', 'Silver', 'Bronze', 'Silver', 'Silver', 'Silver', 'Bronze', 'Silver', 'Bronze', 'Gold', 'Bronze', 'Gold', 'Silver', 'Gold', 'Gold', 'Bronze', 'Silver', 'Gold', 'Gold', 'Bronze', 'Silver', 'Silver', 'Gold', 'Silver', 'Gold', 'Gold', 'Gold', 'Bronze', 'Silver', 'Silver', 'Bronze', 'Gold', 'Gold', 'Silver', 'Gold', 'Silver', 'Bronze', 'Gold', 'Bronze', 'Bronze', 'Gold', 'Gold', 'Bronze', 'Gold', 'Bronze', 'Silver', 'Gold', 'Silver', 'Silver', 'Silver', 'Bronze', 'Bronze', 'Bronze', 'Bronze', 'Silver', 'Silver', 'Silver', 'Bronze', 'Bronze', 'Gold', 'Bronze', 'Silver', 'Silver', 'Bronze', 'Gold', 'Bronze', 'Bronze', 'Silver', 'Bronze', 'Bronze', 'Gold', 'Bronze', 'Bronze', 'Bronze', 'Silver', 'Silver', 'Silver', 'Silver', 'Bronze', 'Silver', 'Silver', 'Bronze', 'Bronze', 'Gold', 'Silver', 'Silver', 'Gold', 'Gold', 'Gold', 'Gold', 'Bronze', 'Silver', 'Silver', 'Gold', 'Bronze', 'Gold', 'Gold', 'Gold', 'Silver', 'Silver', 'Gold', 'Bronze', 'Bronze', 'Silver', 'Gold', 'Silver', 'Gold', 'Gold', 'Gold', 'Gold', 'Gold', 'Silver', 'Bronze', 'Silver', 'Gold', 'Gold', 'Gold', 'Gold', 'Gold', 'Silver', 'Gold', 'Gold', 'Gold', 'Bronze', 'Gold', 'Silver', 'Silver', 'Gold', 'Bronze', 'Gold', 'Bronze', 'Bronze', 'Silver', 'Gold', 'Gold', 'Silver', 'Silver', 'Gold', 'Silver', 'Bronze', 'Silver', 'Silver', 'Bronze', 'Silver', 'Gold', 'Gold', 'Bronze', 'Bronze', 'Silver', 'Gold', 'Gold', 'Gold', 'Gold', 'Gold', 'Gold', 'Gold', 'Gold', 'Silver', 'Bronze', 'Silver', 'Silver', 'Silver', 'Gold', 'Gold', 'Bronze', 'Gold', 'Bronze', 'Gold', 'Silver', 'Silver', 'Bronze', 'Silver', 'Silver', 'Silver', 'Bronze', 'Silver', 'Gold', 'Silver', 'Bronze', 'Bronze', 'Bronze', 'Silver', 'Bronze', 'Bronze', 'Gold', 'Silver', 'Gold', 'Gold', 'Silver', 'Silver', 'Silver', 'Gold', 'Gold', 'Bronze', 'Gold', 'Gold', 'Bronze', 'Gold', 'Bronze', 'Bronze', 'Gold', 'Silver', 'Bronze', 'Bronze', 'Silver', 'Gold', 'Gold', 'Silver', 'Silver', 'Silver', 'Bronze', 'Silver', 'Gold', 'Bronze', 'Gold', 'Bronze', 'Silver', 'Gold', 'Silver', 'Silver', 'Gold', 'Silver', 'Bronze', 'Silver', 'Bronze', 'Gold', 'Bronze', 'Gold', 'Bronze', 'Silver', 'Bronze', 'Bronze', 'Silver', 'Bronze', 'Bronze', 'Gold', 'Bronze', 'Silver', 'Gold', 'Gold', 'Silver', 'Bronze', 'Silver', 'Silver', 'Gold', 'Gold', 'Gold', 'Bronze', 'Gold', 'Bronze', 'Silver', 'Gold', 'Gold', 'Gold', 'Silver', 'Bronze', 'Bronze', 'Silver', 'Gold', 'Gold', 'Silver', 'Bronze', 'Silver', 'Gold', 'Gold', 'Gold', 'Silver', 'Silver', 'Gold', 'Gold', 'Gold', 'Silver', 'Gold', 'Silver', 'Gold', 'Gold', 'Bronze', 'Bronze', 'Bronze', 'Gold', 'Gold', 'Silver', 'Gold', 'Silver', 'Silver', 'Gold', 'Gold', 'Gold', 'Bronze', 'Gold', 'Silver', 'Gold', 'Silver', 'Gold', 'Bronze', 'Gold', 'Bronze', 'Gold', 'Gold', 'Silver', 'Silver', 'Gold', 'Bronze', 'Gold', 'Silver', 'Gold', 'Bronze', 'Bronze', 'Silver', 'Bronze', 'Bronze', 'Bronze', 'Silver', 'Gold', 'Silver', 'Silver', 'Silver', 'Silver', 'Gold', 'Gold', 'Bronze', 'Silver', 'Bronze', 'Silver', 'Bronze', 'Gold', 'Bronze', 'Silver', 'Bronze', 'Gold', 'Gold', 'Gold', 'Gold', 'Silver', 'Gold', 'Silver', 'Gold', 'Bronze', 'Silver', 'Bronze', 'Silver', 'Gold', 'Bronze', 'Silver', 'Silver', 'Bronze', 'Silver', 'Silver', 'Bronze', 'Bronze', 'Gold', 'Bronze', 'Gold', 'Gold', 'Bronze', 'Gold', 'Silver', 'Silver', 'Bronze', 'Gold', 'Bronze', 'Bronze', 'Bronze', 'Gold', 'Bronze', 'Silver', 'Gold', 'Gold', 'Gold', 'Silver', 'Gold', 'Silver', 'Silver', 'Gold', 'Bronze', 'Bronze', 'Gold', 'Silver', 'Gold', 'Silver', 'Gold', 'Silver', 'Gold', 'Bronze', 'Gold', 'Gold', 'Gold', 'Gold', 'Gold', 'Bronze', 'Silver', 'Gold', 'Gold', 'Bronze', 'Gold', 'Bronze', 'Silver', 'Gold', 'Silver', 'Silver', 'Silver', 'Silver', 'Bronze', 'Gold', 'Gold', 'Bronze', 'Bronze', 'Gold', 'Gold', 'Gold', 'Gold', 'Gold', 'Gold', 'Bronze', 'Silver', 'Gold', 'Silver', 'Silver', 'Bronze', 'Bronze', 'Gold', 'Gold', 'Silver', 'Silver', 'Silver', 'Bronze', 'Gold', 'Silver', 'Bronze', 'Silver', 'Gold', 'Gold', 'Silver', 'Silver', 'Gold', 'Silver', 'Silver', 'Gold', 'Gold', 'Bronze', 'Silver', 'Silver', 'Gold', 'Gold', 'Silver', 'Bronze', 'Gold', 'Gold', 'Bronze', 'Bronze', 'Silver', 'Gold', 'Gold', 'Silver', 'Silver', 'Silver', 'Silver', 'Gold', 'Gold', 'Silver', 'Gold', 'Gold', 'Silver', 'Bronze', 'Gold', 'Bronze', 'Gold', 'Bronze', 'Silver', 'Gold', 'Gold', 'Gold', 'Gold', 'Bronze', 'Bronze', 'Bronze', 'Gold', 'Bronze', 'Bronze', 'Silver', 'Gold', 'Gold', 'Gold', 'Gold', 'Gold', 'Bronze', 'Gold', 'Bronze', 'Silver', 'Gold', 'Bronze', 'Silver', 'Gold', 'Gold', 'Gold', 'Bronze', 'Gold', 'Silver', 'Gold', 'Silver', 'Gold', 'Gold', 'Bronze', 'Gold', 'Bronze', 'Gold', 'Gold', 'Bronze', 'Gold', 'Silver', 'Silver', 'Silver', 'Bronze', 'Silver', 'Silver', 'Silver', 'Silver', 'Bronze', 'Gold', 'Silver', 'Silver', 'Bronze', 'Gold', 'Silver', 'Silver', 'Gold', 'Silver', 'Gold', 'Silver', 'Gold', 'Gold', 'Gold', 'Gold', 'Gold', 'Gold', 'Gold', 'Gold', 'Gold', 'Silver', 'Gold', 'Silver', 'Silver', 'Bronze', 'Gold', 'Gold', 'Bronze', 'Silver', 'Gold', 'Bronze', 'Bronze', 'Gold', 'Bronze', 'Bronze', 'Gold', 'Gold', 'Gold', 'Silver', 'Bronze', 'Bronze', 'Silver', 'Gold', 'Bronze', 'Bronze', 'Silver', 'Silver', 'Bronze', 'Gold', 'Bronze', 'Gold', 'Gold', 'Bronze', 'Bronze', 'Bronze', 'Gold', 'Bronze', 'Silver', 'Bronze', 'Gold', 'Gold', 'Bronze', 'Gold', 'Silver', 'Silver', 'Silver', 'Gold', 'Gold', 'Gold', 'Silver', 'Bronze', 'Gold', 'Gold', 'Bronze', 'Silver', 'Bronze', 'Silver', 'Bronze', 'Gold', 'Gold', 'Gold', 'Gold', 'Bronze', 'Silver', 'Bronze', 'Silver', 'Gold', 'Gold', 'Silver', 'Gold', 'Bronze', 'Gold', 'Bronze', 'Gold', 'Gold', 'Gold', 'Bronze', 'Gold', 'Bronze', 'Bronze', 'Bronze', 'Gold', 'Bronze', 'Silver', 'Silver', 'Gold', 'Bronze', 'Bronze', 'Gold', 'Silver', 'Silver', 'Silver', 'Silver', 'Bronze', 'Silver', 'Gold', 'Bronze', 'Silver', 'Gold', 'Silver', 'Gold', 'Silver', 'Silver', 'Gold', 'Bronze', 'Silver', 'Gold', 'Gold', 'Gold', 'Gold', 'Bronze', 'Silver', 'Gold', 'Silver', 'Gold', 'Gold', 'Gold', 'Bronze', 'Bronze', 'Gold', 'Gold', 'Gold', 'Gold', 'Bronze', 'Gold', 'Gold', 'Bronze', 'Bronze', 'Gold', 'Gold', 'Gold', 'Silver', 'Silver', 'Silver', 'Gold', 'Gold', 'Silver', 'Gold', 'Gold', 'Silver', 'Gold', 'Gold', 'Gold', 'Gold', 'Silver', 'Bronze', 'Bronze', 'Bronze', 'Gold', 'Gold', 'Gold', 'Bronze', 'Bronze', 'Gold', 'Gold', 'Bronze', 'Silver', 'Silver', 'Gold', 'Gold', 'Bronze', 'Bronze', 'Silver', 'Silver', 'Silver', 'Bronze', 'Silver', 'Gold', 'Bronze', 'Silver', 'Gold', 'Gold', 'Gold', 'Silver', 'Bronze', 'Silver', 'Bronze', 'Gold', 'Silver', 'Gold', 'Gold', 'Gold', 'Bronze', 'Gold', 'Bronze', 'Gold', 'Bronze', 'Gold', 'Bronze', 'Silver', 'Bronze', 'Gold', 'Gold', 'Bronze', 'Gold', 'Gold', 'Bronze', 'Gold', 'Gold', 'Bronze', 'Gold', 'Silver', 'Silver', 'Gold', 'Bronze', 'Bronze', 'Gold', 'Silver', 'Silver', 'Gold', 'Gold', 'Bronze', 'Bronze', 'Bronze', 'Silver', 'Bronze', 'Gold', 'Silver', 'Gold', 'Bronze', 'Gold', 'Bronze', 'Bronze', 'Gold', 'Gold', 'Silver', 'Gold', 'Bronze', 'Gold', 'Silver', 'Gold', 'Silver', 'Gold', 'Bronze', 'Silver', 'Gold', 'Bronze', 'Bronze', 'Bronze', 'Silver', 'Gold', 'Gold', 'Gold', 'Gold', 'Gold', 'Bronze', 'Gold', 'Gold', 'Gold', 'Gold', 'Silver', 'Gold', 'Silver', 'Gold', 'Gold', 'Gold', 'Bronze', 'Bronze', 'Bronze', 'Bronze', 'Silver', 'Gold', 'Gold', 'Silver', 'Bronze', 'Silver', 'Silver', 'Gold', 'Gold', 'Silver', 'Silver', 'Gold', 'Silver', 'Silver', 'Gold', 'Silver', 'Silver', 'Bronze', 'Bronze', 'Bronze', 'Bronze', 'Gold', 'Gold', 'Bronze', 'Silver', 'Bronze', 'Gold', 'Bronze', 'Bronze', 'Bronze', 'Silver', 'Bronze', 'Bronze', 'Silver', 'Silver', 'Bronze', 'Bronze', 'Bronze', 'Bronze', 'Silver', 'Gold', 'Silver', 'Gold', 'Silver', 'Gold', 'Bronze', 'Silver', 'Silver', 'Silver', 'Gold', 'Silver', 'Bronze', 'Silver', 'Silver', 'Silver', 'Silver', 'Bronze', 'Gold', 'Gold', 'Silver', 'Gold', 'Bronze', 'Gold', 'Gold', 'Silver', 'Silver', 'Bronze', 'Gold', 'Silver', 'Silver', 'Gold', 'Gold', 'Gold', 'Bronze', 'Gold', 'Gold', 'Bronze', 'Bronze', 'Silver', 'Gold', 'Bronze', 'Bronze', 'Silver', 'Bronze', 'Silver', 'Silver', 'Bronze', 'Bronze', 'Bronze', 'Gold', 'Bronze', 'Silver', 'Bronze', 'Silver', 'Silver', 'Silver', 'Gold', 'Silver', 'Bronze', 'Gold', 'Silver', 'Silver', 'Bronze', 'Gold', 'Silver', 'Gold', 'Silver', 'Gold', 'Bronze', 'Bronze', 'Bronze', 'Gold', 'Silver', 'Gold', 'Bronze', 'Bronze', 'Bronze', 'Bronze', 'Gold', 'Silver', 'Bronze', 'Gold', 'Bronze', 'Silver', 'Gold', 'Gold', 'Bronze', 'Silver', 'Gold', 'Silver', 'Bronze', 'Silver', 'Gold', 'Silver', 'Gold', 'Gold', 'Silver', 'Gold', 'Gold', 'Gold', 'Gold', 'Gold', 'Silver', 'Gold', 'Bronze', 'Gold', 'Bronze', 'Gold', 'Bronze', 'Bronze', 'Gold', 'Silver', 'Silver', 'Gold', 'Gold', 'Gold', 'Gold', 'Silver', 'Bronze', 'Gold', 'Bronze', 'Silver', 'Bronze', 'Gold', 'Gold', 'Gold', 'Gold', 'Gold', 'Gold', 'Silver', 'Silver', 'Silver', 'Silver', 'Gold', 'Silver', 'Gold', 'Silver', 'Silver', 'Gold', 'Gold', 'Gold', 'Gold', 'Silver', 'Gold', 'Gold', 'Bronze', 'Gold', 'Gold', 'Gold', 'Bronze', 'Bronze', 'Gold', 'Silver', 'Gold', 'Bronze', 'Silver', 'Gold', 'Silver', 'Gold', 'Silver', 'Gold', 'Bronze', 'Gold', 'Silver', 'Bronze', 'Bronze', 'Gold', 'Gold', 'Silver', 'Silver', 'Silver', 'Bronze', 'Bronze', 'Gold', 'Gold', 'Gold', 'Silver', 'Gold', 'Bronze', 'Gold', 'Silver', 'Silver', 'Silver', 'Silver', 'Gold', 'Gold', 'Silver', 'Silver', 'Gold', 'Bronze', 'Gold', 'Silver', 'Silver', 'Silver', 'Bronze', 'Bronze', 'Silver', 'Gold', 'Silver', 'Gold', 'Bronze', 'Silver', 'Bronze', 'Silver', 'Gold', 'Silver', 'Silver', 'Bronze', 'Silver', 'Bronze', 'Silver', 'Gold', 'Bronze', 'Silver', 'Gold', 'Bronze', 'Silver', 'Silver', 'Bronze', 'Silver', 'Gold', 'Bronze', 'Silver', 'Silver', 'Silver', 'Silver', 'Silver', 'Silver', 'Bronze', 'Gold', 'Silver', 'Silver', 'Bronze', 'Silver', 'Gold', 'Bronze', 'Silver', 'Bronze', 'Silver', 'Silver', 'Silver', 'Bronze', 'Gold', 'Gold', 'Gold', 'Gold', 'Silver', 'Bronze', 'Silver', 'Silver', 'Silver', 'Gold', 'Gold', 'Silver', 'Bronze', 'Silver', 'Bronze', 'Gold', 'Bronze', 'Bronze', 'Silver', 'Silver', 'Gold', 'Gold', 'Gold', 'Gold', 'Silver', 'Silver', 'Silver', 'Silver', 'Gold', 'Bronze', 'Gold', 'Bronze', 'Gold', 'Gold', 'Gold', 'Silver', 'Bronze', 'Gold', 'Gold', 'Gold', 'Bronze', 'Bronze', 'Bronze', 'Gold', 'Bronze', 'Gold', 'Gold', 'Gold', 'Silver', 'Silver', 'Bronze', 'Bronze', 'Silver', 'Bronze', 'Silver', 'Gold', 'Silver', 'Gold', 'Silver', 'Gold', 'Gold', 'Gold', 'Silver', 'Bronze', 'Gold', 'Gold', 'Silver', 'Silver', 'Gold', 'Gold', 'Silver', 'Silver', 'Bronze', 'Gold', 'Silver', 'Bronze', 'Gold', 'Gold', 'Silver', 'Bronze', 'Silver', 'Bronze', 'Silver', 'Gold', 'Gold', 'Silver', 'Silver', 'Bronze', 'Bronze', 'Silver', 'Gold', 'Gold', 'Gold', 'Gold', 'Bronze', 'Silver', 'Silver', 'Gold', 'Gold', 'Gold', 'Silver', 'Silver', 'Silver', 'Silver', 'Gold', 'Gold', 'Silver', 'Silver', 'Gold', 'Gold', 'Gold', 'Silver', 'Silver', 'Bronze', 'Gold', 'Silver', 'Bronze', 'Silver', 'Gold', 'Silver', 'Silver', 'Silver', 'Bronze', 'Bronze', 'Gold', 'Bronze', 'Gold', 'Silver', 'Bronze', 'Gold', 'Silver', 'Gold', 'Silver', 'Silver', 'Gold', 'Silver', 'Gold', 'Gold', 'Gold', 'Bronze', 'Silver', 'Gold', 'Gold', 'Bronze', 'Silver', 'Bronze', 'Silver', 'Bronze', 'Gold', 'Silver', 'Silver', 'Gold', 'Silver', 'Bronze', 'Bronze', 'Silver', 'Silver', 'Gold', 'Bronze', 'Silver', 'Gold', 'Bronze', 'Gold', 'Silver', 'Gold', 'Gold', 'Silver', 'Bronze', 'Gold', 'Gold', 'Gold', 'Silver', 'Silver', 'Gold', 'Silver', 'Bronze', 'Silver', 'Silver', 'Gold', 'Bronze', 'Gold', 'Gold', 'Silver', 'Silver', 'Silver', 'Gold', 'Gold', 'Silver', 'Gold', 'Gold', 'Silver', 'Bronze', 'Gold', 'Gold', 'Silver', 'Gold', 'Bronze', 'Bronze', 'Silver', 'Gold', 'Bronze', 'Gold', 'Bronze', 'Silver', 'Gold', 'Gold', 'Gold', 'Gold', 'Silver', 'Silver', 'Silver', 'Bronze', 'Bronze', 'Bronze', 'Gold', 'Silver', 'Gold', 'Silver', 'Gold', 'Bronze', 'Bronze', 'Bronze', 'Bronze', 'Bronze', 'Silver', 'Gold', 'Gold', 'Bronze', 'Gold', 'Gold', 'Silver', 'Gold', 'Gold', 'Silver', 'Silver', 'Silver', 'Silver', 'Gold', 'Silver', 'Bronze', 'Gold', 'Gold', 'Gold', 'Gold', 'Silver', 'Gold', 'Gold', 'Silver', 'Silver', 'Silver', 'Silver', 'Silver', 'Silver', 'Gold', 'Gold', 'Gold', 'Gold', 'Bronze', 'Bronze', 'Bronze', 'Gold', 'Bronze', 'Gold', 'Silver', 'Bronze', 'Bronze', 'Bronze', 'Silver', 'Gold', 'Silver', 'Gold', 'Gold', 'Silver', 'Gold', 'Bronze', 'Bronze', 'Bronze', 'Silver', 'Bronze', 'Gold', 'Gold', 'Gold', 'Gold', 'Gold', 'Gold', 'Bronze', 'Silver', 'Bronze', 'Bronze', 'Silver', 'Gold', 'Bronze', 'Gold', 'Bronze', 'Bronze', 'Silver', 'Silver', 'Gold', 'Gold', 'Gold', 'Gold', 'Silver', 'Bronze', 'Gold', 'Gold', 'Gold', 'Silver', 'Bronze', 'Silver', 'Bronze', 'Silver', 'Silver', 'Gold', 'Silver', 'Bronze', 'Gold', 'Gold', 'Gold', 'Silver', 'Silver', 'Gold', 'Gold', 'Gold', 'Silver', 'Bronze', 'Gold', 'Gold', 'Gold', 'Gold', 'Silver', 'Bronze', 'Gold', 'Silver', 'Silver', 'Bronze', 'Gold', 'Gold', 'Gold', 'Gold', 'Silver', 'Silver', 'Gold', 'Gold', 'Silver', 'Silver', 'Silver', 'Gold', 'Bronze', 'Bronze', 'Gold', 'Bronze', 'Bronze', 'Gold', 'Bronze', 'Gold', 'Bronze', 'Gold', 'Gold', 'Bronze', 'Gold', 'Gold', 'Bronze', 'Silver', 'Gold', 'Bronze', 'Silver', 'Bronze', 'Silver', 'Bronze', 'Gold', 'Gold', 'Gold', 'Silver', 'Bronze', 'Gold', 'Silver', 'Bronze', 'Bronze', 'Gold', 'Bronze', 'Silver', 'Gold', 'Silver', 'Gold', 'Gold', 'Bronze', 'Silver', 'Gold', 'Silver', 'Silver', 'Silver', 'Bronze', 'Bronze', 'Bronze', 'Bronze', 'Gold', 'Silver', 'Gold', 'Bronze', 'Gold', 'Gold', 'Gold', 'Bronze', 'Gold', 'Gold', 'Silver', 'Gold', 'Silver', 'Silver', 'Gold', 'Silver', 'Gold', 'Bronze', 'Gold', 'Bronze', 'Silver', 'Bronze', 'Gold', 'Silver', 'Bronze', 'Gold', 'Gold', 'Silver', 'Silver', 'Bronze', 'Silver', 'Gold', 'Gold', 'Bronze', 'Gold', 'Gold', 'Gold', 'Bronze', 'Gold', 'Bronze', 'Gold', 'Silver', 'Gold', 'Gold', 'Silver', 'Silver', 'Gold', 'Gold', 'Gold', 'Gold', 'Bronze', 'Silver', 'Bronze', 'Bronze', 'Silver', 'Gold', 'Bronze', 'Silver', 'Bronze', 'Silver', 'Gold', 'Gold', 'Silver', 'Silver', 'Gold', 'Silver', 'Gold', 'Bronze', 'Silver', 'Bronze', 'Bronze', 'Bronze', 'Gold', 'Bronze', 'Gold', 'Gold', 'Bronze', 'Bronze', 'Gold', 'Silver', 'Gold', 'Gold', 'Bronze', 'Bronze', 'Silver', 'Silver', 'Gold', 'Gold', 'Gold', 'Silver', 'Silver', 'Silver', 'Bronze', 'Gold', 'Bronze', 'Gold', 'Bronze', 'Bronze', 'Gold', 'Gold', 'Silver', 'Bronze', 'Silver', 'Silver', 'Silver', 'Bronze', 'Bronze', 'Gold', 'Silver', 'Silver', 'Bronze', 'Bronze', 'Gold', 'Gold', 'Silver', 'Silver', 'Gold', 'Silver', 'Bronze', 'Silver', 'Silver', 'Gold', 'Gold', 'Gold', 'Gold', 'Silver', 'Gold', 'Silver', 'Silver', 'Bronze', 'Silver', 'Silver', 'Gold', 'Gold', 'Bronze', 'Bronze', 'Silver', 'Gold', 'Gold', 'Bronze', 'Bronze', 'Gold', 'Gold', 'Gold', 'Silver', 'Silver', 'Bronze', 'Gold', 'Gold', 'Gold', 'Bronze', 'Silver', 'Bronze', 'Silver', 'Gold', 'Silver', 'Silver', 'Gold', 'Bronze', 'Silver', 'Bronze', 'Bronze', 'Bronze', 'Silver', 'Bronze', 'Bronze', 'Gold', 'Bronze', 'Gold', 'Gold', 'Gold', 'Gold', 'Bronze', 'Silver', 'Silver', 'Bronze', 'Gold', 'Gold', 'Gold', 'Silver', 'Gold', 'Gold', 'Gold', 'Silver', 'Bronze', 'Silver', 'Silver', 'Silver', 'Silver', 'Gold', 'Silver', 'Bronze', 'Bronze', 'Gold', 'Bronze', 'Gold', 'Bronze', 'Bronze', 'Bronze', 'Bronze', 'Silver', 'Gold', 'Silver', 'Silver', 'Gold', 'Bronze', 'Gold', 'Gold', 'Bronze', 'Gold', 'Bronze', 'Gold', 'Silver', 'Gold', 'Gold', 'Silver', 'Silver', 'Gold', 'Gold', 'Bronze', 'Silver', 'Gold', 'Silver', 'Silver', 'Silver', 'Bronze', 'Bronze', 'Bronze', 'Gold', 'Gold', 'Silver', 'Silver', 'Silver', 'Silver', 'Silver', 'Gold', 'Gold', 'Gold', 'Bronze', 'Bronze', 'Gold', 'Silver', 'Gold', 'Bronze', 'Bronze', 'Silver', 'Bronze', 'Gold', 'Gold', 'Bronze', 'Gold', 'Silver', 'Silver', 'Gold', 'Bronze', 'Silver', 'Gold', 'Gold']"
   ]
  },
  {
   "cell_type": "code",
   "execution_count": 14,
   "metadata": {},
   "outputs": [
    {
     "name": "stdout",
     "output_type": "stream",
     "text": [
      "['Silver', 'Silver', 'Bronze', 'Silver', 'Gold', ..., 'Gold', 'Bronze', 'Silver', 'Gold', 'Gold']\n",
      "Length: 2828\n",
      "Categories (3, object): ['Bronze' < 'Silver' < 'Gold']\n"
     ]
    }
   ],
   "source": [
    "# Create a categorical Series and specify the categories (let pandas know the order matters!)\n",
    "medals = pd.Categorical(medals_won, categories=[\"Bronze\", \"Silver\", \"Gold\"], ordered=True)\n",
    "print(medals)"
   ]
  },
  {
   "cell_type": "markdown",
   "metadata": {},
   "source": [
    "### Setting dtype when reading data"
   ]
  },
  {
   "cell_type": "code",
   "execution_count": 15,
   "metadata": {},
   "outputs": [
    {
     "name": "stdout",
     "output_type": "stream",
     "text": [
      "Age                 int64\n",
      "Workclass          object\n",
      "fnlgwt              int64\n",
      "Education          object\n",
      "Education Num       int64\n",
      "Marital Status     object\n",
      "Occupation         object\n",
      "Relationship       object\n",
      "Race               object\n",
      "Sex                object\n",
      "Capital Gain        int64\n",
      "Capital Loss        int64\n",
      "Hours/Week          int64\n",
      "Country            object\n",
      "Above/Below 50k    object\n",
      "dtype: object\n"
     ]
    }
   ],
   "source": [
    "# Check the dtypes\n",
    "print(adult.dtypes)"
   ]
  },
  {
   "cell_type": "code",
   "execution_count": 17,
   "metadata": {},
   "outputs": [],
   "source": [
    "# Create a dictionary with column names as keys and \"category\" as values\n",
    "adult_dtypes = {\n",
    "  \"Workclass\": 'category',\n",
    "  \"Education\": 'category',\n",
    "  \"Relationship\": 'category',\n",
    "  \"Above/Below 50k\": 'category',\n",
    "}"
   ]
  },
  {
   "cell_type": "code",
   "execution_count": 18,
   "metadata": {},
   "outputs": [
    {
     "name": "stdout",
     "output_type": "stream",
     "text": [
      "Age                   int64\n",
      "Workclass          category\n",
      "fnlgwt                int64\n",
      "Education          category\n",
      "Education Num         int64\n",
      "Marital Status       object\n",
      "Occupation           object\n",
      "Relationship       category\n",
      "Race                 object\n",
      "Sex                  object\n",
      "Capital Gain          int64\n",
      "Capital Loss          int64\n",
      "Hours/Week            int64\n",
      "Country              object\n",
      "Above/Below 50k    category\n",
      "dtype: object\n"
     ]
    }
   ],
   "source": [
    "# Read in the CSV using the dtypes parameter\n",
    "adult2 = pd.read_csv(\n",
    "  \"adult.csv\",\n",
    "  dtype=adult_dtypes\n",
    ")\n",
    "print(adult2.dtypes)"
   ]
  },
  {
   "cell_type": "markdown",
   "metadata": {},
   "source": [
    "## Grouping data by category in pandas"
   ]
  },
  {
   "cell_type": "markdown",
   "metadata": {},
   "source": [
    "### Setting up a .groupby() statement"
   ]
  },
  {
   "cell_type": "code",
   "execution_count": 23,
   "metadata": {},
   "outputs": [
    {
     "name": "stdout",
     "output_type": "stream",
     "text": [
      "Sex      Above/Below 50k\n",
      " Female   <=50K              9592\n",
      "          >50K               1179\n",
      " Male     <=50K             15128\n",
      "          >50K               6662\n",
      "dtype: int64\n",
      "                               Age         fnlgwt  Education Num  \\\n",
      "Sex     Above/Below 50k                                            \n",
      " Female  <=50K           36.210801  185999.381359       9.820475   \n",
      "         >50K            42.125530  183687.406277      11.787108   \n",
      " Male    <=50K           37.147012  193093.609268       9.452142   \n",
      "         >50K            44.625788  188769.101321      11.580606   \n",
      "\n",
      "                         Capital Gain  Capital Loss  Hours/Week  \n",
      "Sex     Above/Below 50k                                          \n",
      " Female  <=50K             121.986134     47.364470   35.916701  \n",
      "         >50K             4200.389313    173.648855   40.426633  \n",
      " Male    <=50K             165.723823     56.806782   40.693879  \n",
      "         >50K             3971.765836    198.780396   46.366106  \n"
     ]
    }
   ],
   "source": [
    "# Group the adult dataset by \"Sex\" and \"Above/Below 50k\"\n",
    "gb = adult.groupby(by=['Sex', 'Above/Below 50k'])\n",
    "\n",
    "# Print out how many rows are in each created group\n",
    "print(gb.size())\n",
    "\n",
    "# Print out the mean of each group for all columns\n",
    "print(gb.mean(numeric_only=True))"
   ]
  },
  {
   "cell_type": "markdown",
   "metadata": {},
   "source": [
    "### Using pandas functions effectively"
   ]
  },
  {
   "cell_type": "code",
   "execution_count": 24,
   "metadata": {},
   "outputs": [
    {
     "name": "stdout",
     "output_type": "stream",
     "text": [
      "Education      Above/Below 50k\n",
      " 10th           <=50K             36.574053\n",
      "                >50K              43.774194\n",
      " 11th           <=50K             33.322870\n",
      "                >50K              45.133333\n",
      " 12th           <=50K             35.035000\n",
      "                >50K              44.818182\n",
      " 1st-4th        <=50K             37.864198\n",
      "                >50K              48.833333\n",
      " 5th-6th        <=50K             38.539432\n",
      "                >50K              46.000000\n",
      " 7th-8th        <=50K             38.830033\n",
      "                >50K              47.500000\n",
      " 9th            <=50K             37.667351\n",
      "                >50K              44.851852\n",
      " Assoc-acdm     <=50K             39.264339\n",
      "                >50K              44.256604\n",
      " Assoc-voc      <=50K             40.817826\n",
      "                >50K              43.853186\n",
      " Bachelors      <=50K             40.586152\n",
      "                >50K              45.475462\n",
      " Doctorate      <=50K             45.429907\n",
      "                >50K              47.513072\n",
      " HS-grad        <=50K             39.727510\n",
      "                >50K              45.042985\n",
      " Masters        <=50K             41.223822\n",
      "                >50K              45.917623\n",
      " Preschool      <=50K             36.647059\n",
      " Prof-school    <=50K             42.816993\n",
      "                >50K              49.092199\n",
      " Some-college   <=50K             37.450203\n",
      "                >50K              44.820476\n",
      "Name: Hours/Week, dtype: float64\n"
     ]
    }
   ],
   "source": [
    "# Create a list of user-selected variables\n",
    "user_list = ['Education', 'Above/Below 50k']\n",
    "\n",
    "# Create a GroupBy object using this list\n",
    "gb = adult.groupby(by=user_list)\n",
    "\n",
    "# Find the mean for the variable \"Hours/Week\" for each group - Be efficient!\n",
    "print(gb['Hours/Week'].mean())"
   ]
  }
 ],
 "metadata": {
  "kernelspec": {
   "display_name": "ds1",
   "language": "python",
   "name": "python3"
  },
  "language_info": {
   "codemirror_mode": {
    "name": "ipython",
    "version": 3
   },
   "file_extension": ".py",
   "mimetype": "text/x-python",
   "name": "python",
   "nbconvert_exporter": "python",
   "pygments_lexer": "ipython3",
   "version": "3.11.5"
  }
 },
 "nbformat": 4,
 "nbformat_minor": 2
}
