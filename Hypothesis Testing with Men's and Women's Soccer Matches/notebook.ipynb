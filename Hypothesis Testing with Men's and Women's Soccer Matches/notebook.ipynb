{
 "cells": [
  {
   "cell_type": "markdown",
   "id": "3ed0edb2-696b-49ab-9db0-681defcce695",
   "metadata": {},
   "source": [
    "![A soccer pitch for an international match.](soccer-pitch.jpg)\n",
    "\n",
    "You're working as a sports journalist at a major online sports media company, specializing in soccer analysis and reporting. You've been watching both men's and women's international soccer matches for a number of years, and your gut instinct tells you that more goals are scored in women's international football matches than men's. This would make an interesting investigative article that your subscribers are bound to love, but you'll need to perform a valid statistical hypothesis test to be sure!\n",
    "\n",
    "While scoping this project, you acknowledge that the sport has changed a lot over the years, and performances likely vary a lot depending on the tournament, so you decide to limit the data used in the analysis to only official `FIFA World Cup` matches (not including qualifiers) since `2002-01-01`.\n",
    "\n",
    "You create two datasets containing the results of every official men's and women's international football match since the 19th century, which you scraped from a reliable online source. This data is stored in two CSV files: `women_results.csv` and `men_results.csv`.\n",
    "\n",
    "The question you are trying to determine the answer to is:\n",
    "\n",
    "> Are more goals scored in women's international soccer matches than men's?\n",
    "\n",
    "You assume a **10% significance level**, and use the following null and alternative hypotheses:\n",
    "\n",
    "$H_0$ : The mean number of goals scored in women's international soccer matches is the same as men's.\n",
    "\n",
    "$H_A$ : The mean number of goals scored in women's international soccer matches is greater than men's."
   ]
  },
  {
   "cell_type": "code",
   "execution_count": 44,
   "id": "84a3c4c8-534b-4d1a-9919-17e05208b2ca",
   "metadata": {},
   "outputs": [],
   "source": [
    "# Start your code here!\n",
    "import pandas as pd\n",
    "import seaborn as sns\n",
    "import matplotlib.pyplot as plt\n",
    "\n",
    "from scipy.stats import ttest_ind\n",
    "import pingouin"
   ]
  },
  {
   "cell_type": "code",
   "execution_count": 5,
   "id": "3d42060f",
   "metadata": {},
   "outputs": [],
   "source": [
    "# loading data\n",
    "women = pd.read_csv('women_results.csv', index_col=0)\n",
    "men = pd.read_csv('men_results.csv', index_col=0)"
   ]
  },
  {
   "cell_type": "code",
   "execution_count": 6,
   "id": "65f09ca5",
   "metadata": {},
   "outputs": [
    {
     "data": {
      "text/html": [
       "<div>\n",
       "<style scoped>\n",
       "    .dataframe tbody tr th:only-of-type {\n",
       "        vertical-align: middle;\n",
       "    }\n",
       "\n",
       "    .dataframe tbody tr th {\n",
       "        vertical-align: top;\n",
       "    }\n",
       "\n",
       "    .dataframe thead th {\n",
       "        text-align: right;\n",
       "    }\n",
       "</style>\n",
       "<table border=\"1\" class=\"dataframe\">\n",
       "  <thead>\n",
       "    <tr style=\"text-align: right;\">\n",
       "      <th></th>\n",
       "      <th>date</th>\n",
       "      <th>home_team</th>\n",
       "      <th>away_team</th>\n",
       "      <th>home_score</th>\n",
       "      <th>away_score</th>\n",
       "      <th>tournament</th>\n",
       "    </tr>\n",
       "  </thead>\n",
       "  <tbody>\n",
       "    <tr>\n",
       "      <th>12629</th>\n",
       "      <td>1982-08-09</td>\n",
       "      <td>Malaysia</td>\n",
       "      <td>Pakistan</td>\n",
       "      <td>4</td>\n",
       "      <td>1</td>\n",
       "      <td>Friendly</td>\n",
       "    </tr>\n",
       "    <tr>\n",
       "      <th>23729</th>\n",
       "      <td>2000-10-15</td>\n",
       "      <td>Lebanon</td>\n",
       "      <td>Iraq</td>\n",
       "      <td>2</td>\n",
       "      <td>2</td>\n",
       "      <td>AFC Asian Cup</td>\n",
       "    </tr>\n",
       "    <tr>\n",
       "      <th>26098</th>\n",
       "      <td>2003-07-04</td>\n",
       "      <td>Guernsey</td>\n",
       "      <td>Isle of Man</td>\n",
       "      <td>3</td>\n",
       "      <td>1</td>\n",
       "      <td>Island Games</td>\n",
       "    </tr>\n",
       "    <tr>\n",
       "      <th>1662</th>\n",
       "      <td>1934-03-25</td>\n",
       "      <td>Bulgaria</td>\n",
       "      <td>Hungary</td>\n",
       "      <td>1</td>\n",
       "      <td>4</td>\n",
       "      <td>FIFA World Cup qualification</td>\n",
       "    </tr>\n",
       "    <tr>\n",
       "      <th>41885</th>\n",
       "      <td>2019-11-14</td>\n",
       "      <td>Qatar</td>\n",
       "      <td>Singapore</td>\n",
       "      <td>2</td>\n",
       "      <td>0</td>\n",
       "      <td>Friendly</td>\n",
       "    </tr>\n",
       "    <tr>\n",
       "      <th>373</th>\n",
       "      <td>1913-08-31</td>\n",
       "      <td>Argentina</td>\n",
       "      <td>Uruguay</td>\n",
       "      <td>2</td>\n",
       "      <td>0</td>\n",
       "      <td>Copa Premio Honor Argentino</td>\n",
       "    </tr>\n",
       "    <tr>\n",
       "      <th>41655</th>\n",
       "      <td>2019-09-22</td>\n",
       "      <td>Zimbabwe</td>\n",
       "      <td>Lesotho</td>\n",
       "      <td>3</td>\n",
       "      <td>1</td>\n",
       "      <td>African Nations Championship qualification</td>\n",
       "    </tr>\n",
       "    <tr>\n",
       "      <th>11533</th>\n",
       "      <td>1980-05-31</td>\n",
       "      <td>Australia</td>\n",
       "      <td>England</td>\n",
       "      <td>1</td>\n",
       "      <td>2</td>\n",
       "      <td>Friendly</td>\n",
       "    </tr>\n",
       "    <tr>\n",
       "      <th>30898</th>\n",
       "      <td>2008-08-20</td>\n",
       "      <td>Canada</td>\n",
       "      <td>Jamaica</td>\n",
       "      <td>1</td>\n",
       "      <td>1</td>\n",
       "      <td>FIFA World Cup qualification</td>\n",
       "    </tr>\n",
       "    <tr>\n",
       "      <th>13111</th>\n",
       "      <td>1983-10-22</td>\n",
       "      <td>Tanzania</td>\n",
       "      <td>Malawi</td>\n",
       "      <td>1</td>\n",
       "      <td>1</td>\n",
       "      <td>Friendly</td>\n",
       "    </tr>\n",
       "  </tbody>\n",
       "</table>\n",
       "</div>"
      ],
      "text/plain": [
       "             date  home_team    away_team  home_score  away_score  \\\n",
       "12629  1982-08-09   Malaysia     Pakistan           4           1   \n",
       "23729  2000-10-15    Lebanon         Iraq           2           2   \n",
       "26098  2003-07-04   Guernsey  Isle of Man           3           1   \n",
       "1662   1934-03-25   Bulgaria      Hungary           1           4   \n",
       "41885  2019-11-14      Qatar    Singapore           2           0   \n",
       "373    1913-08-31  Argentina      Uruguay           2           0   \n",
       "41655  2019-09-22   Zimbabwe      Lesotho           3           1   \n",
       "11533  1980-05-31  Australia      England           1           2   \n",
       "30898  2008-08-20     Canada      Jamaica           1           1   \n",
       "13111  1983-10-22   Tanzania       Malawi           1           1   \n",
       "\n",
       "                                       tournament  \n",
       "12629                                    Friendly  \n",
       "23729                               AFC Asian Cup  \n",
       "26098                                Island Games  \n",
       "1662                 FIFA World Cup qualification  \n",
       "41885                                    Friendly  \n",
       "373                   Copa Premio Honor Argentino  \n",
       "41655  African Nations Championship qualification  \n",
       "11533                                    Friendly  \n",
       "30898                FIFA World Cup qualification  \n",
       "13111                                    Friendly  "
      ]
     },
     "execution_count": 6,
     "metadata": {},
     "output_type": "execute_result"
    }
   ],
   "source": [
    "# explore men data\n",
    "men.sample(10)"
   ]
  },
  {
   "cell_type": "code",
   "execution_count": 7,
   "id": "a112572c",
   "metadata": {},
   "outputs": [
    {
     "data": {
      "text/html": [
       "<div>\n",
       "<style scoped>\n",
       "    .dataframe tbody tr th:only-of-type {\n",
       "        vertical-align: middle;\n",
       "    }\n",
       "\n",
       "    .dataframe tbody tr th {\n",
       "        vertical-align: top;\n",
       "    }\n",
       "\n",
       "    .dataframe thead th {\n",
       "        text-align: right;\n",
       "    }\n",
       "</style>\n",
       "<table border=\"1\" class=\"dataframe\">\n",
       "  <thead>\n",
       "    <tr style=\"text-align: right;\">\n",
       "      <th></th>\n",
       "      <th>date</th>\n",
       "      <th>home_team</th>\n",
       "      <th>away_team</th>\n",
       "      <th>home_score</th>\n",
       "      <th>away_score</th>\n",
       "      <th>tournament</th>\n",
       "    </tr>\n",
       "  </thead>\n",
       "  <tbody>\n",
       "    <tr>\n",
       "      <th>812</th>\n",
       "      <td>1996-05-25</td>\n",
       "      <td>France</td>\n",
       "      <td>Russia</td>\n",
       "      <td>0</td>\n",
       "      <td>1</td>\n",
       "      <td>UEFA Euro qualification</td>\n",
       "    </tr>\n",
       "    <tr>\n",
       "      <th>3047</th>\n",
       "      <td>2012-09-19</td>\n",
       "      <td>Armenia</td>\n",
       "      <td>Czech Republic</td>\n",
       "      <td>0</td>\n",
       "      <td>2</td>\n",
       "      <td>UEFA Euro qualification</td>\n",
       "    </tr>\n",
       "    <tr>\n",
       "      <th>1979</th>\n",
       "      <td>2006-09-06</td>\n",
       "      <td>Jamaica</td>\n",
       "      <td>Bermuda</td>\n",
       "      <td>7</td>\n",
       "      <td>0</td>\n",
       "      <td>CONCACAF Gold Cup</td>\n",
       "    </tr>\n",
       "    <tr>\n",
       "      <th>766</th>\n",
       "      <td>1996-03-11</td>\n",
       "      <td>Portugal</td>\n",
       "      <td>Russia</td>\n",
       "      <td>1</td>\n",
       "      <td>2</td>\n",
       "      <td>Algarve Cup</td>\n",
       "    </tr>\n",
       "    <tr>\n",
       "      <th>3346</th>\n",
       "      <td>2014-10-27</td>\n",
       "      <td>Tonga</td>\n",
       "      <td>Cook Islands</td>\n",
       "      <td>1</td>\n",
       "      <td>1</td>\n",
       "      <td>OFC Championship</td>\n",
       "    </tr>\n",
       "    <tr>\n",
       "      <th>505</th>\n",
       "      <td>1993-08-08</td>\n",
       "      <td>United States</td>\n",
       "      <td>Canada</td>\n",
       "      <td>1</td>\n",
       "      <td>0</td>\n",
       "      <td>CONCACAF Invitational Tournament</td>\n",
       "    </tr>\n",
       "    <tr>\n",
       "      <th>233</th>\n",
       "      <td>1987-11-15</td>\n",
       "      <td>Germany</td>\n",
       "      <td>Italy</td>\n",
       "      <td>3</td>\n",
       "      <td>0</td>\n",
       "      <td>UEFA Euro qualification</td>\n",
       "    </tr>\n",
       "    <tr>\n",
       "      <th>3718</th>\n",
       "      <td>2016-08-09</td>\n",
       "      <td>Germany</td>\n",
       "      <td>Canada</td>\n",
       "      <td>1</td>\n",
       "      <td>2</td>\n",
       "      <td>Olympic Games</td>\n",
       "    </tr>\n",
       "    <tr>\n",
       "      <th>3350</th>\n",
       "      <td>2014-12-11</td>\n",
       "      <td>China PR</td>\n",
       "      <td>United States</td>\n",
       "      <td>1</td>\n",
       "      <td>1</td>\n",
       "      <td>Friendly</td>\n",
       "    </tr>\n",
       "    <tr>\n",
       "      <th>1739</th>\n",
       "      <td>2004-07-25</td>\n",
       "      <td>Cameroon</td>\n",
       "      <td>Congo</td>\n",
       "      <td>0</td>\n",
       "      <td>0</td>\n",
       "      <td>African Championship qualification</td>\n",
       "    </tr>\n",
       "  </tbody>\n",
       "</table>\n",
       "</div>"
      ],
      "text/plain": [
       "            date      home_team       away_team  home_score  away_score  \\\n",
       "812   1996-05-25         France          Russia           0           1   \n",
       "3047  2012-09-19        Armenia  Czech Republic           0           2   \n",
       "1979  2006-09-06        Jamaica         Bermuda           7           0   \n",
       "766   1996-03-11       Portugal          Russia           1           2   \n",
       "3346  2014-10-27          Tonga    Cook Islands           1           1   \n",
       "505   1993-08-08  United States          Canada           1           0   \n",
       "233   1987-11-15        Germany           Italy           3           0   \n",
       "3718  2016-08-09        Germany          Canada           1           2   \n",
       "3350  2014-12-11       China PR   United States           1           1   \n",
       "1739  2004-07-25       Cameroon           Congo           0           0   \n",
       "\n",
       "                              tournament  \n",
       "812              UEFA Euro qualification  \n",
       "3047             UEFA Euro qualification  \n",
       "1979                   CONCACAF Gold Cup  \n",
       "766                          Algarve Cup  \n",
       "3346                    OFC Championship  \n",
       "505     CONCACAF Invitational Tournament  \n",
       "233              UEFA Euro qualification  \n",
       "3718                       Olympic Games  \n",
       "3350                            Friendly  \n",
       "1739  African Championship qualification  "
      ]
     },
     "execution_count": 7,
     "metadata": {},
     "output_type": "execute_result"
    }
   ],
   "source": [
    "# explore men data\n",
    "women.sample(10)"
   ]
  },
  {
   "cell_type": "code",
   "execution_count": 20,
   "id": "1bf55cd5",
   "metadata": {},
   "outputs": [
    {
     "data": {
      "text/plain": [
       "tournament\n",
       "FIFA World Cup                  284\n",
       "FIFA World Cup qualification    172\n",
       "Name: count, dtype: int64"
      ]
     },
     "execution_count": 20,
     "metadata": {},
     "output_type": "execute_result"
    }
   ],
   "source": [
    "# what kind of tournament do we have?\n",
    "women['tournament'][women['tournament'].str.contains('fifa', case=False)].value_counts()"
   ]
  },
  {
   "cell_type": "code",
   "execution_count": 19,
   "id": "2da51aee",
   "metadata": {},
   "outputs": [
    {
     "data": {
      "text/plain": [
       "tournament\n",
       "FIFA World Cup qualification    7878\n",
       "FIFA World Cup                   964\n",
       "FIFA 75th Anniversary Cup          1\n",
       "Name: count, dtype: int64"
      ]
     },
     "execution_count": 19,
     "metadata": {},
     "output_type": "execute_result"
    }
   ],
   "source": [
    "men['tournament'][men['tournament'].str.contains('fifa', case=False)].value_counts()"
   ]
  },
  {
   "cell_type": "code",
   "execution_count": 32,
   "id": "2dd63bfa",
   "metadata": {},
   "outputs": [],
   "source": [
    "# Selectiing relevant data\n",
    "women_clean = women[(women['tournament'] == 'FIFA World Cup') & (women['date'] >= '2002-01-01')].copy()\n",
    "men_clean = men[(men['tournament'] == 'FIFA World Cup') & (men['date'] >= '2002-01-01')].copy()\n",
    "\n",
    "\n",
    "\n",
    "# joining data\n",
    "women_clean['type'] = 'F'\n",
    "men_clean['type'] = 'M'\n",
    "data = pd.concat([women_clean, men_clean])\n",
    "\n",
    "data['total'] = data['home_score'] + data['away_score']\n"
   ]
  },
  {
   "cell_type": "code",
   "execution_count": 33,
   "id": "f447c40e",
   "metadata": {},
   "outputs": [
    {
     "data": {
      "text/plain": [
       "type\n",
       "F    2.980000\n",
       "M    2.513021\n",
       "Name: total, dtype: float64"
      ]
     },
     "execution_count": 33,
     "metadata": {},
     "output_type": "execute_result"
    }
   ],
   "source": [
    "data.groupby('type')['total'].mean()"
   ]
  },
  {
   "cell_type": "code",
   "execution_count": 39,
   "id": "1aaf16a0",
   "metadata": {},
   "outputs": [
    {
     "data": {
      "image/png": "[encoded data removed]",
      "text/plain": [
       "<Figure size 640x480 with 1 Axes>"
      ]
     },
     "metadata": {},
     "output_type": "display_data"
    }
   ],
   "source": [
    "sns.boxplot(\n",
    "    data=data,\n",
    "    hue='type',\n",
    "    y='total',\n",
    "    palette='pastel'\n",
    ")\n",
    "\n",
    "plt.title('Female vs Male total score distribution')\n",
    "\n",
    "plt.show()"
   ]
  },
  {
   "cell_type": "code",
   "execution_count": 43,
   "id": "701442a8",
   "metadata": {},
   "outputs": [
    {
     "data": {
      "text/plain": [
       "<Axes: xlabel='total', ylabel='Count'>"
      ]
     },
     "execution_count": 43,
     "metadata": {},
     "output_type": "execute_result"
    },
    {
     "data": {
      "image/png": "[encoded data removed]",
      "text/plain": [
       "<Figure size 640x480 with 1 Axes>"
      ]
     },
     "metadata": {},
     "output_type": "display_data"
    }
   ],
   "source": [
    "sns.histplot(\n",
    "    data=data,\n",
    "    x='total',\n",
    "    hue='type'\n",
    ")"
   ]
  },
  {
   "cell_type": "code",
   "execution_count": 46,
   "id": "e01e8ea4",
   "metadata": {},
   "outputs": [],
   "source": [
    "stats = pingouin.mwu(\n",
    "    x=data[data['type'] == 'F']['total'],\n",
    "    y=data[data['type'] == 'M']['total'],\n",
    "    alternative='greater'\n",
    ")"
   ]
  },
  {
   "cell_type": "code",
   "execution_count": 50,
   "id": "b2dc33f8",
   "metadata": {},
   "outputs": [
    {
     "name": "stdout",
     "output_type": "stream",
     "text": [
      "0.005106609825443641\n"
     ]
    }
   ],
   "source": [
    "p_val = stats['p-val'].iloc[0]\n",
    "print(p_val)"
   ]
  },
  {
   "cell_type": "code",
   "execution_count": 54,
   "id": "105614f4",
   "metadata": {},
   "outputs": [
    {
     "name": "stdout",
     "output_type": "stream",
     "text": [
      "{'p_val': 0.005106609825443641, 'result': 'reject'}\n"
     ]
    }
   ],
   "source": [
    "alpha = 0.1\n",
    "if p_val < alpha:\n",
    "    result = \"reject\"\n",
    "else:\n",
    "    result = \"fail to reject\"\n",
    "\n",
    "result_dict = {\"p_val\": p_val, \"result\": result}\n",
    "print(result_dict) "
   ]
  }
 ],
 "metadata": {
  "colab": {
   "name": "Welcome to DataCamp Workspaces.ipynb",
   "provenance": []
  },
  "kernelspec": {
   "display_name": "ds2",
   "language": "python",
   "name": "python3"
  },
  "language_info": {
   "codemirror_mode": {
    "name": "ipython",
    "version": 3
   },
   "file_extension": ".py",
   "mimetype": "text/x-python",
   "name": "python",
   "nbconvert_exporter": "python",
   "pygments_lexer": "ipython3",
   "version": "3.12.8"
  }
 },
 "nbformat": 4,
 "nbformat_minor": 5
}
