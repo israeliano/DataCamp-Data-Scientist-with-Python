{
 "cells": [
  {
   "cell_type": "markdown",
   "metadata": {},
   "source": [
    "# Experimental Design Techniques"
   ]
  },
  {
   "cell_type": "markdown",
   "metadata": {},
   "source": [
    "## Imports"
   ]
  },
  {
   "cell_type": "code",
   "execution_count": 17,
   "metadata": {},
   "outputs": [],
   "source": [
    "import pandas as pd\n",
    "import numpy as np\n",
    "import seaborn as sns\n",
    "import matplotlib.pyplot as plt\n",
    "from scipy.stats import f_oneway\n",
    "from statsmodels.formula.api import ols"
   ]
  },
  {
   "cell_type": "code",
   "execution_count": 2,
   "metadata": {},
   "outputs": [
    {
     "data": {
      "text/html": [
       "<div>\n",
       "<style scoped>\n",
       "    .dataframe tbody tr th:only-of-type {\n",
       "        vertical-align: middle;\n",
       "    }\n",
       "\n",
       "    .dataframe tbody tr th {\n",
       "        vertical-align: top;\n",
       "    }\n",
       "\n",
       "    .dataframe thead th {\n",
       "        text-align: right;\n",
       "    }\n",
       "</style>\n",
       "<table border=\"1\" class=\"dataframe\">\n",
       "  <thead>\n",
       "    <tr style=\"text-align: right;\">\n",
       "      <th></th>\n",
       "      <th>Messaging_Style</th>\n",
       "      <th>Time_of_Day</th>\n",
       "      <th>Click_Through_Rate</th>\n",
       "      <th>Conversions</th>\n",
       "    </tr>\n",
       "  </thead>\n",
       "  <tbody>\n",
       "    <tr>\n",
       "      <th>177</th>\n",
       "      <td>Casual</td>\n",
       "      <td>Evening</td>\n",
       "      <td>0.467608</td>\n",
       "      <td>472</td>\n",
       "    </tr>\n",
       "    <tr>\n",
       "      <th>212</th>\n",
       "      <td>Casual</td>\n",
       "      <td>Evening</td>\n",
       "      <td>0.401607</td>\n",
       "      <td>43</td>\n",
       "    </tr>\n",
       "  </tbody>\n",
       "</table>\n",
       "</div>"
      ],
      "text/plain": [
       "    Messaging_Style Time_of_Day  Click_Through_Rate  Conversions\n",
       "177          Casual     Evening            0.467608          472\n",
       "212          Casual     Evening            0.401607           43"
      ]
     },
     "execution_count": 2,
     "metadata": {},
     "output_type": "execute_result"
    }
   ],
   "source": [
    "marketing_data = pd.read_feather('marketing_data.feather')\n",
    "marketing_data.sample(2)"
   ]
  },
  {
   "cell_type": "code",
   "execution_count": 9,
   "metadata": {},
   "outputs": [
    {
     "data": {
      "text/html": [
       "<div>\n",
       "<style scoped>\n",
       "    .dataframe tbody tr th:only-of-type {\n",
       "        vertical-align: middle;\n",
       "    }\n",
       "\n",
       "    .dataframe tbody tr th {\n",
       "        vertical-align: top;\n",
       "    }\n",
       "\n",
       "    .dataframe thead th {\n",
       "        text-align: right;\n",
       "    }\n",
       "</style>\n",
       "<table border=\"1\" class=\"dataframe\">\n",
       "  <thead>\n",
       "    <tr style=\"text-align: right;\">\n",
       "      <th></th>\n",
       "      <th>subject_id</th>\n",
       "      <th>productivity_score</th>\n",
       "      <th>block</th>\n",
       "    </tr>\n",
       "  </thead>\n",
       "  <tbody>\n",
       "    <tr>\n",
       "      <th>21</th>\n",
       "      <td>22</td>\n",
       "      <td>5.0</td>\n",
       "      <td>1.0</td>\n",
       "    </tr>\n",
       "    <tr>\n",
       "      <th>534</th>\n",
       "      <td>535</td>\n",
       "      <td>23.3</td>\n",
       "      <td>3.0</td>\n",
       "    </tr>\n",
       "  </tbody>\n",
       "</table>\n",
       "</div>"
      ],
      "text/plain": [
       "     subject_id  productivity_score  block\n",
       "21           22                 5.0    1.0\n",
       "534         535                23.3    3.0"
      ]
     },
     "execution_count": 9,
     "metadata": {},
     "output_type": "execute_result"
    }
   ],
   "source": [
    "productivity = pd.read_csv('productivity.csv')\n",
    "productivity.sample(2)"
   ]
  },
  {
   "cell_type": "code",
   "execution_count": 18,
   "metadata": {},
   "outputs": [
    {
     "data": {
      "text/html": [
       "<div>\n",
       "<style scoped>\n",
       "    .dataframe tbody tr th:only-of-type {\n",
       "        vertical-align: middle;\n",
       "    }\n",
       "\n",
       "    .dataframe tbody tr th {\n",
       "        vertical-align: top;\n",
       "    }\n",
       "\n",
       "    .dataframe thead th {\n",
       "        text-align: right;\n",
       "    }\n",
       "</style>\n",
       "<table border=\"1\" class=\"dataframe\">\n",
       "  <thead>\n",
       "    <tr style=\"text-align: right;\">\n",
       "      <th></th>\n",
       "      <th>Chick</th>\n",
       "      <th>Diet</th>\n",
       "      <th>weight</th>\n",
       "    </tr>\n",
       "  </thead>\n",
       "  <tbody>\n",
       "    <tr>\n",
       "      <th>97</th>\n",
       "      <td>9</td>\n",
       "      <td>1</td>\n",
       "      <td>59</td>\n",
       "    </tr>\n",
       "    <tr>\n",
       "      <th>165</th>\n",
       "      <td>14</td>\n",
       "      <td>1</td>\n",
       "      <td>259</td>\n",
       "    </tr>\n",
       "  </tbody>\n",
       "</table>\n",
       "</div>"
      ],
      "text/plain": [
       "     Chick  Diet  weight\n",
       "97       9     1      59\n",
       "165     14     1     259"
      ]
     },
     "execution_count": 18,
     "metadata": {},
     "output_type": "execute_result"
    }
   ],
   "source": [
    "exp_chick_data = pd.read_csv('exp_chick_data.csv')\n",
    "exp_chick_data.sample(2)"
   ]
  },
  {
   "cell_type": "code",
   "execution_count": 19,
   "metadata": {},
   "outputs": [
    {
     "data": {
      "text/html": [
       "<div>\n",
       "<style scoped>\n",
       "    .dataframe tbody tr th:only-of-type {\n",
       "        vertical-align: middle;\n",
       "    }\n",
       "\n",
       "    .dataframe tbody tr th {\n",
       "        vertical-align: top;\n",
       "    }\n",
       "\n",
       "    .dataframe thead th {\n",
       "        text-align: right;\n",
       "    }\n",
       "</style>\n",
       "<table border=\"1\" class=\"dataframe\">\n",
       "  <thead>\n",
       "    <tr style=\"text-align: right;\">\n",
       "      <th></th>\n",
       "      <th>Chick</th>\n",
       "      <th>Time</th>\n",
       "    </tr>\n",
       "  </thead>\n",
       "  <tbody>\n",
       "    <tr>\n",
       "      <th>114</th>\n",
       "      <td>10</td>\n",
       "      <td>14</td>\n",
       "    </tr>\n",
       "    <tr>\n",
       "      <th>228</th>\n",
       "      <td>21</td>\n",
       "      <td>16</td>\n",
       "    </tr>\n",
       "  </tbody>\n",
       "</table>\n",
       "</div>"
      ],
      "text/plain": [
       "     Chick  Time\n",
       "114     10    14\n",
       "228     21    16"
      ]
     },
     "execution_count": 19,
     "metadata": {},
     "output_type": "execute_result"
    }
   ],
   "source": [
    "cov_chick_data = pd.read_csv('cov_chick_data.csv')\n",
    "cov_chick_data.sample(2)"
   ]
  },
  {
   "cell_type": "markdown",
   "metadata": {},
   "source": [
    "## Factorial designs: principles and applications"
   ]
  },
  {
   "cell_type": "markdown",
   "metadata": {},
   "source": [
    "### Understanding marketing campaign effectiveness"
   ]
  },
  {
   "cell_type": "code",
   "execution_count": 4,
   "metadata": {},
   "outputs": [
    {
     "name": "stdout",
     "output_type": "stream",
     "text": [
      "Time_of_Day         Evening     Morning\n",
      "Messaging_Style                        \n",
      "Casual           402.329004  401.133891\n",
      "Formal           432.913043  411.096000\n"
     ]
    }
   ],
   "source": [
    "# Create a pivot table for marketing campaign data\n",
    "marketing_pivot = marketing_data.pivot_table(\n",
    "  values='Conversions', \n",
    "  index='Messaging_Style', \n",
    "  columns='Time_of_Day', \n",
    "  aggfunc='mean')\n",
    "\n",
    "# View the pivoted results\n",
    "print(marketing_pivot)"
   ]
  },
  {
   "cell_type": "markdown",
   "metadata": {},
   "source": [
    "### Heatmap of campaign interactions"
   ]
  },
  {
   "cell_type": "code",
   "execution_count": 8,
   "metadata": {},
   "outputs": [
    {
     "data": {
      "image/png": "[encoded data removed]",
      "text/plain": [
       "<Figure size 640x480 with 2 Axes>"
      ]
     },
     "metadata": {},
     "output_type": "display_data"
    }
   ],
   "source": [
    "# Visualize interactions with a heatmap\n",
    "sns.heatmap(marketing_pivot, \n",
    "         annot=True, \n",
    "         cmap='coolwarm',\n",
    "         fmt='g')\n",
    "\n",
    "plt.show()"
   ]
  },
  {
   "cell_type": "markdown",
   "metadata": {},
   "source": [
    "## Randomized block design: controlling variance"
   ]
  },
  {
   "cell_type": "markdown",
   "metadata": {},
   "source": [
    "### Implementing a randomized block design"
   ]
  },
  {
   "cell_type": "code",
   "execution_count": 13,
   "metadata": {},
   "outputs": [
    {
     "name": "stderr",
     "output_type": "stream",
     "text": [
      "/tmp/ipykernel_444534/4056560905.py:2: DeprecationWarning: DataFrameGroupBy.apply operated on the grouping columns. This behavior is deprecated, and in a future version of pandas the grouping columns will be excluded from the operation. Either pass `include_groups=False` to exclude the groupings or explicitly select the grouping columns after groupby to silence this warning.\n",
      "  prod_df = productivity.groupby('block').apply(\n"
     ]
    }
   ],
   "source": [
    "# Randomly assign workers to blocks\n",
    "prod_df = productivity.groupby('block').apply(\n",
    "  lambda x: x.sample(frac=1)\n",
    ")\n",
    "\n",
    "# Reset the index\n",
    "prod_df = prod_df.reset_index(drop=True)\n",
    "\n",
    "# Assign treatment randomly\n",
    "prod_df['Treatment'] = np.random.choice(\n",
    "  ['Bonus', 'Profit Sharing', 'Work from Home'],\n",
    "  size=len(prod_df)\n",
    ")"
   ]
  },
  {
   "cell_type": "markdown",
   "metadata": {},
   "source": [
    "### Visualizing productivity within blocks by incentive"
   ]
  },
  {
   "cell_type": "code",
   "execution_count": 14,
   "metadata": {},
   "outputs": [
    {
     "data": {
      "image/png": "[encoded data removed]",
      "text/plain": [
       "<Figure size 640x480 with 1 Axes>"
      ]
     },
     "metadata": {},
     "output_type": "display_data"
    }
   ],
   "source": [
    "# Make a plot showing how positivity_score varies within blocks\n",
    "sns.boxplot(x='block', \n",
    "            y='productivity_score', \n",
    "            hue='Treatment', \n",
    "            data=prod_df)\n",
    "\n",
    "plt.show()"
   ]
  },
  {
   "cell_type": "markdown",
   "metadata": {},
   "source": [
    "### ANOVA within blocks of employees"
   ]
  },
  {
   "cell_type": "code",
   "execution_count": 16,
   "metadata": {},
   "outputs": [
    {
     "name": "stdout",
     "output_type": "stream",
     "text": [
      "block\n",
      "1.0    (0.48576336258089725, 0.6155784336682482)\n",
      "2.0      (1.166039645555872, 0.3125660891348098)\n",
      "3.0     (0.3973427435549923, 0.6723445450667649)\n",
      "dtype: object\n"
     ]
    },
    {
     "name": "stderr",
     "output_type": "stream",
     "text": [
      "/tmp/ipykernel_444534/2885018250.py:2: DeprecationWarning: DataFrameGroupBy.apply operated on the grouping columns. This behavior is deprecated, and in a future version of pandas the grouping columns will be excluded from the operation. Either pass `include_groups=False` to exclude the groupings or explicitly select the grouping columns after groupby to silence this warning.\n",
      "  within_block_anova = prod_df.groupby('block').apply(\n"
     ]
    }
   ],
   "source": [
    "# Perform the within blocks ANOVA, first grouping by block\n",
    "within_block_anova = prod_df.groupby('block').apply(\n",
    "  # Set function\n",
    "  lambda x: f_oneway(\n",
    "    # Filter Treatment values based on outcome\n",
    "    x[x['Treatment'] == 'Bonus']['productivity_score'], \n",
    "    x[x['Treatment'] == 'Profit Sharing']['productivity_score'],\n",
    "    x[x['Treatment'] == 'Work from Home']['productivity_score'])\n",
    ")\n",
    "print(within_block_anova)"
   ]
  },
  {
   "cell_type": "markdown",
   "metadata": {},
   "source": [
    "## Covariate adjustment in experimental design"
   ]
  },
  {
   "cell_type": "markdown",
   "metadata": {},
   "source": [
    "### Covariate adjustment with chick growth"
   ]
  },
  {
   "cell_type": "code",
   "execution_count": 20,
   "metadata": {},
   "outputs": [
    {
     "name": "stdout",
     "output_type": "stream",
     "text": [
      "      Chick  Diet  weight  Time\n",
      "0         1     1      42     0\n",
      "1         1     1      42     2\n",
      "2         1     1      42     4\n",
      "3         1     1      42     6\n",
      "4         1     1      42     8\n",
      "...     ...   ...     ...   ...\n",
      "6813     50     4     264    14\n",
      "6814     50     4     264    16\n",
      "6815     50     4     264    18\n",
      "6816     50     4     264    20\n",
      "6817     50     4     264    21\n",
      "\n",
      "[6818 rows x 4 columns]\n"
     ]
    }
   ],
   "source": [
    "# Join experimental and covariate data\n",
    "merged_chick_data = pd.merge(exp_chick_data, \n",
    "                            cov_chick_data, on='Chick')\n",
    "\n",
    "# Print the merged data\n",
    "print(merged_chick_data)"
   ]
  },
  {
   "cell_type": "code",
   "execution_count": 21,
   "metadata": {},
   "outputs": [
    {
     "name": "stdout",
     "output_type": "stream",
     "text": [
      "                            OLS Regression Results                            \n",
      "==============================================================================\n",
      "Dep. Variable:                 weight   R-squared:                       0.040\n",
      "Model:                            OLS   Adj. R-squared:                  0.039\n",
      "Method:                 Least Squares   F-statistic:                     140.9\n",
      "Date:                Fri, 28 Mar 2025   Prob (F-statistic):           1.12e-60\n",
      "Time:                        20:52:14   Log-Likelihood:                -38608.\n",
      "No. Observations:                6818   AIC:                         7.722e+04\n",
      "Df Residuals:                    6815   BIC:                         7.724e+04\n",
      "Df Model:                           2                                         \n",
      "Covariance Type:            nonrobust                                         \n",
      "==============================================================================\n",
      "                 coef    std err          t      P>|t|      [0.025      0.975]\n",
      "------------------------------------------------------------------------------\n",
      "Intercept     94.0678      2.275     41.342      0.000      89.607      98.528\n",
      "Diet          12.2022      0.729     16.747      0.000      10.774      13.631\n",
      "Time           0.1238      0.125      0.990      0.322      -0.121       0.369\n",
      "==============================================================================\n",
      "Omnibus:                      694.766   Durbin-Watson:                   0.055\n",
      "Prob(Omnibus):                  0.000   Jarque-Bera (JB):              922.241\n",
      "Skew:                           0.886   Prob(JB):                    5.47e-201\n",
      "Kurtosis:                       3.326   Cond. No.                         35.8\n",
      "==============================================================================\n",
      "\n",
      "Notes:\n",
      "[1] Standard Errors assume that the covariance matrix of the errors is correctly specified.\n"
     ]
    }
   ],
   "source": [
    "# Join experimental and covariate data\n",
    "merged_chick_data = pd.merge(exp_chick_data, \n",
    "                             cov_chick_data, on='Chick')\n",
    "\n",
    "# Perform ANCOVA with Diet and Time as predictors\n",
    "model = ols('weight ~ Diet + Time', data=merged_chick_data).fit()\n",
    "\n",
    "# Print a summary of the model\n",
    "print(model.summary())"
   ]
  },
  {
   "cell_type": "code",
   "execution_count": 22,
   "metadata": {},
   "outputs": [
    {
     "name": "stdout",
     "output_type": "stream",
     "text": [
      "                            OLS Regression Results                            \n",
      "==============================================================================\n",
      "Dep. Variable:                 weight   R-squared:                       0.040\n",
      "Model:                            OLS   Adj. R-squared:                  0.039\n",
      "Method:                 Least Squares   F-statistic:                     140.9\n",
      "Date:                Fri, 28 Mar 2025   Prob (F-statistic):           1.12e-60\n",
      "Time:                        20:52:56   Log-Likelihood:                -38608.\n",
      "No. Observations:                6818   AIC:                         7.722e+04\n",
      "Df Residuals:                    6815   BIC:                         7.724e+04\n",
      "Df Model:                           2                                         \n",
      "Covariance Type:            nonrobust                                         \n",
      "==============================================================================\n",
      "                 coef    std err          t      P>|t|      [0.025      0.975]\n",
      "------------------------------------------------------------------------------\n",
      "Intercept     94.0678      2.275     41.342      0.000      89.607      98.528\n",
      "Diet          12.2022      0.729     16.747      0.000      10.774      13.631\n",
      "Time           0.1238      0.125      0.990      0.322      -0.121       0.369\n",
      "==============================================================================\n",
      "Omnibus:                      694.766   Durbin-Watson:                   0.055\n",
      "Prob(Omnibus):                  0.000   Jarque-Bera (JB):              922.241\n",
      "Skew:                           0.886   Prob(JB):                    5.47e-201\n",
      "Kurtosis:                       3.326   Cond. No.                         35.8\n",
      "==============================================================================\n",
      "\n",
      "Notes:\n",
      "[1] Standard Errors assume that the covariance matrix of the errors is correctly specified.\n"
     ]
    },
    {
     "data": {
      "image/png": "[encoded data removed]",
      "text/plain": [
       "<Figure size 558.875x500 with 1 Axes>"
      ]
     },
     "metadata": {},
     "output_type": "display_data"
    }
   ],
   "source": [
    "# Join experimental and covariate data\n",
    "merged_chick_data = pd.merge(exp_chick_data, \n",
    "                             cov_chick_data, on='Chick')\n",
    "\n",
    "# Perform ANCOVA with Diet and Time as predictors\n",
    "model = ols('weight ~ Diet + Time', data=merged_chick_data).fit()\n",
    "\n",
    "# Print a summary of the model\n",
    "print(model.summary())\n",
    "\n",
    "# Visualize Diet effects with Time adjustment\n",
    "sns.lmplot(x='Time', y='weight', \n",
    "         hue='Diet', \n",
    "         data=merged_chick_data)\n",
    "plt.show()"
   ]
  }
 ],
 "metadata": {
  "kernelspec": {
   "display_name": "ds2",
   "language": "python",
   "name": "python3"
  },
  "language_info": {
   "codemirror_mode": {
    "name": "ipython",
    "version": 3
   },
   "file_extension": ".py",
   "mimetype": "text/x-python",
   "name": "python",
   "nbconvert_exporter": "python",
   "pygments_lexer": "ipython3",
   "version": "3.12.8"
  }
 },
 "nbformat": 4,
 "nbformat_minor": 2
}
