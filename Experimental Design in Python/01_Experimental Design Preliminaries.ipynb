{
 "cells": [
  {
   "cell_type": "markdown",
   "metadata": {
    "vscode": {
     "languageId": "plaintext"
    }
   },
   "source": [
    "# Experimental Design Preliminaries"
   ]
  },
  {
   "cell_type": "markdown",
   "metadata": {},
   "source": [
    "## Imports"
   ]
  },
  {
   "cell_type": "code",
   "execution_count": 25,
   "metadata": {},
   "outputs": [],
   "source": [
    "import pandas as pd\n",
    "import numpy as np\n",
    "import matplotlib.pyplot as plt\n",
    "import seaborn as sns\n",
    "from statsmodels.graphics.gofplots import qqplot"
   ]
  },
  {
   "cell_type": "code",
   "execution_count": 31,
   "metadata": {},
   "outputs": [],
   "source": [
    "from scipy.stats import shapiro\n",
    "from scipy.stats import anderson"
   ]
  },
  {
   "cell_type": "code",
   "execution_count": 3,
   "metadata": {},
   "outputs": [
    {
     "data": {
      "text/html": [
       "<div>\n",
       "<style scoped>\n",
       "    .dataframe tbody tr th:only-of-type {\n",
       "        vertical-align: middle;\n",
       "    }\n",
       "\n",
       "    .dataframe tbody tr th {\n",
       "        vertical-align: top;\n",
       "    }\n",
       "\n",
       "    .dataframe thead th {\n",
       "        text-align: right;\n",
       "    }\n",
       "</style>\n",
       "<table border=\"1\" class=\"dataframe\">\n",
       "  <thead>\n",
       "    <tr style=\"text-align: right;\">\n",
       "      <th></th>\n",
       "      <th>weight</th>\n",
       "      <th>Time</th>\n",
       "      <th>Chick</th>\n",
       "      <th>Diet</th>\n",
       "    </tr>\n",
       "  </thead>\n",
       "  <tbody>\n",
       "    <tr>\n",
       "      <th>37</th>\n",
       "      <td>49</td>\n",
       "      <td>2</td>\n",
       "      <td>4</td>\n",
       "      <td>1</td>\n",
       "    </tr>\n",
       "    <tr>\n",
       "      <th>506</th>\n",
       "      <td>41</td>\n",
       "      <td>0</td>\n",
       "      <td>45</td>\n",
       "      <td>4</td>\n",
       "    </tr>\n",
       "  </tbody>\n",
       "</table>\n",
       "</div>"
      ],
      "text/plain": [
       "     weight  Time  Chick  Diet\n",
       "37       49     2      4     1\n",
       "506      41     0     45     4"
      ]
     },
     "execution_count": 3,
     "metadata": {},
     "output_type": "execute_result"
    }
   ],
   "source": [
    "weights = pd.read_csv('chick_weight.csv')\n",
    "weights.sample(2)"
   ]
  },
  {
   "cell_type": "code",
   "execution_count": 26,
   "metadata": {},
   "outputs": [],
   "source": [
    "chicken_data = pd.read_csv('chick_weight.csv')"
   ]
  },
  {
   "cell_type": "code",
   "execution_count": 16,
   "metadata": {},
   "outputs": [
    {
     "data": {
      "text/html": [
       "<div>\n",
       "<style scoped>\n",
       "    .dataframe tbody tr th:only-of-type {\n",
       "        vertical-align: middle;\n",
       "    }\n",
       "\n",
       "    .dataframe tbody tr th {\n",
       "        vertical-align: top;\n",
       "    }\n",
       "\n",
       "    .dataframe thead th {\n",
       "        text-align: right;\n",
       "    }\n",
       "</style>\n",
       "<table border=\"1\" class=\"dataframe\">\n",
       "  <thead>\n",
       "    <tr style=\"text-align: right;\">\n",
       "      <th></th>\n",
       "      <th>net_wealth</th>\n",
       "      <th>service_involvement</th>\n",
       "      <th>high_wealth</th>\n",
       "    </tr>\n",
       "  </thead>\n",
       "  <tbody>\n",
       "    <tr>\n",
       "      <th>1707</th>\n",
       "      <td>121600.007360</td>\n",
       "      <td>8</td>\n",
       "      <td>0</td>\n",
       "    </tr>\n",
       "    <tr>\n",
       "      <th>278</th>\n",
       "      <td>179112.158701</td>\n",
       "      <td>6</td>\n",
       "      <td>0</td>\n",
       "    </tr>\n",
       "  </tbody>\n",
       "</table>\n",
       "</div>"
      ],
      "text/plain": [
       "         net_wealth  service_involvement  high_wealth\n",
       "1707  121600.007360                    8            0\n",
       "278   179112.158701                    6            0"
      ]
     },
     "execution_count": 16,
     "metadata": {},
     "output_type": "execute_result"
    }
   ],
   "source": [
    "wealth_data = pd.read_csv('wealth_data.csv')\n",
    "wealth_data.sample(2)"
   ]
  },
  {
   "cell_type": "markdown",
   "metadata": {},
   "source": [
    "## Setting up experiments"
   ]
  },
  {
   "cell_type": "markdown",
   "metadata": {},
   "source": [
    "### Non-random assignment of subjects"
   ]
  },
  {
   "cell_type": "code",
   "execution_count": 5,
   "metadata": {},
   "outputs": [
    {
     "name": "stdout",
     "output_type": "stream",
     "text": [
      "           group1      group2\n",
      "count  250.000000  328.000000\n",
      "mean   105.876000  133.969512\n",
      "std     61.548791   75.405361\n",
      "min     35.000000   39.000000\n",
      "25%     58.250000   68.000000\n",
      "50%     89.000000  123.000000\n",
      "75%    138.750000  184.000000\n",
      "max    331.000000  373.000000\n"
     ]
    }
   ],
   "source": [
    "# Non-random assignment\n",
    "group1_non_rand = weights.iloc[0:250, :]\n",
    "group2_non_rand = weights.iloc[250:, :]\n",
    "\n",
    "# Compare descriptive statistics of groups\n",
    "compare_df_non_rand = pd.concat([group1_non_rand['weight'].describe(), group2_non_rand['weight'].describe()], axis=1)\n",
    "compare_df_non_rand.columns = ['group1', 'group2']\n",
    "\n",
    "# Print to assess\n",
    "print(compare_df_non_rand)"
   ]
  },
  {
   "cell_type": "markdown",
   "metadata": {},
   "source": [
    "### Random assignment of subjects"
   ]
  },
  {
   "cell_type": "code",
   "execution_count": 6,
   "metadata": {},
   "outputs": [
    {
     "name": "stdout",
     "output_type": "stream",
     "text": [
      "           group1      group2\n",
      "count  250.000000  328.000000\n",
      "mean   120.608000  122.740854\n",
      "std     69.653347   72.226813\n",
      "min     35.000000   39.000000\n",
      "25%     64.000000   62.000000\n",
      "50%    106.000000  101.500000\n",
      "75%    163.750000  163.250000\n",
      "max    373.000000  361.000000\n"
     ]
    }
   ],
   "source": [
    "# Randomly assign half\n",
    "group1_random = weights.sample(250, random_state=42, replace=False)\n",
    "\n",
    "# Create second assignment\n",
    "group2_random = weights.drop(group1_random.index)\n",
    "\n",
    "# Compare assignments\n",
    "compare_df_random = pd.concat([group1_random['weight'].describe(), group2_random['weight'].describe()], axis=1)\n",
    "compare_df_random.columns = ['group1', 'group2']\n",
    "print(compare_df_random)"
   ]
  },
  {
   "cell_type": "markdown",
   "metadata": {},
   "source": [
    "## Experimental data setup"
   ]
  },
  {
   "cell_type": "code",
   "execution_count": 11,
   "metadata": {},
   "outputs": [],
   "source": [
    "productivity_subjects = pd.DataFrame({'subject_id': range(1, 101)})"
   ]
  },
  {
   "cell_type": "code",
   "execution_count": 12,
   "metadata": {},
   "outputs": [
    {
     "name": "stdout",
     "output_type": "stream",
     "text": [
      "block\n",
      "1    50\n",
      "2    50\n",
      "Name: count, dtype: int64\n"
     ]
    }
   ],
   "source": [
    "# Randomly assign half\n",
    "block_1 = productivity_subjects.sample(50, random_state=42, replace=False)\n",
    "\n",
    "# Set the block column\n",
    "block_1['block'] = 1\n",
    "\n",
    "# Create second assignment and label\n",
    "block_2 = productivity_subjects.drop(block_1.index)\n",
    "block_2['block'] = 2\n",
    "\n",
    "# Concatenate and print\n",
    "productivity_combined = pd.concat([block_1, block_2], axis=0)\n",
    "print(productivity_combined['block'].value_counts())"
   ]
  },
  {
   "cell_type": "markdown",
   "metadata": {},
   "source": [
    "### Stratifying an experiment"
   ]
  },
  {
   "cell_type": "code",
   "execution_count": 18,
   "metadata": {},
   "outputs": [],
   "source": [
    "# Create the first block\n",
    "strata_1 = wealth_data[wealth_data['high_wealth'] == 1].copy()\n",
    "strata_1['Block'] = 1\n",
    "\n",
    "# Create two groups assigning to Treatment or Control\n",
    "strata_1_g1 = strata_1.sample(frac=0.5, replace=False)\n",
    "strata_1_g1['T_C'] = 'T'\n",
    "strata_1_g2 = strata_1.drop(strata_1_g1.index)\n",
    "strata_1_g2['T_C'] = 'C'"
   ]
  },
  {
   "cell_type": "code",
   "execution_count": 20,
   "metadata": {},
   "outputs": [],
   "source": [
    "# Create the first block\n",
    "strata_1 = wealth_data[wealth_data['high_wealth'] == 1].copy()\n",
    "strata_1['Block'] = 1\n",
    "\n",
    "# Create two groups assigning to Treatment or Control\n",
    "strata_1_g1 = strata_1.sample(n=100, replace=False)\n",
    "strata_1_g1['T_C'] = 'T'\n",
    "strata_1_g2 = strata_1.drop(strata_1_g1.index)\n",
    "strata_1_g2['T_C'] = 'C'\n",
    "\n",
    "# Create the second block and assign groups\n",
    "strata_2 = wealth_data[wealth_data['high_wealth'] == 0].copy()\n",
    "strata_2['Block'] = 2\n",
    "\n",
    "strata_2_g1 = strata_2.sample(900, replace=False)\n",
    "strata_2_g1['T_C'] = 'T'\n",
    "strata_2_g2 = strata_2.drop(strata_2_g1.index)\n",
    "strata_2_g2['T_C'] = 'C'"
   ]
  },
  {
   "cell_type": "code",
   "execution_count": 21,
   "metadata": {},
   "outputs": [
    {
     "name": "stdout",
     "output_type": "stream",
     "text": [
      "Block  T_C  high_wealth\n",
      "1      C    1              100\n",
      "       T    1              100\n",
      "2      C    0              900\n",
      "       T    0              900\n",
      "dtype: int64\n"
     ]
    }
   ],
   "source": [
    "# Create the first block\n",
    "strata_1 = wealth_data[wealth_data['high_wealth'] == 1].copy()\n",
    "strata_1['Block'] = 1\n",
    "\n",
    "# Create two groups assigning to Treatment or Control\n",
    "strata_1_g1 = strata_1.sample(100, replace=False)\n",
    "strata_1_g1['T_C'] = 'T'\n",
    "strata_1_g2 = strata_1.drop(strata_1_g1.index)\n",
    "strata_1_g2['T_C'] = 'C'\n",
    "\n",
    "# Create the second block and assign groups\n",
    "strata_2 = wealth_data[wealth_data['high_wealth'] == 0].copy()\n",
    "strata_2['Block'] = 2\n",
    "\n",
    "strata_2_g1 = strata_2.sample(900, replace=False)\n",
    "strata_2_g1['T_C'] = 'T'\n",
    "strata_2_g2 = strata_2.drop(strata_2_g1.index)\n",
    "strata_2_g2['T_C'] = 'C'\n",
    "\n",
    "# Concatenate the grouping work\n",
    "wealth_data_stratified = pd.concat([strata_1_g1, strata_1_g2, strata_2_g1, strata_2_g2])\n",
    "print(wealth_data_stratified.groupby(['Block','T_C', 'high_wealth']).size())"
   ]
  },
  {
   "cell_type": "markdown",
   "metadata": {},
   "source": [
    "## Normal data"
   ]
  },
  {
   "cell_type": "markdown",
   "metadata": {},
   "source": [
    "### Visual normality in an agricultural experiment"
   ]
  },
  {
   "cell_type": "code",
   "execution_count": 27,
   "metadata": {},
   "outputs": [
    {
     "data": {
      "image/png": "[encoded data removed]",
      "text/plain": [
       "<Figure size 500x500 with 1 Axes>"
      ]
     },
     "metadata": {},
     "output_type": "display_data"
    }
   ],
   "source": [
    "# Plot the distribution of the chickens' weight\n",
    "sns.displot(data=chicken_data, x='weight', kind=\"kde\")\n",
    "plt.show()"
   ]
  },
  {
   "cell_type": "code",
   "execution_count": 29,
   "metadata": {},
   "outputs": [
    {
     "data": {
      "image/png": "[encoded data removed]",
      "text/plain": [
       "<Figure size 640x480 with 1 Axes>"
      ]
     },
     "metadata": {},
     "output_type": "display_data"
    }
   ],
   "source": [
    "# Plot the qq plot of the chickens' weight\n",
    "qqplot(data=chicken_data['weight'], line='s')\n",
    "plt.show()"
   ]
  },
  {
   "cell_type": "code",
   "execution_count": 30,
   "metadata": {},
   "outputs": [
    {
     "data": {
      "image/png": "[encoded data removed]",
      "text/plain": [
       "<Figure size 500x500 with 1 Axes>"
      ]
     },
     "metadata": {},
     "output_type": "display_data"
    }
   ],
   "source": [
    "# Subset the data and plot the weight of the subset\n",
    "subset_data = chicken_data[chicken_data['Time'] == 2].copy()\n",
    "\n",
    "sns.displot(data=subset_data, x='weight', kind=\"kde\")\n",
    "plt.show()"
   ]
  },
  {
   "cell_type": "markdown",
   "metadata": {},
   "source": [
    "### Analytical normality in an agricultural experiment"
   ]
  },
  {
   "cell_type": "code",
   "execution_count": null,
   "metadata": {},
   "outputs": [
    {
     "name": "stdout",
     "output_type": "stream",
     "text": [
      "p: 0.0 test stat: 0.9087\n"
     ]
    }
   ],
   "source": [
    "# Run a Shapiro-Wilk normality test on the weight column\n",
    "test_statistic, p_value = shapiro(chicken_data['weight'])\n",
    "\n",
    "print(f\"p: {round(p_value, 4)} test stat: {round(test_statistic, 4)}\")"
   ]
  },
  {
   "cell_type": "code",
   "execution_count": 34,
   "metadata": {},
   "outputs": [
    {
     "name": "stdout",
     "output_type": "stream",
     "text": [
      "Test statistic: 14.6868\n",
      "Significance Levels: [15.  10.   5.   2.5  1. ]\n",
      "Critical Values: [0.572 0.652 0.782 0.912 1.085]\n"
     ]
    }
   ],
   "source": [
    "# Run the Anderson-Darling test\n",
    "result = anderson(chicken_data['weight'], dist='norm')\n",
    "\n",
    "print(f\"Test statistic: {round(result.statistic, 4)}\")\n",
    "print(f\"Significance Levels: {result.significance_level}\")\n",
    "print(f\"Critical Values: {result.critical_values}\")"
   ]
  }
 ],
 "metadata": {
  "kernelspec": {
   "display_name": "ds2",
   "language": "python",
   "name": "python3"
  },
  "language_info": {
   "codemirror_mode": {
    "name": "ipython",
    "version": 3
   },
   "file_extension": ".py",
   "mimetype": "text/x-python",
   "name": "python",
   "nbconvert_exporter": "python",
   "pygments_lexer": "ipython3",
   "version": "3.12.8"
  }
 },
 "nbformat": 4,
 "nbformat_minor": 2
}
